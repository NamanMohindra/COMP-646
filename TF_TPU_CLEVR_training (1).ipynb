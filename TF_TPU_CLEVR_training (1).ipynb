{
  "nbformat": 4,
  "nbformat_minor": 0,
  "metadata": {
    "colab": {
      "name": "TF_TPU_CLEVR_training.ipynb",
      "provenance": [],
      "collapsed_sections": [],
      "machine_shape": "hm"
    },
    "kernelspec": {
      "name": "python3",
      "display_name": "Python 3"
    },
    "language_info": {
      "name": "python"
    },
    "accelerator": "TPU"
  },
  "cells": [
    {
      "cell_type": "code",
      "execution_count": null,
      "metadata": {
        "id": "L7iLrALcyp4p"
      },
      "outputs": [],
      "source": [
        "# takes about 5-7 minutes\n",
        "!wget https://dl.fbaipublicfiles.com/clevr/CLEVR_v1.0.zip\n",
        "# unzip the file takes about 3 min\n",
        "!unzip -q CLEVR_v1.0.zip"
      ]
    },
    {
      "cell_type": "code",
      "source": [
        "import tensorflow as tf\n",
        "import tensorflow_datasets as tfds\n",
        "import os, json\n",
        "from PIL import Image\n",
        "import numpy as np\n",
        "import pandas as pd\n",
        "from tensorflow import keras\n",
        "from tensorflow.keras import layers"
      ],
      "metadata": {
        "id": "UAPjEnoMyw9G"
      },
      "execution_count": null,
      "outputs": []
    },
    {
      "cell_type": "code",
      "source": [
        "!pip -q install transformers\n"
      ],
      "metadata": {
        "id": "bbWU8xnkyW4G",
        "colab": {
          "base_uri": "https://localhost:8080/"
        },
        "outputId": "96cc13c8-83e5-4265-87bf-4f512829371f"
      },
      "execution_count": null,
      "outputs": [
        {
          "output_type": "stream",
          "name": "stdout",
          "text": [
            "\u001b[K     |████████████████████████████████| 4.0 MB 5.2 MB/s \n",
            "\u001b[K     |████████████████████████████████| 596 kB 61.9 MB/s \n",
            "\u001b[K     |████████████████████████████████| 6.6 MB 63.9 MB/s \n",
            "\u001b[K     |████████████████████████████████| 895 kB 69.6 MB/s \n",
            "\u001b[K     |████████████████████████████████| 77 kB 6.8 MB/s \n",
            "\u001b[?25h"
          ]
        }
      ]
    },
    {
      "cell_type": "code",
      "source": [
        "from transformers import BertTokenizer, TFBertForSequenceClassification"
      ],
      "metadata": {
        "id": "pgG1X1ZelE5B"
      },
      "execution_count": null,
      "outputs": []
    },
    {
      "cell_type": "code",
      "source": [
        ""
      ],
      "metadata": {
        "id": "R0tMYVsbyW1i"
      },
      "execution_count": null,
      "outputs": []
    },
    {
      "cell_type": "code",
      "source": [
        "def CLEVER(categories,split = \"train\",transformation = None):\n",
        "    \n",
        "    json_dir = os.path.join('CLEVR_v1.0/','questions',f\"CLEVR_{split}_questions.json\")\n",
        "    image_dir = os.path.join('CLEVR_v1.0/','images',split)\n",
        "    tokenizer = BertTokenizer.from_pretrained('bert-base-uncased')\n",
        "    categories = categories\n",
        "    data = []\n",
        "    cat2id = {i:index for index,i in enumerate(categories)}\n",
        "    id2cat = {index:i for index,i in enumerate(categories)}\n",
        "    transformation = transformation\n",
        "    json_file = json.load(open(json_dir))\n",
        "    \n",
        "    for index,i in enumerate(json_file[\"questions\"]):\n",
        "        text = i[\"question\"]\n",
        "        answer = self.cat2id[i[\"answer\"]]\n",
        "        label_vector = torch.zeros((len(self.categories)))\n",
        "        label_vector[answer] = 1\n",
        "        data.append((i[\"image_index\"],i[\"image_filename\"],text,answer))\n",
        "        \n",
        "    for index in range(len(data)):\n",
        "        image_path = os.path.join(image_dir,data[index][1])\n",
        "        image = Image.open(image_path).convert('RGB')\n",
        "        if transformation != None:\n",
        "            image = transformation(image)\n",
        "        text = data[index][2]\n",
        "        encoded_text = tokenizer.encode_plus(\n",
        "                text, add_special_tokens = True, truncation = True, \n",
        "                max_length = 256, padding = 'max_length',\n",
        "                return_attention_mask = True,\n",
        "                return_tensors = 'pt')\n",
        "        text = encoded_text['input_ids'][0]\n",
        "        attention_mask = encoded_text['attention_mask'][0]\n",
        "        answer = data[index][3]\n",
        "        yield image,text,attention_mask,answer\n",
        "\n"
      ],
      "metadata": {
        "id": "PqyrZ-dw0E-i"
      },
      "execution_count": null,
      "outputs": []
    },
    {
      "cell_type": "code",
      "source": [
        "categories = ['0', '1', '10', '2', '3', '4', '5', '6', '7', '8', '9', 'blue', 'brown', 'cube', 'cyan', 'cylinder', 'gray', 'green', 'large', 'metal', 'no', 'purple', 'red', 'rubber', 'small', 'sphere', 'yellow', 'yes']\n",
        "print(categories)"
      ],
      "metadata": {
        "colab": {
          "base_uri": "https://localhost:8080/"
        },
        "id": "d3ipof6Qm3D2",
        "outputId": "827f57b5-23fc-4ed3-c285-4d1575d68f54"
      },
      "execution_count": null,
      "outputs": [
        {
          "output_type": "stream",
          "name": "stdout",
          "text": [
            "['0', '1', '10', '2', '3', '4', '5', '6', '7', '8', '9', 'blue', 'brown', 'cube', 'cyan', 'cylinder', 'gray', 'green', 'large', 'metal', 'no', 'purple', 'red', 'rubber', 'small', 'sphere', 'yellow', 'yes']\n"
          ]
        }
      ]
    },
    {
      "cell_type": "code",
      "source": [
        "data_gen = CLEVER(categories,\"train\",None)"
      ],
      "metadata": {
        "id": "nft4xwd9cufg"
      },
      "execution_count": null,
      "outputs": []
    },
    {
      "cell_type": "code",
      "source": [
        "dataset = tf.data.Dataset.from_generator(data_gen,output_types = (tf.float32))"
      ],
      "metadata": {
        "colab": {
          "base_uri": "https://localhost:8080/",
          "height": 328
        },
        "id": "sgaxbJxSl7OQ",
        "outputId": "212437ed-7a49-472f-ab82-d31efd56157e"
      },
      "execution_count": null,
      "outputs": [
        {
          "output_type": "error",
          "ename": "TypeError",
          "evalue": "ignored",
          "traceback": [
            "\u001b[0;31m---------------------------------------------------------------------------\u001b[0m",
            "\u001b[0;31mTypeError\u001b[0m                                 Traceback (most recent call last)",
            "\u001b[0;32m<ipython-input-44-63b303ac855b>\u001b[0m in \u001b[0;36m<module>\u001b[0;34m()\u001b[0m\n\u001b[0;32m----> 1\u001b[0;31m \u001b[0mdataset\u001b[0m \u001b[0;34m=\u001b[0m \u001b[0mtf\u001b[0m\u001b[0;34m.\u001b[0m\u001b[0mdata\u001b[0m\u001b[0;34m.\u001b[0m\u001b[0mDataset\u001b[0m\u001b[0;34m.\u001b[0m\u001b[0mfrom_generator\u001b[0m\u001b[0;34m(\u001b[0m\u001b[0mdata_gen\u001b[0m\u001b[0;34m,\u001b[0m\u001b[0moutput_types\u001b[0m \u001b[0;34m=\u001b[0m \u001b[0;34m(\u001b[0m\u001b[0mtf\u001b[0m\u001b[0;34m.\u001b[0m\u001b[0mfloat32\u001b[0m\u001b[0;34m)\u001b[0m\u001b[0;34m)\u001b[0m\u001b[0;34m\u001b[0m\u001b[0;34m\u001b[0m\u001b[0m\n\u001b[0m",
            "\u001b[0;32m/usr/local/lib/python3.7/dist-packages/tensorflow/python/util/deprecation.py\u001b[0m in \u001b[0;36mnew_func\u001b[0;34m(*args, **kwargs)\u001b[0m\n\u001b[1;32m    546\u001b[0m                 \u001b[0;34m'in a future version'\u001b[0m \u001b[0;32mif\u001b[0m \u001b[0mdate\u001b[0m \u001b[0;32mis\u001b[0m \u001b[0;32mNone\u001b[0m \u001b[0;32melse\u001b[0m \u001b[0;34m(\u001b[0m\u001b[0;34m'after %s'\u001b[0m \u001b[0;34m%\u001b[0m \u001b[0mdate\u001b[0m\u001b[0;34m)\u001b[0m\u001b[0;34m,\u001b[0m\u001b[0;34m\u001b[0m\u001b[0;34m\u001b[0m\u001b[0m\n\u001b[1;32m    547\u001b[0m                 instructions)\n\u001b[0;32m--> 548\u001b[0;31m       \u001b[0;32mreturn\u001b[0m \u001b[0mfunc\u001b[0m\u001b[0;34m(\u001b[0m\u001b[0;34m*\u001b[0m\u001b[0margs\u001b[0m\u001b[0;34m,\u001b[0m \u001b[0;34m**\u001b[0m\u001b[0mkwargs\u001b[0m\u001b[0;34m)\u001b[0m\u001b[0;34m\u001b[0m\u001b[0;34m\u001b[0m\u001b[0m\n\u001b[0m\u001b[1;32m    549\u001b[0m \u001b[0;34m\u001b[0m\u001b[0m\n\u001b[1;32m    550\u001b[0m     doc = _add_deprecated_arg_notice_to_docstring(\n",
            "\u001b[0;32m/usr/local/lib/python3.7/dist-packages/tensorflow/python/data/ops/dataset_ops.py\u001b[0m in \u001b[0;36mfrom_generator\u001b[0;34m(generator, output_types, output_shapes, args, output_signature, name)\u001b[0m\n\u001b[1;32m    917\u001b[0m     \"\"\"\n\u001b[1;32m    918\u001b[0m     \u001b[0;32mif\u001b[0m \u001b[0;32mnot\u001b[0m \u001b[0mcallable\u001b[0m\u001b[0;34m(\u001b[0m\u001b[0mgenerator\u001b[0m\u001b[0;34m)\u001b[0m\u001b[0;34m:\u001b[0m\u001b[0;34m\u001b[0m\u001b[0;34m\u001b[0m\u001b[0m\n\u001b[0;32m--> 919\u001b[0;31m       \u001b[0;32mraise\u001b[0m \u001b[0mTypeError\u001b[0m\u001b[0;34m(\u001b[0m\u001b[0;34m\"`generator` must be a Python callable.\"\u001b[0m\u001b[0;34m)\u001b[0m\u001b[0;34m\u001b[0m\u001b[0;34m\u001b[0m\u001b[0m\n\u001b[0m\u001b[1;32m    920\u001b[0m \u001b[0;34m\u001b[0m\u001b[0m\n\u001b[1;32m    921\u001b[0m     \u001b[0;32mif\u001b[0m \u001b[0moutput_signature\u001b[0m \u001b[0;32mis\u001b[0m \u001b[0;32mnot\u001b[0m \u001b[0;32mNone\u001b[0m\u001b[0;34m:\u001b[0m\u001b[0;34m\u001b[0m\u001b[0;34m\u001b[0m\u001b[0m\n",
            "\u001b[0;31mTypeError\u001b[0m: `generator` must be a Python callable."
          ]
        }
      ]
    },
    {
      "cell_type": "code",
      "source": [
        "\n",
        "def transform(image):\n",
        "    x = image.resize((224,224))\n",
        "    x = np.array(x)\n",
        "    x = tf.image.convert_image_dtype(x, tf.float32, saturate=False, name=None)\n",
        "    return x\n",
        "def make_gen_callable(categories,split,transformation):\n",
        "    def CLEVER():\n",
        "        json_dir = os.path.join('CLEVR_v1.0/','questions',f\"CLEVR_{split}_questions.json\")\n",
        "        image_dir = os.path.join('CLEVR_v1.0/','images',split)\n",
        "        tokenizer = BertTokenizer.from_pretrained('bert-base-uncased')\n",
        "\n",
        "        data = []\n",
        "        cat2id = {i:index for index,i in enumerate(categories)}\n",
        "        id2cat = {index:i for index,i in enumerate(categories)}\n",
        "\n",
        "        json_file = json.load(open(json_dir))\n",
        "        \n",
        "        for index,i in enumerate(json_file[\"questions\"]):\n",
        "            text = i[\"question\"]\n",
        "            answer = cat2id[i[\"answer\"]]\n",
        "            data.append((i[\"image_index\"],i[\"image_filename\"],text,answer))\n",
        "            \n",
        "        for index in range(len(data)):\n",
        "            image_path = os.path.join(image_dir,data[index][1])\n",
        "            image = Image.open(image_path).convert('RGB')\n",
        "            if transformation != None:\n",
        "                image = transformation(image)\n",
        "            print(image.shape)\n",
        "            text = data[index][2]\n",
        "            encoded_text = tokenizer.encode_plus(\n",
        "                    text, add_special_tokens = True, truncation = True, \n",
        "                    max_length = 256, padding = 'max_length',\n",
        "                    return_attention_mask = True,\n",
        "                    return_tensors = 'pt')\n",
        "            text = encoded_text['input_ids'][0]\n",
        "            attention_mask = encoded_text['attention_mask'][0]\n",
        "            answer = data[index][3]\n",
        "            yield image,text,attention_mask,answer\n",
        "    return CLEVER\n"
      ],
      "metadata": {
        "id": "tBAIsp9Il7MX"
      },
      "execution_count": null,
      "outputs": []
    },
    {
      "cell_type": "code",
      "source": [
        "data_gen = make_gen_callable(categories,\"train\",transform)\n",
        "dataset = tf.data.Dataset.from_generator(data_gen,output_types = (tf.float32))"
      ],
      "metadata": {
        "id": "23PvieVQl7Jz"
      },
      "execution_count": null,
      "outputs": []
    },
    {
      "cell_type": "code",
      "source": [
        "iterator = iter(dataset)\n",
        "\n",
        "print(iterator.get_next())"
      ],
      "metadata": {
        "colab": {
          "base_uri": "https://localhost:8080/",
          "height": 1000
        },
        "id": "0gRgOyPdCa0v",
        "outputId": "071d6de1-635b-44df-90f1-8813a73eabf9"
      },
      "execution_count": null,
      "outputs": [
        {
          "output_type": "stream",
          "name": "stdout",
          "text": [
            "(224, 224, 3)\n"
          ]
        },
        {
          "output_type": "error",
          "ename": "UnknownError",
          "evalue": "ignored",
          "traceback": [
            "\u001b[0;31m---------------------------------------------------------------------------\u001b[0m",
            "\u001b[0;31mUnknownError\u001b[0m                              Traceback (most recent call last)",
            "\u001b[0;32m<ipython-input-63-1406c414db9a>\u001b[0m in \u001b[0;36m<module>\u001b[0;34m()\u001b[0m\n\u001b[1;32m      1\u001b[0m \u001b[0miterator\u001b[0m \u001b[0;34m=\u001b[0m \u001b[0miter\u001b[0m\u001b[0;34m(\u001b[0m\u001b[0mdataset\u001b[0m\u001b[0;34m)\u001b[0m\u001b[0;34m\u001b[0m\u001b[0;34m\u001b[0m\u001b[0m\n\u001b[0;32m----> 2\u001b[0;31m \u001b[0mprint\u001b[0m\u001b[0;34m(\u001b[0m\u001b[0miterator\u001b[0m\u001b[0;34m.\u001b[0m\u001b[0mget_next\u001b[0m\u001b[0;34m(\u001b[0m\u001b[0;34m)\u001b[0m\u001b[0;34m)\u001b[0m\u001b[0;34m\u001b[0m\u001b[0;34m\u001b[0m\u001b[0m\n\u001b[0m",
            "\u001b[0;32m/usr/local/lib/python3.7/dist-packages/tensorflow/python/data/ops/iterator_ops.py\u001b[0m in \u001b[0;36mget_next\u001b[0;34m(self)\u001b[0m\n\u001b[1;32m    887\u001b[0m \u001b[0;34m\u001b[0m\u001b[0m\n\u001b[1;32m    888\u001b[0m   \u001b[0;32mdef\u001b[0m \u001b[0mget_next\u001b[0m\u001b[0;34m(\u001b[0m\u001b[0mself\u001b[0m\u001b[0;34m)\u001b[0m\u001b[0;34m:\u001b[0m\u001b[0;34m\u001b[0m\u001b[0;34m\u001b[0m\u001b[0m\n\u001b[0;32m--> 889\u001b[0;31m     \u001b[0;32mreturn\u001b[0m \u001b[0mself\u001b[0m\u001b[0;34m.\u001b[0m\u001b[0m_next_internal\u001b[0m\u001b[0;34m(\u001b[0m\u001b[0;34m)\u001b[0m\u001b[0;34m\u001b[0m\u001b[0;34m\u001b[0m\u001b[0m\n\u001b[0m\u001b[1;32m    890\u001b[0m \u001b[0;34m\u001b[0m\u001b[0m\n\u001b[1;32m    891\u001b[0m   \u001b[0;32mdef\u001b[0m \u001b[0mget_next_as_optional\u001b[0m\u001b[0;34m(\u001b[0m\u001b[0mself\u001b[0m\u001b[0;34m)\u001b[0m\u001b[0;34m:\u001b[0m\u001b[0;34m\u001b[0m\u001b[0;34m\u001b[0m\u001b[0m\n",
            "\u001b[0;32m/usr/local/lib/python3.7/dist-packages/tensorflow/python/data/ops/iterator_ops.py\u001b[0m in \u001b[0;36m_next_internal\u001b[0;34m(self)\u001b[0m\n\u001b[1;32m    820\u001b[0m           \u001b[0mself\u001b[0m\u001b[0;34m.\u001b[0m\u001b[0m_iterator_resource\u001b[0m\u001b[0;34m,\u001b[0m\u001b[0;34m\u001b[0m\u001b[0;34m\u001b[0m\u001b[0m\n\u001b[1;32m    821\u001b[0m           \u001b[0moutput_types\u001b[0m\u001b[0;34m=\u001b[0m\u001b[0mself\u001b[0m\u001b[0;34m.\u001b[0m\u001b[0m_flat_output_types\u001b[0m\u001b[0;34m,\u001b[0m\u001b[0;34m\u001b[0m\u001b[0;34m\u001b[0m\u001b[0m\n\u001b[0;32m--> 822\u001b[0;31m           output_shapes=self._flat_output_shapes)\n\u001b[0m\u001b[1;32m    823\u001b[0m \u001b[0;34m\u001b[0m\u001b[0m\n\u001b[1;32m    824\u001b[0m       \u001b[0;32mtry\u001b[0m\u001b[0;34m:\u001b[0m\u001b[0;34m\u001b[0m\u001b[0;34m\u001b[0m\u001b[0m\n",
            "\u001b[0;32m/usr/local/lib/python3.7/dist-packages/tensorflow/python/ops/gen_dataset_ops.py\u001b[0m in \u001b[0;36miterator_get_next\u001b[0;34m(iterator, output_types, output_shapes, name)\u001b[0m\n\u001b[1;32m   2921\u001b[0m       \u001b[0;32mreturn\u001b[0m \u001b[0m_result\u001b[0m\u001b[0;34m\u001b[0m\u001b[0;34m\u001b[0m\u001b[0m\n\u001b[1;32m   2922\u001b[0m     \u001b[0;32mexcept\u001b[0m \u001b[0m_core\u001b[0m\u001b[0;34m.\u001b[0m\u001b[0m_NotOkStatusException\u001b[0m \u001b[0;32mas\u001b[0m \u001b[0me\u001b[0m\u001b[0;34m:\u001b[0m\u001b[0;34m\u001b[0m\u001b[0;34m\u001b[0m\u001b[0m\n\u001b[0;32m-> 2923\u001b[0;31m       \u001b[0m_ops\u001b[0m\u001b[0;34m.\u001b[0m\u001b[0mraise_from_not_ok_status\u001b[0m\u001b[0;34m(\u001b[0m\u001b[0me\u001b[0m\u001b[0;34m,\u001b[0m \u001b[0mname\u001b[0m\u001b[0;34m)\u001b[0m\u001b[0;34m\u001b[0m\u001b[0;34m\u001b[0m\u001b[0m\n\u001b[0m\u001b[1;32m   2924\u001b[0m     \u001b[0;32mexcept\u001b[0m \u001b[0m_core\u001b[0m\u001b[0;34m.\u001b[0m\u001b[0m_FallbackException\u001b[0m\u001b[0;34m:\u001b[0m\u001b[0;34m\u001b[0m\u001b[0;34m\u001b[0m\u001b[0m\n\u001b[1;32m   2925\u001b[0m       \u001b[0;32mpass\u001b[0m\u001b[0;34m\u001b[0m\u001b[0;34m\u001b[0m\u001b[0m\n",
            "\u001b[0;32m/usr/local/lib/python3.7/dist-packages/tensorflow/python/framework/ops.py\u001b[0m in \u001b[0;36mraise_from_not_ok_status\u001b[0;34m(e, name)\u001b[0m\n\u001b[1;32m   7184\u001b[0m \u001b[0;32mdef\u001b[0m \u001b[0mraise_from_not_ok_status\u001b[0m\u001b[0;34m(\u001b[0m\u001b[0me\u001b[0m\u001b[0;34m,\u001b[0m \u001b[0mname\u001b[0m\u001b[0;34m)\u001b[0m\u001b[0;34m:\u001b[0m\u001b[0;34m\u001b[0m\u001b[0;34m\u001b[0m\u001b[0m\n\u001b[1;32m   7185\u001b[0m   \u001b[0me\u001b[0m\u001b[0;34m.\u001b[0m\u001b[0mmessage\u001b[0m \u001b[0;34m+=\u001b[0m \u001b[0;34m(\u001b[0m\u001b[0;34m\" name: \"\u001b[0m \u001b[0;34m+\u001b[0m \u001b[0mname\u001b[0m \u001b[0;32mif\u001b[0m \u001b[0mname\u001b[0m \u001b[0;32mis\u001b[0m \u001b[0;32mnot\u001b[0m \u001b[0;32mNone\u001b[0m \u001b[0;32melse\u001b[0m \u001b[0;34m\"\"\u001b[0m\u001b[0;34m)\u001b[0m\u001b[0;34m\u001b[0m\u001b[0;34m\u001b[0m\u001b[0m\n\u001b[0;32m-> 7186\u001b[0;31m   \u001b[0;32mraise\u001b[0m \u001b[0mcore\u001b[0m\u001b[0;34m.\u001b[0m\u001b[0m_status_to_exception\u001b[0m\u001b[0;34m(\u001b[0m\u001b[0me\u001b[0m\u001b[0;34m)\u001b[0m \u001b[0;32mfrom\u001b[0m \u001b[0;32mNone\u001b[0m  \u001b[0;31m# pylint: disable=protected-access\u001b[0m\u001b[0;34m\u001b[0m\u001b[0;34m\u001b[0m\u001b[0m\n\u001b[0m\u001b[1;32m   7187\u001b[0m \u001b[0;34m\u001b[0m\u001b[0m\n\u001b[1;32m   7188\u001b[0m \u001b[0;34m\u001b[0m\u001b[0m\n",
            "\u001b[0;31mUnknownError\u001b[0m: InvalidArgumentError: Shapes of all inputs must match: values[0].shape = [224,224,3] != values[1].shape = [256] [Op:Pack]\nTraceback (most recent call last):\n\n  File \"/usr/local/lib/python3.7/dist-packages/tensorflow/python/ops/script_ops.py\", line 269, in __call__\n    return func(device, token, args)\n\n  File \"/usr/local/lib/python3.7/dist-packages/tensorflow/python/ops/script_ops.py\", line 147, in __call__\n    outputs = self._call(device, args)\n\n  File \"/usr/local/lib/python3.7/dist-packages/tensorflow/python/ops/script_ops.py\", line 154, in _call\n    ret = self._func(*args)\n\n  File \"/usr/local/lib/python3.7/dist-packages/tensorflow/python/autograph/impl/api.py\", line 642, in wrapper\n    return func(*args, **kwargs)\n\n  File \"/usr/local/lib/python3.7/dist-packages/tensorflow/python/data/ops/dataset_ops.py\", line 1074, in generator_py_func\n    values = structure.normalize_element(values, output_signature)\n\n  File \"/usr/local/lib/python3.7/dist-packages/tensorflow/python/data/util/structure.py\", line 125, in normalize_element\n    ops.convert_to_tensor(t, name=\"component_%d\" % i, dtype=dtype))\n\n  File \"/usr/local/lib/python3.7/dist-packages/tensorflow/python/profiler/trace.py\", line 183, in wrapped\n    return func(*args, **kwargs)\n\n  File \"/usr/local/lib/python3.7/dist-packages/tensorflow/python/framework/ops.py\", line 1695, in convert_to_tensor\n    ret = conversion_func(value, dtype=dtype, name=name, as_ref=as_ref)\n\n  File \"/usr/local/lib/python3.7/dist-packages/tensorflow/python/ops/array_ops.py\", line 1547, in _autopacking_conversion_function\n    return _autopacking_helper(v, dtype, name or \"packed\")\n\n  File \"/usr/local/lib/python3.7/dist-packages/tensorflow/python/ops/array_ops.py\", line 1483, in _autopacking_helper\n    return gen_array_ops.pack(elems_as_tensors, name=scope)\n\n  File \"/usr/local/lib/python3.7/dist-packages/tensorflow/python/ops/gen_array_ops.py\", line 6548, in pack\n    _ops.raise_from_not_ok_status(e, name)\n\n  File \"/usr/local/lib/python3.7/dist-packages/tensorflow/python/framework/ops.py\", line 7186, in raise_from_not_ok_status\n    raise core._status_to_exception(e) from None  # pylint: disable=protected-access\n\ntensorflow.python.framework.errors_impl.InvalidArgumentError: Shapes of all inputs must match: values[0].shape = [224,224,3] != values[1].shape = [256] [Op:Pack]\n\n\n\t [[{{node EagerPyFunc}}]] [Op:IteratorGetNext]"
          ]
        }
      ]
    },
    {
      "cell_type": "code",
      "source": [
        ""
      ],
      "metadata": {
        "id": "EEcl1rbXCaym"
      },
      "execution_count": null,
      "outputs": []
    },
    {
      "cell_type": "code",
      "source": [
        ""
      ],
      "metadata": {
        "id": "yHkgpYXEjtTf"
      },
      "execution_count": null,
      "outputs": []
    },
    {
      "cell_type": "markdown",
      "source": [
        "## FINAL TRY"
      ],
      "metadata": {
        "id": "Boj_j5TZDt8Q"
      }
    },
    {
      "cell_type": "code",
      "source": [
        "training_questions = json.load(open(\"CLEVR_v1.0/questions/CLEVR_train_questions.json\"))\n"
      ],
      "metadata": {
        "id": "8WW2gUVvjtQ_"
      },
      "execution_count": null,
      "outputs": []
    },
    {
      "cell_type": "code",
      "source": [
        "categories = ['0', '1', '10', '2', '3', '4', '5', '6', '7', '8', '9', 'blue', 'brown', 'cube', 'cyan', 'cylinder', 'gray', 'green', 'large', 'metal', 'no', 'purple', 'red', 'rubber', 'small', 'sphere', 'yellow', 'yes']\n",
        "print(categories)"
      ],
      "metadata": {
        "colab": {
          "base_uri": "https://localhost:8080/"
        },
        "id": "D2g8i951D0UP",
        "outputId": "c63de278-3eac-445c-c7fa-5a2ef0289a5e"
      },
      "execution_count": null,
      "outputs": [
        {
          "output_type": "stream",
          "name": "stdout",
          "text": [
            "['0', '1', '10', '2', '3', '4', '5', '6', '7', '8', '9', 'blue', 'brown', 'cube', 'cyan', 'cylinder', 'gray', 'green', 'large', 'metal', 'no', 'purple', 'red', 'rubber', 'small', 'sphere', 'yellow', 'yes']\n"
          ]
        }
      ]
    },
    {
      "cell_type": "code",
      "source": [
        "file_names = []\n",
        "labels = []\n",
        "questions = []\n",
        "masks = []\n",
        "\n",
        "tokenizer = BertTokenizer.from_pretrained('bert-base-uncased')\n",
        "cat2id = {i:index for index,i in enumerate(categories)}\n",
        "\n",
        "for index,i in enumerate(training_questions[\"questions\"][:10000]):\n",
        "    #name = tf.convert_to_tensor(\"CLEVR_v1.0/\" + \"images/\"+ \"train/\" + i[\"image_filename\"],dtype = tf.string)\n",
        "    name = \"CLEVR_v1.0/\" + \"images/\"+ \"train/\" + i[\"image_filename\"]\n",
        "    file_names.append(name)\n",
        "\n",
        "\n",
        "    answer = cat2id[i[\"answer\"]]\n",
        "    label_vector = np.zeros((len(categories)))\n",
        "    label_vector[answer] = 1\n",
        "    #label_vector = tf.convert_to_tensor(label_vector,dtype = tf.int32)\n",
        "    labels.append(label_vector)\n",
        "    \n",
        "    encoded_text = tokenizer.encode_plus(\n",
        "                i[\"question\"], add_special_tokens = True, truncation = True, \n",
        "                max_length = 256, padding = 'max_length',\n",
        "                return_attention_mask = True,\n",
        "                return_tensors = 'pt')\n",
        "    #input_id = tf.convert_to_tensor(encoded_text[\"input_ids\"][0],dtype = tf.int32)\n",
        "    questions.append(encoded_text[\"input_ids\"][0])\n",
        "    \n",
        "    #attention = tf.convert_to_tensor(encoded_text['attention_mask'][0],dtype = tf.int32)\n",
        "    masks.append(encoded_text['attention_mask'][0])\n",
        "\n",
        "\n",
        "\n",
        "df = pd.DataFrame()\n",
        "df[\"files\"] = file_names\n",
        "df[\"labels\"] = labels\n",
        "df[\"questions\"] = questions\n",
        "df[\"masks\"] = masks"
      ],
      "metadata": {
        "id": "GowuLp_RrV9i"
      },
      "execution_count": null,
      "outputs": []
    },
    {
      "cell_type": "code",
      "source": [
        ""
      ],
      "metadata": {
        "id": "rtlVAKPILvFF"
      },
      "execution_count": null,
      "outputs": []
    },
    {
      "cell_type": "code",
      "source": [
        "for i in df.columns:\n",
        "    if i not in [\"files\"]:\n",
        "        df[i] = df[i].apply(lambda x:str(x))"
      ],
      "metadata": {
        "id": "55oHjRWZGWJT"
      },
      "execution_count": null,
      "outputs": []
    },
    {
      "cell_type": "code",
      "source": [
        "tf_dataset = tf.data.Dataset.from_tensor_slices(df)"
      ],
      "metadata": {
        "id": "LduJ1539k0E6"
      },
      "execution_count": null,
      "outputs": []
    },
    {
      "cell_type": "code",
      "source": [
        "def get_inputs(file_path):\n",
        "    print(len(file_path))\n",
        "    image = tf.io.read_file(file_path[0])\n",
        "    #image = tf.image.resize(image,(224,224,3))\n",
        "    image = tf.image.decode_image(image,channels = 3,dtype = tf.float32)\n",
        "    #labels = tf.strings.to_number(file_path[1],out_type = tf.int32)\n",
        "    labels = file_path[1]\n",
        "    #questions = tf.strings.to_number(file_path[2],out_type = tf.int32)\n",
        "    questions = file_path[2]\n",
        "    #masks = tf.strings.to_number(file_path[3],out_type = tf.int32)\n",
        "    masks = file_path[3]\n",
        "    return (image,questions,masks),labels\n",
        "\n",
        "tf_dataset = tf_dataset.map(get_inputs).batch(64)"
      ],
      "metadata": {
        "colab": {
          "base_uri": "https://localhost:8080/"
        },
        "id": "Ae1jm5RMqluV",
        "outputId": "7c185eb3-c3eb-4d15-c738-a94e8b80d45e"
      },
      "execution_count": null,
      "outputs": [
        {
          "output_type": "stream",
          "name": "stdout",
          "text": [
            "4\n"
          ]
        }
      ]
    },
    {
      "cell_type": "code",
      "source": [
        "for inputs,labels in tf_dataset:\n",
        "    #print(img,label,question,mask)\n",
        "    print(inputs,labels)\n",
        "    break"
      ],
      "metadata": {
        "colab": {
          "base_uri": "https://localhost:8080/"
        },
        "id": "su1SM1lgA5ao",
        "outputId": "7dac2123-8d86-4171-8cdf-a02f22944017"
      },
      "execution_count": null,
      "outputs": [
        {
          "output_type": "stream",
          "name": "stdout",
          "text": [
            "(<tf.Tensor: shape=(64, 320, 480, 3), dtype=float32, numpy=\n",
            "array([[[[0.41960785, 0.41960785, 0.41960785],\n",
            "         [0.4117647 , 0.4117647 , 0.4117647 ],\n",
            "         [0.41568628, 0.4117647 , 0.4117647 ],\n",
            "         ...,\n",
            "         [0.40784314, 0.40392157, 0.40392157],\n",
            "         [0.4       , 0.4       , 0.4       ],\n",
            "         [0.40392157, 0.40392157, 0.40392157]],\n",
            "\n",
            "        [[0.4117647 , 0.4117647 , 0.4117647 ],\n",
            "         [0.41568628, 0.41568628, 0.41568628],\n",
            "         [0.4117647 , 0.4117647 , 0.4117647 ],\n",
            "         ...,\n",
            "         [0.4       , 0.4       , 0.4       ],\n",
            "         [0.4       , 0.4       , 0.4       ],\n",
            "         [0.40392157, 0.40392157, 0.40392157]],\n",
            "\n",
            "        [[0.41568628, 0.4117647 , 0.4117647 ],\n",
            "         [0.41568628, 0.41568628, 0.41568628],\n",
            "         [0.41568628, 0.41568628, 0.4117647 ],\n",
            "         ...,\n",
            "         [0.40392157, 0.40392157, 0.4       ],\n",
            "         [0.40784314, 0.40784314, 0.40784314],\n",
            "         [0.4       , 0.4       , 0.4       ]],\n",
            "\n",
            "        ...,\n",
            "\n",
            "        [[0.4627451 , 0.45882353, 0.45490196],\n",
            "         [0.45882353, 0.45490196, 0.4509804 ],\n",
            "         [0.4627451 , 0.45882353, 0.4509804 ],\n",
            "         ...,\n",
            "         [0.627451  , 0.6117647 , 0.5921569 ],\n",
            "         [0.627451  , 0.6156863 , 0.5921569 ],\n",
            "         [0.62352943, 0.6117647 , 0.5921569 ]],\n",
            "\n",
            "        [[0.4627451 , 0.45882353, 0.45490196],\n",
            "         [0.45882353, 0.45490196, 0.4509804 ],\n",
            "         [0.4627451 , 0.45882353, 0.45490196],\n",
            "         ...,\n",
            "         [0.627451  , 0.6156863 , 0.5921569 ],\n",
            "         [0.62352943, 0.6117647 , 0.5921569 ],\n",
            "         [0.627451  , 0.6156863 , 0.5921569 ]],\n",
            "\n",
            "        [[0.45882353, 0.45490196, 0.4509804 ],\n",
            "         [0.4627451 , 0.45882353, 0.45490196],\n",
            "         [0.45882353, 0.45490196, 0.4509804 ],\n",
            "         ...,\n",
            "         [0.62352943, 0.6117647 , 0.5921569 ],\n",
            "         [0.62352943, 0.6117647 , 0.5921569 ],\n",
            "         [0.627451  , 0.6156863 , 0.5921569 ]]],\n",
            "\n",
            "\n",
            "       [[[0.41960785, 0.41960785, 0.41960785],\n",
            "         [0.4117647 , 0.4117647 , 0.4117647 ],\n",
            "         [0.41568628, 0.4117647 , 0.4117647 ],\n",
            "         ...,\n",
            "         [0.40784314, 0.40392157, 0.40392157],\n",
            "         [0.4       , 0.4       , 0.4       ],\n",
            "         [0.40392157, 0.40392157, 0.40392157]],\n",
            "\n",
            "        [[0.4117647 , 0.4117647 , 0.4117647 ],\n",
            "         [0.41568628, 0.41568628, 0.41568628],\n",
            "         [0.4117647 , 0.4117647 , 0.4117647 ],\n",
            "         ...,\n",
            "         [0.4       , 0.4       , 0.4       ],\n",
            "         [0.4       , 0.4       , 0.4       ],\n",
            "         [0.40392157, 0.40392157, 0.40392157]],\n",
            "\n",
            "        [[0.41568628, 0.4117647 , 0.4117647 ],\n",
            "         [0.41568628, 0.41568628, 0.41568628],\n",
            "         [0.41568628, 0.41568628, 0.4117647 ],\n",
            "         ...,\n",
            "         [0.40392157, 0.40392157, 0.4       ],\n",
            "         [0.40784314, 0.40784314, 0.40784314],\n",
            "         [0.4       , 0.4       , 0.4       ]],\n",
            "\n",
            "        ...,\n",
            "\n",
            "        [[0.4627451 , 0.45882353, 0.45490196],\n",
            "         [0.45882353, 0.45490196, 0.4509804 ],\n",
            "         [0.4627451 , 0.45882353, 0.4509804 ],\n",
            "         ...,\n",
            "         [0.627451  , 0.6117647 , 0.5921569 ],\n",
            "         [0.627451  , 0.6156863 , 0.5921569 ],\n",
            "         [0.62352943, 0.6117647 , 0.5921569 ]],\n",
            "\n",
            "        [[0.4627451 , 0.45882353, 0.45490196],\n",
            "         [0.45882353, 0.45490196, 0.4509804 ],\n",
            "         [0.4627451 , 0.45882353, 0.45490196],\n",
            "         ...,\n",
            "         [0.627451  , 0.6156863 , 0.5921569 ],\n",
            "         [0.62352943, 0.6117647 , 0.5921569 ],\n",
            "         [0.627451  , 0.6156863 , 0.5921569 ]],\n",
            "\n",
            "        [[0.45882353, 0.45490196, 0.4509804 ],\n",
            "         [0.4627451 , 0.45882353, 0.45490196],\n",
            "         [0.45882353, 0.45490196, 0.4509804 ],\n",
            "         ...,\n",
            "         [0.62352943, 0.6117647 , 0.5921569 ],\n",
            "         [0.62352943, 0.6117647 , 0.5921569 ],\n",
            "         [0.627451  , 0.6156863 , 0.5921569 ]]],\n",
            "\n",
            "\n",
            "       [[[0.41960785, 0.41960785, 0.41960785],\n",
            "         [0.4117647 , 0.4117647 , 0.4117647 ],\n",
            "         [0.41568628, 0.4117647 , 0.4117647 ],\n",
            "         ...,\n",
            "         [0.40784314, 0.40392157, 0.40392157],\n",
            "         [0.4       , 0.4       , 0.4       ],\n",
            "         [0.40392157, 0.40392157, 0.40392157]],\n",
            "\n",
            "        [[0.4117647 , 0.4117647 , 0.4117647 ],\n",
            "         [0.41568628, 0.41568628, 0.41568628],\n",
            "         [0.4117647 , 0.4117647 , 0.4117647 ],\n",
            "         ...,\n",
            "         [0.4       , 0.4       , 0.4       ],\n",
            "         [0.4       , 0.4       , 0.4       ],\n",
            "         [0.40392157, 0.40392157, 0.40392157]],\n",
            "\n",
            "        [[0.41568628, 0.4117647 , 0.4117647 ],\n",
            "         [0.41568628, 0.41568628, 0.41568628],\n",
            "         [0.41568628, 0.41568628, 0.4117647 ],\n",
            "         ...,\n",
            "         [0.40392157, 0.40392157, 0.4       ],\n",
            "         [0.40784314, 0.40784314, 0.40784314],\n",
            "         [0.4       , 0.4       , 0.4       ]],\n",
            "\n",
            "        ...,\n",
            "\n",
            "        [[0.4627451 , 0.45882353, 0.45490196],\n",
            "         [0.45882353, 0.45490196, 0.4509804 ],\n",
            "         [0.4627451 , 0.45882353, 0.4509804 ],\n",
            "         ...,\n",
            "         [0.627451  , 0.6117647 , 0.5921569 ],\n",
            "         [0.627451  , 0.6156863 , 0.5921569 ],\n",
            "         [0.62352943, 0.6117647 , 0.5921569 ]],\n",
            "\n",
            "        [[0.4627451 , 0.45882353, 0.45490196],\n",
            "         [0.45882353, 0.45490196, 0.4509804 ],\n",
            "         [0.4627451 , 0.45882353, 0.45490196],\n",
            "         ...,\n",
            "         [0.627451  , 0.6156863 , 0.5921569 ],\n",
            "         [0.62352943, 0.6117647 , 0.5921569 ],\n",
            "         [0.627451  , 0.6156863 , 0.5921569 ]],\n",
            "\n",
            "        [[0.45882353, 0.45490196, 0.4509804 ],\n",
            "         [0.4627451 , 0.45882353, 0.45490196],\n",
            "         [0.45882353, 0.45490196, 0.4509804 ],\n",
            "         ...,\n",
            "         [0.62352943, 0.6117647 , 0.5921569 ],\n",
            "         [0.62352943, 0.6117647 , 0.5921569 ],\n",
            "         [0.627451  , 0.6156863 , 0.5921569 ]]],\n",
            "\n",
            "\n",
            "       ...,\n",
            "\n",
            "\n",
            "       [[[0.41568628, 0.41568628, 0.41568628],\n",
            "         [0.4117647 , 0.4117647 , 0.40784314],\n",
            "         [0.41568628, 0.41568628, 0.4117647 ],\n",
            "         ...,\n",
            "         [0.40784314, 0.40784314, 0.40784314],\n",
            "         [0.40392157, 0.40392157, 0.40392157],\n",
            "         [0.40784314, 0.40392157, 0.40392157]],\n",
            "\n",
            "        [[0.4117647 , 0.4117647 , 0.4117647 ],\n",
            "         [0.41568628, 0.41568628, 0.41568628],\n",
            "         [0.4117647 , 0.4117647 , 0.4117647 ],\n",
            "         ...,\n",
            "         [0.4       , 0.4       , 0.4       ],\n",
            "         [0.40392157, 0.40392157, 0.40392157],\n",
            "         [0.40392157, 0.40392157, 0.40392157]],\n",
            "\n",
            "        [[0.40784314, 0.40784314, 0.40784314],\n",
            "         [0.41568628, 0.4117647 , 0.4117647 ],\n",
            "         [0.4117647 , 0.4117647 , 0.4117647 ],\n",
            "         ...,\n",
            "         [0.40392157, 0.40392157, 0.40392157],\n",
            "         [0.4117647 , 0.4117647 , 0.4117647 ],\n",
            "         [0.40784314, 0.40392157, 0.40392157]],\n",
            "\n",
            "        ...,\n",
            "\n",
            "        [[0.4627451 , 0.45882353, 0.45490196],\n",
            "         [0.4627451 , 0.45882353, 0.45490196],\n",
            "         [0.4627451 , 0.4627451 , 0.45490196],\n",
            "         ...,\n",
            "         [0.56078434, 0.5529412 , 0.5372549 ],\n",
            "         [0.56078434, 0.5529412 , 0.5372549 ],\n",
            "         [0.56078434, 0.5529412 , 0.5372549 ]],\n",
            "\n",
            "        [[0.4627451 , 0.45882353, 0.45490196],\n",
            "         [0.4627451 , 0.45882353, 0.45490196],\n",
            "         [0.46666667, 0.4627451 , 0.45882353],\n",
            "         ...,\n",
            "         [0.56078434, 0.5529412 , 0.5372549 ],\n",
            "         [0.56078434, 0.5529412 , 0.5372549 ],\n",
            "         [0.56078434, 0.5529412 , 0.5372549 ]],\n",
            "\n",
            "        [[0.4627451 , 0.45882353, 0.45490196],\n",
            "         [0.4627451 , 0.4627451 , 0.45882353],\n",
            "         [0.4627451 , 0.45882353, 0.45490196],\n",
            "         ...,\n",
            "         [0.56078434, 0.5529412 , 0.5372549 ],\n",
            "         [0.56078434, 0.5529412 , 0.5372549 ],\n",
            "         [0.56078434, 0.5529412 , 0.5372549 ]]],\n",
            "\n",
            "\n",
            "       [[[0.41568628, 0.41568628, 0.41568628],\n",
            "         [0.4117647 , 0.4117647 , 0.40784314],\n",
            "         [0.41568628, 0.41568628, 0.4117647 ],\n",
            "         ...,\n",
            "         [0.40784314, 0.40784314, 0.40784314],\n",
            "         [0.40392157, 0.40392157, 0.40392157],\n",
            "         [0.40784314, 0.40392157, 0.40392157]],\n",
            "\n",
            "        [[0.4117647 , 0.4117647 , 0.4117647 ],\n",
            "         [0.41568628, 0.41568628, 0.41568628],\n",
            "         [0.4117647 , 0.4117647 , 0.4117647 ],\n",
            "         ...,\n",
            "         [0.4       , 0.4       , 0.4       ],\n",
            "         [0.40392157, 0.40392157, 0.40392157],\n",
            "         [0.40392157, 0.40392157, 0.40392157]],\n",
            "\n",
            "        [[0.40784314, 0.40784314, 0.40784314],\n",
            "         [0.41568628, 0.4117647 , 0.4117647 ],\n",
            "         [0.4117647 , 0.4117647 , 0.4117647 ],\n",
            "         ...,\n",
            "         [0.40392157, 0.40392157, 0.40392157],\n",
            "         [0.4117647 , 0.4117647 , 0.4117647 ],\n",
            "         [0.40784314, 0.40392157, 0.40392157]],\n",
            "\n",
            "        ...,\n",
            "\n",
            "        [[0.4627451 , 0.45882353, 0.45490196],\n",
            "         [0.4627451 , 0.45882353, 0.45490196],\n",
            "         [0.4627451 , 0.4627451 , 0.45490196],\n",
            "         ...,\n",
            "         [0.56078434, 0.5529412 , 0.5372549 ],\n",
            "         [0.56078434, 0.5529412 , 0.5372549 ],\n",
            "         [0.56078434, 0.5529412 , 0.5372549 ]],\n",
            "\n",
            "        [[0.4627451 , 0.45882353, 0.45490196],\n",
            "         [0.4627451 , 0.45882353, 0.45490196],\n",
            "         [0.46666667, 0.4627451 , 0.45882353],\n",
            "         ...,\n",
            "         [0.56078434, 0.5529412 , 0.5372549 ],\n",
            "         [0.56078434, 0.5529412 , 0.5372549 ],\n",
            "         [0.56078434, 0.5529412 , 0.5372549 ]],\n",
            "\n",
            "        [[0.4627451 , 0.45882353, 0.45490196],\n",
            "         [0.4627451 , 0.4627451 , 0.45882353],\n",
            "         [0.4627451 , 0.45882353, 0.45490196],\n",
            "         ...,\n",
            "         [0.56078434, 0.5529412 , 0.5372549 ],\n",
            "         [0.56078434, 0.5529412 , 0.5372549 ],\n",
            "         [0.56078434, 0.5529412 , 0.5372549 ]]],\n",
            "\n",
            "\n",
            "       [[[0.41568628, 0.41568628, 0.41568628],\n",
            "         [0.4117647 , 0.4117647 , 0.40784314],\n",
            "         [0.41568628, 0.41568628, 0.4117647 ],\n",
            "         ...,\n",
            "         [0.40784314, 0.40784314, 0.40784314],\n",
            "         [0.40392157, 0.40392157, 0.40392157],\n",
            "         [0.40784314, 0.40392157, 0.40392157]],\n",
            "\n",
            "        [[0.4117647 , 0.4117647 , 0.4117647 ],\n",
            "         [0.41568628, 0.41568628, 0.41568628],\n",
            "         [0.4117647 , 0.4117647 , 0.4117647 ],\n",
            "         ...,\n",
            "         [0.4       , 0.4       , 0.4       ],\n",
            "         [0.40392157, 0.40392157, 0.40392157],\n",
            "         [0.40392157, 0.40392157, 0.40392157]],\n",
            "\n",
            "        [[0.40784314, 0.40784314, 0.40784314],\n",
            "         [0.41568628, 0.4117647 , 0.4117647 ],\n",
            "         [0.4117647 , 0.4117647 , 0.4117647 ],\n",
            "         ...,\n",
            "         [0.40392157, 0.40392157, 0.40392157],\n",
            "         [0.4117647 , 0.4117647 , 0.4117647 ],\n",
            "         [0.40784314, 0.40392157, 0.40392157]],\n",
            "\n",
            "        ...,\n",
            "\n",
            "        [[0.4627451 , 0.45882353, 0.45490196],\n",
            "         [0.4627451 , 0.45882353, 0.45490196],\n",
            "         [0.4627451 , 0.4627451 , 0.45490196],\n",
            "         ...,\n",
            "         [0.56078434, 0.5529412 , 0.5372549 ],\n",
            "         [0.56078434, 0.5529412 , 0.5372549 ],\n",
            "         [0.56078434, 0.5529412 , 0.5372549 ]],\n",
            "\n",
            "        [[0.4627451 , 0.45882353, 0.45490196],\n",
            "         [0.4627451 , 0.45882353, 0.45490196],\n",
            "         [0.46666667, 0.4627451 , 0.45882353],\n",
            "         ...,\n",
            "         [0.56078434, 0.5529412 , 0.5372549 ],\n",
            "         [0.56078434, 0.5529412 , 0.5372549 ],\n",
            "         [0.56078434, 0.5529412 , 0.5372549 ]],\n",
            "\n",
            "        [[0.4627451 , 0.45882353, 0.45490196],\n",
            "         [0.4627451 , 0.4627451 , 0.45882353],\n",
            "         [0.4627451 , 0.45882353, 0.45490196],\n",
            "         ...,\n",
            "         [0.56078434, 0.5529412 , 0.5372549 ],\n",
            "         [0.56078434, 0.5529412 , 0.5372549 ],\n",
            "         [0.56078434, 0.5529412 , 0.5372549 ]]]], dtype=float32)>, <tf.Tensor: shape=(64,), dtype=string, numpy=\n",
            "array([b'tensor([  101,  2024,  2045,  2062,  2502,  2665,  2477,  2084,  2312,  6379,\\n        12538, 14291,  2015,  1029,   102,     0,     0,     0,     0,     0,\\n            0,     0,     0,     0,     0,     0,     0,     0,     0,     0,\\n            0,     0,     0,     0,     0,     0,     0,     0,     0,     0,\\n            0,     0,     0,     0,     0,     0,     0,     0,     0,     0,\\n            0,     0,     0,     0,     0,     0,     0,     0,     0,     0,\\n            0,     0,     0,     0,     0,     0,     0,     0,     0,     0,\\n            0,     0,     0,     0,     0,     0,     0,     0,     0,     0,\\n            0,     0,     0,     0,     0,     0,     0,     0,     0,     0,\\n            0,     0,     0,     0,     0,     0,     0,     0,     0,     0,\\n            0,     0,     0,     0,     0,     0,     0,     0,     0,     0,\\n            0,     0,     0,     0,     0,     0,     0,     0,     0,     0,\\n            0,     0,     0,     0,     0,     0,     0,     0,     0,     0,\\n            0,     0,     0,     0,     0,     0,     0,     0,     0,     0,\\n            0,     0,     0,     0,     0,     0,     0,     0,     0,     0,\\n            0,     0,     0,     0,     0,     0,     0,     0,     0,     0,\\n            0,     0,     0,     0,     0,     0,     0,     0,     0,     0,\\n            0,     0,     0,     0,     0,     0,     0,     0,     0,     0,\\n            0,     0,     0,     0,     0,     0,     0,     0,     0,     0,\\n            0,     0,     0,     0,     0,     0,     0,     0,     0,     0,\\n            0,     0,     0,     0,     0,     0,     0,     0,     0,     0,\\n            0,     0,     0,     0,     0,     0,     0,     0,     0,     0,\\n            0,     0,     0,     0,     0,     0,     0,     0,     0,     0,\\n            0,     0,     0,     0,     0,     0,     0,     0,     0,     0,\\n            0,     0,     0,     0,     0,     0,     0,     0,     0,     0,\\n            0,     0,     0,     0,     0,     0])',\n",
            "       b'tensor([  101,  2129,  2116,  2060,  2477,  2024,  2045,  1997,  1996,  2168,\\n         4338,  2004,  1996,  4714, 22330,  2319,  4717,  2063,  4874,  1029,\\n          102,     0,     0,     0,     0,     0,     0,     0,     0,     0,\\n            0,     0,     0,     0,     0,     0,     0,     0,     0,     0,\\n            0,     0,     0,     0,     0,     0,     0,     0,     0,     0,\\n            0,     0,     0,     0,     0,     0,     0,     0,     0,     0,\\n            0,     0,     0,     0,     0,     0,     0,     0,     0,     0,\\n            0,     0,     0,     0,     0,     0,     0,     0,     0,     0,\\n            0,     0,     0,     0,     0,     0,     0,     0,     0,     0,\\n            0,     0,     0,     0,     0,     0,     0,     0,     0,     0,\\n            0,     0,     0,     0,     0,     0,     0,     0,     0,     0,\\n            0,     0,     0,     0,     0,     0,     0,     0,     0,     0,\\n            0,     0,     0,     0,     0,     0,     0,     0,     0,     0,\\n            0,     0,     0,     0,     0,     0,     0,     0,     0,     0,\\n            0,     0,     0,     0,     0,     0,     0,     0,     0,     0,\\n            0,     0,     0,     0,     0,     0,     0,     0,     0,     0,\\n            0,     0,     0,     0,     0,     0,     0,     0,     0,     0,\\n            0,     0,     0,     0,     0,     0,     0,     0,     0,     0,\\n            0,     0,     0,     0,     0,     0,     0,     0,     0,     0,\\n            0,     0,     0,     0,     0,     0,     0,     0,     0,     0,\\n            0,     0,     0,     0,     0,     0,     0,     0,     0,     0,\\n            0,     0,     0,     0,     0,     0,     0,     0,     0,     0,\\n            0,     0,     0,     0,     0,     0,     0,     0,     0,     0,\\n            0,     0,     0,     0,     0,     0,     0,     0,     0,     0,\\n            0,     0,     0,     0,     0,     0,     0,     0,     0,     0,\\n            0,     0,     0,     0,     0,     0])',\n",
            "       b'tensor([  101,  2003,  1996,  3609,  1997,  1996,  2312, 10336,  1996,  2168,\\n         2004,  1996,  2312,  4717,  2063, 14291,  1029,   102,     0,     0,\\n            0,     0,     0,     0,     0,     0,     0,     0,     0,     0,\\n            0,     0,     0,     0,     0,     0,     0,     0,     0,     0,\\n            0,     0,     0,     0,     0,     0,     0,     0,     0,     0,\\n            0,     0,     0,     0,     0,     0,     0,     0,     0,     0,\\n            0,     0,     0,     0,     0,     0,     0,     0,     0,     0,\\n            0,     0,     0,     0,     0,     0,     0,     0,     0,     0,\\n            0,     0,     0,     0,     0,     0,     0,     0,     0,     0,\\n            0,     0,     0,     0,     0,     0,     0,     0,     0,     0,\\n            0,     0,     0,     0,     0,     0,     0,     0,     0,     0,\\n            0,     0,     0,     0,     0,     0,     0,     0,     0,     0,\\n            0,     0,     0,     0,     0,     0,     0,     0,     0,     0,\\n            0,     0,     0,     0,     0,     0,     0,     0,     0,     0,\\n            0,     0,     0,     0,     0,     0,     0,     0,     0,     0,\\n            0,     0,     0,     0,     0,     0,     0,     0,     0,     0,\\n            0,     0,     0,     0,     0,     0,     0,     0,     0,     0,\\n            0,     0,     0,     0,     0,     0,     0,     0,     0,     0,\\n            0,     0,     0,     0,     0,     0,     0,     0,     0,     0,\\n            0,     0,     0,     0,     0,     0,     0,     0,     0,     0,\\n            0,     0,     0,     0,     0,     0,     0,     0,     0,     0,\\n            0,     0,     0,     0,     0,     0,     0,     0,     0,     0,\\n            0,     0,     0,     0,     0,     0,     0,     0,     0,     0,\\n            0,     0,     0,     0,     0,     0,     0,     0,     0,     0,\\n            0,     0,     0,     0,     0,     0,     0,     0,     0,     0,\\n            0,     0,     0,     0,     0,     0])',\n",
            "       b'tensor([  101,  2054,  3430,  2003,  1996,  2502,  4874,  2008,  2003,  2157,\\n         1997,  1996,  2829,  7956,  1998,  2187,  1997,  1996,  2312,  2829,\\n        10336,  1029,   102,     0,     0,     0,     0,     0,     0,     0,\\n            0,     0,     0,     0,     0,     0,     0,     0,     0,     0,\\n            0,     0,     0,     0,     0,     0,     0,     0,     0,     0,\\n            0,     0,     0,     0,     0,     0,     0,     0,     0,     0,\\n            0,     0,     0,     0,     0,     0,     0,     0,     0,     0,\\n            0,     0,     0,     0,     0,     0,     0,     0,     0,     0,\\n            0,     0,     0,     0,     0,     0,     0,     0,     0,     0,\\n            0,     0,     0,     0,     0,     0,     0,     0,     0,     0,\\n            0,     0,     0,     0,     0,     0,     0,     0,     0,     0,\\n            0,     0,     0,     0,     0,     0,     0,     0,     0,     0,\\n            0,     0,     0,     0,     0,     0,     0,     0,     0,     0,\\n            0,     0,     0,     0,     0,     0,     0,     0,     0,     0,\\n            0,     0,     0,     0,     0,     0,     0,     0,     0,     0,\\n            0,     0,     0,     0,     0,     0,     0,     0,     0,     0,\\n            0,     0,     0,     0,     0,     0,     0,     0,     0,     0,\\n            0,     0,     0,     0,     0,     0,     0,     0,     0,     0,\\n            0,     0,     0,     0,     0,     0,     0,     0,     0,     0,\\n            0,     0,     0,     0,     0,     0,     0,     0,     0,     0,\\n            0,     0,     0,     0,     0,     0,     0,     0,     0,     0,\\n            0,     0,     0,     0,     0,     0,     0,     0,     0,     0,\\n            0,     0,     0,     0,     0,     0,     0,     0,     0,     0,\\n            0,     0,     0,     0,     0,     0,     0,     0,     0,     0,\\n            0,     0,     0,     0,     0,     0,     0,     0,     0,     0,\\n            0,     0,     0,     0,     0,     0])',\n",
            "       b'tensor([  101,  2129,  2502,  2003,  1996,  2829, 12538, 10336,  1029,   102,\\n            0,     0,     0,     0,     0,     0,     0,     0,     0,     0,\\n            0,     0,     0,     0,     0,     0,     0,     0,     0,     0,\\n            0,     0,     0,     0,     0,     0,     0,     0,     0,     0,\\n            0,     0,     0,     0,     0,     0,     0,     0,     0,     0,\\n            0,     0,     0,     0,     0,     0,     0,     0,     0,     0,\\n            0,     0,     0,     0,     0,     0,     0,     0,     0,     0,\\n            0,     0,     0,     0,     0,     0,     0,     0,     0,     0,\\n            0,     0,     0,     0,     0,     0,     0,     0,     0,     0,\\n            0,     0,     0,     0,     0,     0,     0,     0,     0,     0,\\n            0,     0,     0,     0,     0,     0,     0,     0,     0,     0,\\n            0,     0,     0,     0,     0,     0,     0,     0,     0,     0,\\n            0,     0,     0,     0,     0,     0,     0,     0,     0,     0,\\n            0,     0,     0,     0,     0,     0,     0,     0,     0,     0,\\n            0,     0,     0,     0,     0,     0,     0,     0,     0,     0,\\n            0,     0,     0,     0,     0,     0,     0,     0,     0,     0,\\n            0,     0,     0,     0,     0,     0,     0,     0,     0,     0,\\n            0,     0,     0,     0,     0,     0,     0,     0,     0,     0,\\n            0,     0,     0,     0,     0,     0,     0,     0,     0,     0,\\n            0,     0,     0,     0,     0,     0,     0,     0,     0,     0,\\n            0,     0,     0,     0,     0,     0,     0,     0,     0,     0,\\n            0,     0,     0,     0,     0,     0,     0,     0,     0,     0,\\n            0,     0,     0,     0,     0,     0,     0,     0,     0,     0,\\n            0,     0,     0,     0,     0,     0,     0,     0,     0,     0,\\n            0,     0,     0,     0,     0,     0,     0,     0,     0,     0,\\n            0,     0,     0,     0,     0,     0])',\n",
            "       b'tensor([  101,  2129,  2116,  3897,  4717,  2063,  2477,  2024,  2006,  1996,\\n         2157,  2217,  1997,  1996,  2235,  8903, 14291,  2369,  1996,  2312,\\n         2829,  2518,  2187,  1997,  1996, 22330,  2319,  2518,  1029,   102,\\n            0,     0,     0,     0,     0,     0,     0,     0,     0,     0,\\n            0,     0,     0,     0,     0,     0,     0,     0,     0,     0,\\n            0,     0,     0,     0,     0,     0,     0,     0,     0,     0,\\n            0,     0,     0,     0,     0,     0,     0,     0,     0,     0,\\n            0,     0,     0,     0,     0,     0,     0,     0,     0,     0,\\n            0,     0,     0,     0,     0,     0,     0,     0,     0,     0,\\n            0,     0,     0,     0,     0,     0,     0,     0,     0,     0,\\n            0,     0,     0,     0,     0,     0,     0,     0,     0,     0,\\n            0,     0,     0,     0,     0,     0,     0,     0,     0,     0,\\n            0,     0,     0,     0,     0,     0,     0,     0,     0,     0,\\n            0,     0,     0,     0,     0,     0,     0,     0,     0,     0,\\n            0,     0,     0,     0,     0,     0,     0,     0,     0,     0,\\n            0,     0,     0,     0,     0,     0,     0,     0,     0,     0,\\n            0,     0,     0,     0,     0,     0,     0,     0,     0,     0,\\n            0,     0,     0,     0,     0,     0,     0,     0,     0,     0,\\n            0,     0,     0,     0,     0,     0,     0,     0,     0,     0,\\n            0,     0,     0,     0,     0,     0,     0,     0,     0,     0,\\n            0,     0,     0,     0,     0,     0,     0,     0,     0,     0,\\n            0,     0,     0,     0,     0,     0,     0,     0,     0,     0,\\n            0,     0,     0,     0,     0,     0,     0,     0,     0,     0,\\n            0,     0,     0,     0,     0,     0,     0,     0,     0,     0,\\n            0,     0,     0,     0,     0,     0,     0,     0,     0,     0,\\n            0,     0,     0,     0,     0,     0])',\n",
            "       b'tensor([  101,  2054,  2003,  1996,  4338,  1997,  1996,  2829,  2518,  2000,\\n         1996,  2157,  1997,  1996,  2312,  2829, 12392,  2518,  2008,  2003,\\n         2006,  1996,  2187,  2217,  1997,  1996,  2829, 10336,  1029,   102,\\n            0,     0,     0,     0,     0,     0,     0,     0,     0,     0,\\n            0,     0,     0,     0,     0,     0,     0,     0,     0,     0,\\n            0,     0,     0,     0,     0,     0,     0,     0,     0,     0,\\n            0,     0,     0,     0,     0,     0,     0,     0,     0,     0,\\n            0,     0,     0,     0,     0,     0,     0,     0,     0,     0,\\n            0,     0,     0,     0,     0,     0,     0,     0,     0,     0,\\n            0,     0,     0,     0,     0,     0,     0,     0,     0,     0,\\n            0,     0,     0,     0,     0,     0,     0,     0,     0,     0,\\n            0,     0,     0,     0,     0,     0,     0,     0,     0,     0,\\n            0,     0,     0,     0,     0,     0,     0,     0,     0,     0,\\n            0,     0,     0,     0,     0,     0,     0,     0,     0,     0,\\n            0,     0,     0,     0,     0,     0,     0,     0,     0,     0,\\n            0,     0,     0,     0,     0,     0,     0,     0,     0,     0,\\n            0,     0,     0,     0,     0,     0,     0,     0,     0,     0,\\n            0,     0,     0,     0,     0,     0,     0,     0,     0,     0,\\n            0,     0,     0,     0,     0,     0,     0,     0,     0,     0,\\n            0,     0,     0,     0,     0,     0,     0,     0,     0,     0,\\n            0,     0,     0,     0,     0,     0,     0,     0,     0,     0,\\n            0,     0,     0,     0,     0,     0,     0,     0,     0,     0,\\n            0,     0,     0,     0,     0,     0,     0,     0,     0,     0,\\n            0,     0,     0,     0,     0,     0,     0,     0,     0,     0,\\n            0,     0,     0,     0,     0,     0,     0,     0,     0,     0,\\n            0,     0,     0,     0,     0,     0])',\n",
            "       b'tensor([  101,  1996,  2829,  4874,  2008,  2003,  1996,  2168,  4338,  2004,\\n         1996,  2665, 12538,  2518,  2003,  2054,  2946,  1029,   102,     0,\\n            0,     0,     0,     0,     0,     0,     0,     0,     0,     0,\\n            0,     0,     0,     0,     0,     0,     0,     0,     0,     0,\\n            0,     0,     0,     0,     0,     0,     0,     0,     0,     0,\\n            0,     0,     0,     0,     0,     0,     0,     0,     0,     0,\\n            0,     0,     0,     0,     0,     0,     0,     0,     0,     0,\\n            0,     0,     0,     0,     0,     0,     0,     0,     0,     0,\\n            0,     0,     0,     0,     0,     0,     0,     0,     0,     0,\\n            0,     0,     0,     0,     0,     0,     0,     0,     0,     0,\\n            0,     0,     0,     0,     0,     0,     0,     0,     0,     0,\\n            0,     0,     0,     0,     0,     0,     0,     0,     0,     0,\\n            0,     0,     0,     0,     0,     0,     0,     0,     0,     0,\\n            0,     0,     0,     0,     0,     0,     0,     0,     0,     0,\\n            0,     0,     0,     0,     0,     0,     0,     0,     0,     0,\\n            0,     0,     0,     0,     0,     0,     0,     0,     0,     0,\\n            0,     0,     0,     0,     0,     0,     0,     0,     0,     0,\\n            0,     0,     0,     0,     0,     0,     0,     0,     0,     0,\\n            0,     0,     0,     0,     0,     0,     0,     0,     0,     0,\\n            0,     0,     0,     0,     0,     0,     0,     0,     0,     0,\\n            0,     0,     0,     0,     0,     0,     0,     0,     0,     0,\\n            0,     0,     0,     0,     0,     0,     0,     0,     0,     0,\\n            0,     0,     0,     0,     0,     0,     0,     0,     0,     0,\\n            0,     0,     0,     0,     0,     0,     0,     0,     0,     0,\\n            0,     0,     0,     0,     0,     0,     0,     0,     0,     0,\\n            0,     0,     0,     0,     0,     0])',\n",
            "       b'tensor([  101,  2024,  2045,  2151,  2060,  2477,  2008,  2031,  1996,  2168,\\n         2946,  2004,  1996,  2829, 12538, 10336,  1029,   102,     0,     0,\\n            0,     0,     0,     0,     0,     0,     0,     0,     0,     0,\\n            0,     0,     0,     0,     0,     0,     0,     0,     0,     0,\\n            0,     0,     0,     0,     0,     0,     0,     0,     0,     0,\\n            0,     0,     0,     0,     0,     0,     0,     0,     0,     0,\\n            0,     0,     0,     0,     0,     0,     0,     0,     0,     0,\\n            0,     0,     0,     0,     0,     0,     0,     0,     0,     0,\\n            0,     0,     0,     0,     0,     0,     0,     0,     0,     0,\\n            0,     0,     0,     0,     0,     0,     0,     0,     0,     0,\\n            0,     0,     0,     0,     0,     0,     0,     0,     0,     0,\\n            0,     0,     0,     0,     0,     0,     0,     0,     0,     0,\\n            0,     0,     0,     0,     0,     0,     0,     0,     0,     0,\\n            0,     0,     0,     0,     0,     0,     0,     0,     0,     0,\\n            0,     0,     0,     0,     0,     0,     0,     0,     0,     0,\\n            0,     0,     0,     0,     0,     0,     0,     0,     0,     0,\\n            0,     0,     0,     0,     0,     0,     0,     0,     0,     0,\\n            0,     0,     0,     0,     0,     0,     0,     0,     0,     0,\\n            0,     0,     0,     0,     0,     0,     0,     0,     0,     0,\\n            0,     0,     0,     0,     0,     0,     0,     0,     0,     0,\\n            0,     0,     0,     0,     0,     0,     0,     0,     0,     0,\\n            0,     0,     0,     0,     0,     0,     0,     0,     0,     0,\\n            0,     0,     0,     0,     0,     0,     0,     0,     0,     0,\\n            0,     0,     0,     0,     0,     0,     0,     0,     0,     0,\\n            0,     0,     0,     0,     0,     0,     0,     0,     0,     0,\\n            0,     0,     0,     0,     0,     0])',\n",
            "       b'tensor([ 101, 2054, 3609, 2003, 1996, 4714, 4717, 2063, 3796, 2187, 1997, 1996,\\n        2630, 3796, 1029,  102,    0,    0,    0,    0,    0,    0,    0,    0,\\n           0,    0,    0,    0,    0,    0,    0,    0,    0,    0,    0,    0,\\n           0,    0,    0,    0,    0,    0,    0,    0,    0,    0,    0,    0,\\n           0,    0,    0,    0,    0,    0,    0,    0,    0,    0,    0,    0,\\n           0,    0,    0,    0,    0,    0,    0,    0,    0,    0,    0,    0,\\n           0,    0,    0,    0,    0,    0,    0,    0,    0,    0,    0,    0,\\n           0,    0,    0,    0,    0,    0,    0,    0,    0,    0,    0,    0,\\n           0,    0,    0,    0,    0,    0,    0,    0,    0,    0,    0,    0,\\n           0,    0,    0,    0,    0,    0,    0,    0,    0,    0,    0,    0,\\n           0,    0,    0,    0,    0,    0,    0,    0,    0,    0,    0,    0,\\n           0,    0,    0,    0,    0,    0,    0,    0,    0,    0,    0,    0,\\n           0,    0,    0,    0,    0,    0,    0,    0,    0,    0,    0,    0,\\n           0,    0,    0,    0,    0,    0,    0,    0,    0,    0,    0,    0,\\n           0,    0,    0,    0,    0,    0,    0,    0,    0,    0,    0,    0,\\n           0,    0,    0,    0,    0,    0,    0,    0,    0,    0,    0,    0,\\n           0,    0,    0,    0,    0,    0,    0,    0,    0,    0,    0,    0,\\n           0,    0,    0,    0,    0,    0,    0,    0,    0,    0,    0,    0,\\n           0,    0,    0,    0,    0,    0,    0,    0,    0,    0,    0,    0,\\n           0,    0,    0,    0,    0,    0,    0,    0,    0,    0,    0,    0,\\n           0,    0,    0,    0,    0,    0,    0,    0,    0,    0,    0,    0,\\n           0,    0,    0,    0])',\n",
            "       b'tensor([  101,  2129,  2116,  3897,  8903, 14291,  2015,  2024,  1996,  2168,\\n         2946,  2004,  1996,  3756,  3796,  1029,   102,     0,     0,     0,\\n            0,     0,     0,     0,     0,     0,     0,     0,     0,     0,\\n            0,     0,     0,     0,     0,     0,     0,     0,     0,     0,\\n            0,     0,     0,     0,     0,     0,     0,     0,     0,     0,\\n            0,     0,     0,     0,     0,     0,     0,     0,     0,     0,\\n            0,     0,     0,     0,     0,     0,     0,     0,     0,     0,\\n            0,     0,     0,     0,     0,     0,     0,     0,     0,     0,\\n            0,     0,     0,     0,     0,     0,     0,     0,     0,     0,\\n            0,     0,     0,     0,     0,     0,     0,     0,     0,     0,\\n            0,     0,     0,     0,     0,     0,     0,     0,     0,     0,\\n            0,     0,     0,     0,     0,     0,     0,     0,     0,     0,\\n            0,     0,     0,     0,     0,     0,     0,     0,     0,     0,\\n            0,     0,     0,     0,     0,     0,     0,     0,     0,     0,\\n            0,     0,     0,     0,     0,     0,     0,     0,     0,     0,\\n            0,     0,     0,     0,     0,     0,     0,     0,     0,     0,\\n            0,     0,     0,     0,     0,     0,     0,     0,     0,     0,\\n            0,     0,     0,     0,     0,     0,     0,     0,     0,     0,\\n            0,     0,     0,     0,     0,     0,     0,     0,     0,     0,\\n            0,     0,     0,     0,     0,     0,     0,     0,     0,     0,\\n            0,     0,     0,     0,     0,     0,     0,     0,     0,     0,\\n            0,     0,     0,     0,     0,     0,     0,     0,     0,     0,\\n            0,     0,     0,     0,     0,     0,     0,     0,     0,     0,\\n            0,     0,     0,     0,     0,     0,     0,     0,     0,     0,\\n            0,     0,     0,     0,     0,     0,     0,     0,     0,     0,\\n            0,     0,     0,     0,     0,     0])',\n",
            "       b'tensor([ 101, 2045, 2003, 1037, 8903, 2518, 2008, 2003, 1996, 2168, 3609, 2004,\\n        1996, 7956, 1025, 2054, 4338, 2003, 2009, 1029,  102,    0,    0,    0,\\n           0,    0,    0,    0,    0,    0,    0,    0,    0,    0,    0,    0,\\n           0,    0,    0,    0,    0,    0,    0,    0,    0,    0,    0,    0,\\n           0,    0,    0,    0,    0,    0,    0,    0,    0,    0,    0,    0,\\n           0,    0,    0,    0,    0,    0,    0,    0,    0,    0,    0,    0,\\n           0,    0,    0,    0,    0,    0,    0,    0,    0,    0,    0,    0,\\n           0,    0,    0,    0,    0,    0,    0,    0,    0,    0,    0,    0,\\n           0,    0,    0,    0,    0,    0,    0,    0,    0,    0,    0,    0,\\n           0,    0,    0,    0,    0,    0,    0,    0,    0,    0,    0,    0,\\n           0,    0,    0,    0,    0,    0,    0,    0,    0,    0,    0,    0,\\n           0,    0,    0,    0,    0,    0,    0,    0,    0,    0,    0,    0,\\n           0,    0,    0,    0,    0,    0,    0,    0,    0,    0,    0,    0,\\n           0,    0,    0,    0,    0,    0,    0,    0,    0,    0,    0,    0,\\n           0,    0,    0,    0,    0,    0,    0,    0,    0,    0,    0,    0,\\n           0,    0,    0,    0,    0,    0,    0,    0,    0,    0,    0,    0,\\n           0,    0,    0,    0,    0,    0,    0,    0,    0,    0,    0,    0,\\n           0,    0,    0,    0,    0,    0,    0,    0,    0,    0,    0,    0,\\n           0,    0,    0,    0,    0,    0,    0,    0,    0,    0,    0,    0,\\n           0,    0,    0,    0,    0,    0,    0,    0,    0,    0,    0,    0,\\n           0,    0,    0,    0,    0,    0,    0,    0,    0,    0,    0,    0,\\n           0,    0,    0,    0])',\n",
            "       b'tensor([ 101, 2024, 2045, 2151, 4714, 2665, 8903, 2477, 2008, 2031, 1996, 2168,\\n        4338, 2004, 1996, 2312, 2630, 4717, 2063, 2518, 1029,  102,    0,    0,\\n           0,    0,    0,    0,    0,    0,    0,    0,    0,    0,    0,    0,\\n           0,    0,    0,    0,    0,    0,    0,    0,    0,    0,    0,    0,\\n           0,    0,    0,    0,    0,    0,    0,    0,    0,    0,    0,    0,\\n           0,    0,    0,    0,    0,    0,    0,    0,    0,    0,    0,    0,\\n           0,    0,    0,    0,    0,    0,    0,    0,    0,    0,    0,    0,\\n           0,    0,    0,    0,    0,    0,    0,    0,    0,    0,    0,    0,\\n           0,    0,    0,    0,    0,    0,    0,    0,    0,    0,    0,    0,\\n           0,    0,    0,    0,    0,    0,    0,    0,    0,    0,    0,    0,\\n           0,    0,    0,    0,    0,    0,    0,    0,    0,    0,    0,    0,\\n           0,    0,    0,    0,    0,    0,    0,    0,    0,    0,    0,    0,\\n           0,    0,    0,    0,    0,    0,    0,    0,    0,    0,    0,    0,\\n           0,    0,    0,    0,    0,    0,    0,    0,    0,    0,    0,    0,\\n           0,    0,    0,    0,    0,    0,    0,    0,    0,    0,    0,    0,\\n           0,    0,    0,    0,    0,    0,    0,    0,    0,    0,    0,    0,\\n           0,    0,    0,    0,    0,    0,    0,    0,    0,    0,    0,    0,\\n           0,    0,    0,    0,    0,    0,    0,    0,    0,    0,    0,    0,\\n           0,    0,    0,    0,    0,    0,    0,    0,    0,    0,    0,    0,\\n           0,    0,    0,    0,    0,    0,    0,    0,    0,    0,    0,    0,\\n           0,    0,    0,    0,    0,    0,    0,    0,    0,    0,    0,    0,\\n           0,    0,    0,    0])',\n",
            "       b'tensor([ 101, 1996, 4717, 2063, 3608, 2008, 2003, 1996, 2168, 2946, 2004, 1996,\\n        3897, 8903, 4874, 2003, 2054, 3609, 1029,  102,    0,    0,    0,    0,\\n           0,    0,    0,    0,    0,    0,    0,    0,    0,    0,    0,    0,\\n           0,    0,    0,    0,    0,    0,    0,    0,    0,    0,    0,    0,\\n           0,    0,    0,    0,    0,    0,    0,    0,    0,    0,    0,    0,\\n           0,    0,    0,    0,    0,    0,    0,    0,    0,    0,    0,    0,\\n           0,    0,    0,    0,    0,    0,    0,    0,    0,    0,    0,    0,\\n           0,    0,    0,    0,    0,    0,    0,    0,    0,    0,    0,    0,\\n           0,    0,    0,    0,    0,    0,    0,    0,    0,    0,    0,    0,\\n           0,    0,    0,    0,    0,    0,    0,    0,    0,    0,    0,    0,\\n           0,    0,    0,    0,    0,    0,    0,    0,    0,    0,    0,    0,\\n           0,    0,    0,    0,    0,    0,    0,    0,    0,    0,    0,    0,\\n           0,    0,    0,    0,    0,    0,    0,    0,    0,    0,    0,    0,\\n           0,    0,    0,    0,    0,    0,    0,    0,    0,    0,    0,    0,\\n           0,    0,    0,    0,    0,    0,    0,    0,    0,    0,    0,    0,\\n           0,    0,    0,    0,    0,    0,    0,    0,    0,    0,    0,    0,\\n           0,    0,    0,    0,    0,    0,    0,    0,    0,    0,    0,    0,\\n           0,    0,    0,    0,    0,    0,    0,    0,    0,    0,    0,    0,\\n           0,    0,    0,    0,    0,    0,    0,    0,    0,    0,    0,    0,\\n           0,    0,    0,    0,    0,    0,    0,    0,    0,    0,    0,    0,\\n           0,    0,    0,    0,    0,    0,    0,    0,    0,    0,    0,    0,\\n           0,    0,    0,    0])',\n",
            "       b'tensor([ 101, 2045, 2003, 1037, 2235, 4717, 2063, 3796, 2008, 2003, 2006, 1996,\\n        2187, 2217, 1997, 1996, 2312, 8903, 2518, 2008, 2003, 2187, 1997, 1996,\\n        3897, 3608, 1025, 2054, 2003, 2049, 3609, 1029,  102,    0,    0,    0,\\n           0,    0,    0,    0,    0,    0,    0,    0,    0,    0,    0,    0,\\n           0,    0,    0,    0,    0,    0,    0,    0,    0,    0,    0,    0,\\n           0,    0,    0,    0,    0,    0,    0,    0,    0,    0,    0,    0,\\n           0,    0,    0,    0,    0,    0,    0,    0,    0,    0,    0,    0,\\n           0,    0,    0,    0,    0,    0,    0,    0,    0,    0,    0,    0,\\n           0,    0,    0,    0,    0,    0,    0,    0,    0,    0,    0,    0,\\n           0,    0,    0,    0,    0,    0,    0,    0,    0,    0,    0,    0,\\n           0,    0,    0,    0,    0,    0,    0,    0,    0,    0,    0,    0,\\n           0,    0,    0,    0,    0,    0,    0,    0,    0,    0,    0,    0,\\n           0,    0,    0,    0,    0,    0,    0,    0,    0,    0,    0,    0,\\n           0,    0,    0,    0,    0,    0,    0,    0,    0,    0,    0,    0,\\n           0,    0,    0,    0,    0,    0,    0,    0,    0,    0,    0,    0,\\n           0,    0,    0,    0,    0,    0,    0,    0,    0,    0,    0,    0,\\n           0,    0,    0,    0,    0,    0,    0,    0,    0,    0,    0,    0,\\n           0,    0,    0,    0,    0,    0,    0,    0,    0,    0,    0,    0,\\n           0,    0,    0,    0,    0,    0,    0,    0,    0,    0,    0,    0,\\n           0,    0,    0,    0,    0,    0,    0,    0,    0,    0,    0,    0,\\n           0,    0,    0,    0,    0,    0,    0,    0,    0,    0,    0,    0,\\n           0,    0,    0,    0])',\n",
            "       b'tensor([  101,  2045,  2003,  1037,  2235, 12392,  2518,  1999,  2392,  1997,\\n         1996,  3897, 12392,  2518,  1025,  2515,  2009,  2031,  1996,  2168,\\n         3609,  2004,  1996,  2502,  8903, 10336,  1029,   102,     0,     0,\\n            0,     0,     0,     0,     0,     0,     0,     0,     0,     0,\\n            0,     0,     0,     0,     0,     0,     0,     0,     0,     0,\\n            0,     0,     0,     0,     0,     0,     0,     0,     0,     0,\\n            0,     0,     0,     0,     0,     0,     0,     0,     0,     0,\\n            0,     0,     0,     0,     0,     0,     0,     0,     0,     0,\\n            0,     0,     0,     0,     0,     0,     0,     0,     0,     0,\\n            0,     0,     0,     0,     0,     0,     0,     0,     0,     0,\\n            0,     0,     0,     0,     0,     0,     0,     0,     0,     0,\\n            0,     0,     0,     0,     0,     0,     0,     0,     0,     0,\\n            0,     0,     0,     0,     0,     0,     0,     0,     0,     0,\\n            0,     0,     0,     0,     0,     0,     0,     0,     0,     0,\\n            0,     0,     0,     0,     0,     0,     0,     0,     0,     0,\\n            0,     0,     0,     0,     0,     0,     0,     0,     0,     0,\\n            0,     0,     0,     0,     0,     0,     0,     0,     0,     0,\\n            0,     0,     0,     0,     0,     0,     0,     0,     0,     0,\\n            0,     0,     0,     0,     0,     0,     0,     0,     0,     0,\\n            0,     0,     0,     0,     0,     0,     0,     0,     0,     0,\\n            0,     0,     0,     0,     0,     0,     0,     0,     0,     0,\\n            0,     0,     0,     0,     0,     0,     0,     0,     0,     0,\\n            0,     0,     0,     0,     0,     0,     0,     0,     0,     0,\\n            0,     0,     0,     0,     0,     0,     0,     0,     0,     0,\\n            0,     0,     0,     0,     0,     0,     0,     0,     0,     0,\\n            0,     0,     0,     0,     0,     0])',\n",
            "       b'tensor([  101,  2045,  2003,  1037,  3897,  4874,  2008,  2003,  1999,  2392,\\n         1997,  1996,  8903, 14291,  2369,  1996, 12392,  3608,  2369,  1996,\\n         2235,  2829,  2518,  1025,  2054,  4338,  2003,  2009,  1029,   102,\\n            0,     0,     0,     0,     0,     0,     0,     0,     0,     0,\\n            0,     0,     0,     0,     0,     0,     0,     0,     0,     0,\\n            0,     0,     0,     0,     0,     0,     0,     0,     0,     0,\\n            0,     0,     0,     0,     0,     0,     0,     0,     0,     0,\\n            0,     0,     0,     0,     0,     0,     0,     0,     0,     0,\\n            0,     0,     0,     0,     0,     0,     0,     0,     0,     0,\\n            0,     0,     0,     0,     0,     0,     0,     0,     0,     0,\\n            0,     0,     0,     0,     0,     0,     0,     0,     0,     0,\\n            0,     0,     0,     0,     0,     0,     0,     0,     0,     0,\\n            0,     0,     0,     0,     0,     0,     0,     0,     0,     0,\\n            0,     0,     0,     0,     0,     0,     0,     0,     0,     0,\\n            0,     0,     0,     0,     0,     0,     0,     0,     0,     0,\\n            0,     0,     0,     0,     0,     0,     0,     0,     0,     0,\\n            0,     0,     0,     0,     0,     0,     0,     0,     0,     0,\\n            0,     0,     0,     0,     0,     0,     0,     0,     0,     0,\\n            0,     0,     0,     0,     0,     0,     0,     0,     0,     0,\\n            0,     0,     0,     0,     0,     0,     0,     0,     0,     0,\\n            0,     0,     0,     0,     0,     0,     0,     0,     0,     0,\\n            0,     0,     0,     0,     0,     0,     0,     0,     0,     0,\\n            0,     0,     0,     0,     0,     0,     0,     0,     0,     0,\\n            0,     0,     0,     0,     0,     0,     0,     0,     0,     0,\\n            0,     0,     0,     0,     0,     0,     0,     0,     0,     0,\\n            0,     0,     0,     0,     0,     0])',\n",
            "       b'tensor([  101,  2054,  2193,  1997,  2417, 19885,  2024,  2369,  1996, 12538,\\n         4874,  2008,  2003,  2006,  1996,  2187,  2217,  1997,  1996,  4714,\\n         4717,  2063,  7956,  1029,   102,     0,     0,     0,     0,     0,\\n            0,     0,     0,     0,     0,     0,     0,     0,     0,     0,\\n            0,     0,     0,     0,     0,     0,     0,     0,     0,     0,\\n            0,     0,     0,     0,     0,     0,     0,     0,     0,     0,\\n            0,     0,     0,     0,     0,     0,     0,     0,     0,     0,\\n            0,     0,     0,     0,     0,     0,     0,     0,     0,     0,\\n            0,     0,     0,     0,     0,     0,     0,     0,     0,     0,\\n            0,     0,     0,     0,     0,     0,     0,     0,     0,     0,\\n            0,     0,     0,     0,     0,     0,     0,     0,     0,     0,\\n            0,     0,     0,     0,     0,     0,     0,     0,     0,     0,\\n            0,     0,     0,     0,     0,     0,     0,     0,     0,     0,\\n            0,     0,     0,     0,     0,     0,     0,     0,     0,     0,\\n            0,     0,     0,     0,     0,     0,     0,     0,     0,     0,\\n            0,     0,     0,     0,     0,     0,     0,     0,     0,     0,\\n            0,     0,     0,     0,     0,     0,     0,     0,     0,     0,\\n            0,     0,     0,     0,     0,     0,     0,     0,     0,     0,\\n            0,     0,     0,     0,     0,     0,     0,     0,     0,     0,\\n            0,     0,     0,     0,     0,     0,     0,     0,     0,     0,\\n            0,     0,     0,     0,     0,     0,     0,     0,     0,     0,\\n            0,     0,     0,     0,     0,     0,     0,     0,     0,     0,\\n            0,     0,     0,     0,     0,     0,     0,     0,     0,     0,\\n            0,     0,     0,     0,     0,     0,     0,     0,     0,     0,\\n            0,     0,     0,     0,     0,     0,     0,     0,     0,     0,\\n            0,     0,     0,     0,     0,     0])',\n",
            "       b'tensor([  101,  2003,  1996,  2235,  3897,  4874,  2081,  1997,  1996,  2168,\\n         3430,  2004,  1996,  2502, 14291,  1029,   102,     0,     0,     0,\\n            0,     0,     0,     0,     0,     0,     0,     0,     0,     0,\\n            0,     0,     0,     0,     0,     0,     0,     0,     0,     0,\\n            0,     0,     0,     0,     0,     0,     0,     0,     0,     0,\\n            0,     0,     0,     0,     0,     0,     0,     0,     0,     0,\\n            0,     0,     0,     0,     0,     0,     0,     0,     0,     0,\\n            0,     0,     0,     0,     0,     0,     0,     0,     0,     0,\\n            0,     0,     0,     0,     0,     0,     0,     0,     0,     0,\\n            0,     0,     0,     0,     0,     0,     0,     0,     0,     0,\\n            0,     0,     0,     0,     0,     0,     0,     0,     0,     0,\\n            0,     0,     0,     0,     0,     0,     0,     0,     0,     0,\\n            0,     0,     0,     0,     0,     0,     0,     0,     0,     0,\\n            0,     0,     0,     0,     0,     0,     0,     0,     0,     0,\\n            0,     0,     0,     0,     0,     0,     0,     0,     0,     0,\\n            0,     0,     0,     0,     0,     0,     0,     0,     0,     0,\\n            0,     0,     0,     0,     0,     0,     0,     0,     0,     0,\\n            0,     0,     0,     0,     0,     0,     0,     0,     0,     0,\\n            0,     0,     0,     0,     0,     0,     0,     0,     0,     0,\\n            0,     0,     0,     0,     0,     0,     0,     0,     0,     0,\\n            0,     0,     0,     0,     0,     0,     0,     0,     0,     0,\\n            0,     0,     0,     0,     0,     0,     0,     0,     0,     0,\\n            0,     0,     0,     0,     0,     0,     0,     0,     0,     0,\\n            0,     0,     0,     0,     0,     0,     0,     0,     0,     0,\\n            0,     0,     0,     0,     0,     0,     0,     0,     0,     0,\\n            0,     0,     0,     0,     0,     0])',\n",
            "       b'tensor([  101,  2045,  2003,  1037,  3756,  2518,  2369,  1996,  2235,  3384,\\n         4874,  2157,  1997,  1996,  3897,  3384, 10336,  1025,  2054,  2193,\\n         1997,  4714,  4717,  2063, 18729,  2024,  1999,  2392,  1997,  2009,\\n         1029,   102,     0,     0,     0,     0,     0,     0,     0,     0,\\n            0,     0,     0,     0,     0,     0,     0,     0,     0,     0,\\n            0,     0,     0,     0,     0,     0,     0,     0,     0,     0,\\n            0,     0,     0,     0,     0,     0,     0,     0,     0,     0,\\n            0,     0,     0,     0,     0,     0,     0,     0,     0,     0,\\n            0,     0,     0,     0,     0,     0,     0,     0,     0,     0,\\n            0,     0,     0,     0,     0,     0,     0,     0,     0,     0,\\n            0,     0,     0,     0,     0,     0,     0,     0,     0,     0,\\n            0,     0,     0,     0,     0,     0,     0,     0,     0,     0,\\n            0,     0,     0,     0,     0,     0,     0,     0,     0,     0,\\n            0,     0,     0,     0,     0,     0,     0,     0,     0,     0,\\n            0,     0,     0,     0,     0,     0,     0,     0,     0,     0,\\n            0,     0,     0,     0,     0,     0,     0,     0,     0,     0,\\n            0,     0,     0,     0,     0,     0,     0,     0,     0,     0,\\n            0,     0,     0,     0,     0,     0,     0,     0,     0,     0,\\n            0,     0,     0,     0,     0,     0,     0,     0,     0,     0,\\n            0,     0,     0,     0,     0,     0,     0,     0,     0,     0,\\n            0,     0,     0,     0,     0,     0,     0,     0,     0,     0,\\n            0,     0,     0,     0,     0,     0,     0,     0,     0,     0,\\n            0,     0,     0,     0,     0,     0,     0,     0,     0,     0,\\n            0,     0,     0,     0,     0,     0,     0,     0,     0,     0,\\n            0,     0,     0,     0,     0,     0,     0,     0,     0,     0,\\n            0,     0,     0,     0,     0,     0])',\n",
            "       b'tensor([  101,  2045,  2003,  1037,  2235,  4874,  1025,  2003,  2009,  1996,\\n         2168,  3609,  2004,  1996,  4874,  1999,  2392,  1997,  1996,  3897,\\n        12538,  2518,  1029,   102,     0,     0,     0,     0,     0,     0,\\n            0,     0,     0,     0,     0,     0,     0,     0,     0,     0,\\n            0,     0,     0,     0,     0,     0,     0,     0,     0,     0,\\n            0,     0,     0,     0,     0,     0,     0,     0,     0,     0,\\n            0,     0,     0,     0,     0,     0,     0,     0,     0,     0,\\n            0,     0,     0,     0,     0,     0,     0,     0,     0,     0,\\n            0,     0,     0,     0,     0,     0,     0,     0,     0,     0,\\n            0,     0,     0,     0,     0,     0,     0,     0,     0,     0,\\n            0,     0,     0,     0,     0,     0,     0,     0,     0,     0,\\n            0,     0,     0,     0,     0,     0,     0,     0,     0,     0,\\n            0,     0,     0,     0,     0,     0,     0,     0,     0,     0,\\n            0,     0,     0,     0,     0,     0,     0,     0,     0,     0,\\n            0,     0,     0,     0,     0,     0,     0,     0,     0,     0,\\n            0,     0,     0,     0,     0,     0,     0,     0,     0,     0,\\n            0,     0,     0,     0,     0,     0,     0,     0,     0,     0,\\n            0,     0,     0,     0,     0,     0,     0,     0,     0,     0,\\n            0,     0,     0,     0,     0,     0,     0,     0,     0,     0,\\n            0,     0,     0,     0,     0,     0,     0,     0,     0,     0,\\n            0,     0,     0,     0,     0,     0,     0,     0,     0,     0,\\n            0,     0,     0,     0,     0,     0,     0,     0,     0,     0,\\n            0,     0,     0,     0,     0,     0,     0,     0,     0,     0,\\n            0,     0,     0,     0,     0,     0,     0,     0,     0,     0,\\n            0,     0,     0,     0,     0,     0,     0,     0,     0,     0,\\n            0,     0,     0,     0,     0,     0])',\n",
            "       b'tensor([  101,  2045,  2003,  1037,  2518,  2008,  2003,  2119,  2000,  1996,\\n         2157,  1997,  1996,  2502,  8903, 14291,  1998,  2187,  1997,  1996,\\n         2235,  3897,  3608,  1025,  2054,  3609,  2003,  2009,  1029,   102,\\n            0,     0,     0,     0,     0,     0,     0,     0,     0,     0,\\n            0,     0,     0,     0,     0,     0,     0,     0,     0,     0,\\n            0,     0,     0,     0,     0,     0,     0,     0,     0,     0,\\n            0,     0,     0,     0,     0,     0,     0,     0,     0,     0,\\n            0,     0,     0,     0,     0,     0,     0,     0,     0,     0,\\n            0,     0,     0,     0,     0,     0,     0,     0,     0,     0,\\n            0,     0,     0,     0,     0,     0,     0,     0,     0,     0,\\n            0,     0,     0,     0,     0,     0,     0,     0,     0,     0,\\n            0,     0,     0,     0,     0,     0,     0,     0,     0,     0,\\n            0,     0,     0,     0,     0,     0,     0,     0,     0,     0,\\n            0,     0,     0,     0,     0,     0,     0,     0,     0,     0,\\n            0,     0,     0,     0,     0,     0,     0,     0,     0,     0,\\n            0,     0,     0,     0,     0,     0,     0,     0,     0,     0,\\n            0,     0,     0,     0,     0,     0,     0,     0,     0,     0,\\n            0,     0,     0,     0,     0,     0,     0,     0,     0,     0,\\n            0,     0,     0,     0,     0,     0,     0,     0,     0,     0,\\n            0,     0,     0,     0,     0,     0,     0,     0,     0,     0,\\n            0,     0,     0,     0,     0,     0,     0,     0,     0,     0,\\n            0,     0,     0,     0,     0,     0,     0,     0,     0,     0,\\n            0,     0,     0,     0,     0,     0,     0,     0,     0,     0,\\n            0,     0,     0,     0,     0,     0,     0,     0,     0,     0,\\n            0,     0,     0,     0,     0,     0,     0,     0,     0,     0,\\n            0,     0,     0,     0,     0,     0])',\n",
            "       b'tensor([ 101, 2045, 2003, 1037, 2235, 3897, 3384, 3608, 1025, 2129, 2116, 3897,\\n        7395, 2024, 2006, 1996, 2157, 2217, 1997, 2009, 1029,  102,    0,    0,\\n           0,    0,    0,    0,    0,    0,    0,    0,    0,    0,    0,    0,\\n           0,    0,    0,    0,    0,    0,    0,    0,    0,    0,    0,    0,\\n           0,    0,    0,    0,    0,    0,    0,    0,    0,    0,    0,    0,\\n           0,    0,    0,    0,    0,    0,    0,    0,    0,    0,    0,    0,\\n           0,    0,    0,    0,    0,    0,    0,    0,    0,    0,    0,    0,\\n           0,    0,    0,    0,    0,    0,    0,    0,    0,    0,    0,    0,\\n           0,    0,    0,    0,    0,    0,    0,    0,    0,    0,    0,    0,\\n           0,    0,    0,    0,    0,    0,    0,    0,    0,    0,    0,    0,\\n           0,    0,    0,    0,    0,    0,    0,    0,    0,    0,    0,    0,\\n           0,    0,    0,    0,    0,    0,    0,    0,    0,    0,    0,    0,\\n           0,    0,    0,    0,    0,    0,    0,    0,    0,    0,    0,    0,\\n           0,    0,    0,    0,    0,    0,    0,    0,    0,    0,    0,    0,\\n           0,    0,    0,    0,    0,    0,    0,    0,    0,    0,    0,    0,\\n           0,    0,    0,    0,    0,    0,    0,    0,    0,    0,    0,    0,\\n           0,    0,    0,    0,    0,    0,    0,    0,    0,    0,    0,    0,\\n           0,    0,    0,    0,    0,    0,    0,    0,    0,    0,    0,    0,\\n           0,    0,    0,    0,    0,    0,    0,    0,    0,    0,    0,    0,\\n           0,    0,    0,    0,    0,    0,    0,    0,    0,    0,    0,    0,\\n           0,    0,    0,    0,    0,    0,    0,    0,    0,    0,    0,    0,\\n           0,    0,    0,    0])',\n",
            "       b'tensor([  101,  2054,  2193,  1997,  2477,  2024,  2312,  3756, 12392,  7395,\\n         2030, 12392,  2477,  2008,  2024,  1999,  2392,  1997,  1996,  3897,\\n        12392, 10336,  1029,   102,     0,     0,     0,     0,     0,     0,\\n            0,     0,     0,     0,     0,     0,     0,     0,     0,     0,\\n            0,     0,     0,     0,     0,     0,     0,     0,     0,     0,\\n            0,     0,     0,     0,     0,     0,     0,     0,     0,     0,\\n            0,     0,     0,     0,     0,     0,     0,     0,     0,     0,\\n            0,     0,     0,     0,     0,     0,     0,     0,     0,     0,\\n            0,     0,     0,     0,     0,     0,     0,     0,     0,     0,\\n            0,     0,     0,     0,     0,     0,     0,     0,     0,     0,\\n            0,     0,     0,     0,     0,     0,     0,     0,     0,     0,\\n            0,     0,     0,     0,     0,     0,     0,     0,     0,     0,\\n            0,     0,     0,     0,     0,     0,     0,     0,     0,     0,\\n            0,     0,     0,     0,     0,     0,     0,     0,     0,     0,\\n            0,     0,     0,     0,     0,     0,     0,     0,     0,     0,\\n            0,     0,     0,     0,     0,     0,     0,     0,     0,     0,\\n            0,     0,     0,     0,     0,     0,     0,     0,     0,     0,\\n            0,     0,     0,     0,     0,     0,     0,     0,     0,     0,\\n            0,     0,     0,     0,     0,     0,     0,     0,     0,     0,\\n            0,     0,     0,     0,     0,     0,     0,     0,     0,     0,\\n            0,     0,     0,     0,     0,     0,     0,     0,     0,     0,\\n            0,     0,     0,     0,     0,     0,     0,     0,     0,     0,\\n            0,     0,     0,     0,     0,     0,     0,     0,     0,     0,\\n            0,     0,     0,     0,     0,     0,     0,     0,     0,     0,\\n            0,     0,     0,     0,     0,     0,     0,     0,     0,     0,\\n            0,     0,     0,     0,     0,     0])',\n",
            "       b'tensor([ 101, 2045, 2003, 1037, 3384, 4874, 1999, 2392, 1997, 1996, 3897, 3384,\\n        4874, 1025, 2024, 2045, 2151, 2502, 2630, 8903, 5991, 1999, 2392, 1997,\\n        2009, 1029,  102,    0,    0,    0,    0,    0,    0,    0,    0,    0,\\n           0,    0,    0,    0,    0,    0,    0,    0,    0,    0,    0,    0,\\n           0,    0,    0,    0,    0,    0,    0,    0,    0,    0,    0,    0,\\n           0,    0,    0,    0,    0,    0,    0,    0,    0,    0,    0,    0,\\n           0,    0,    0,    0,    0,    0,    0,    0,    0,    0,    0,    0,\\n           0,    0,    0,    0,    0,    0,    0,    0,    0,    0,    0,    0,\\n           0,    0,    0,    0,    0,    0,    0,    0,    0,    0,    0,    0,\\n           0,    0,    0,    0,    0,    0,    0,    0,    0,    0,    0,    0,\\n           0,    0,    0,    0,    0,    0,    0,    0,    0,    0,    0,    0,\\n           0,    0,    0,    0,    0,    0,    0,    0,    0,    0,    0,    0,\\n           0,    0,    0,    0,    0,    0,    0,    0,    0,    0,    0,    0,\\n           0,    0,    0,    0,    0,    0,    0,    0,    0,    0,    0,    0,\\n           0,    0,    0,    0,    0,    0,    0,    0,    0,    0,    0,    0,\\n           0,    0,    0,    0,    0,    0,    0,    0,    0,    0,    0,    0,\\n           0,    0,    0,    0,    0,    0,    0,    0,    0,    0,    0,    0,\\n           0,    0,    0,    0,    0,    0,    0,    0,    0,    0,    0,    0,\\n           0,    0,    0,    0,    0,    0,    0,    0,    0,    0,    0,    0,\\n           0,    0,    0,    0,    0,    0,    0,    0,    0,    0,    0,    0,\\n           0,    0,    0,    0,    0,    0,    0,    0,    0,    0,    0,    0,\\n           0,    0,    0,    0])',\n",
            "       b'tensor([  101,  2054,  3609,  2003,  1996, 12392,  2518,  2369,  1996,  2502,\\n         3384,  4874,  1029,   102,     0,     0,     0,     0,     0,     0,\\n            0,     0,     0,     0,     0,     0,     0,     0,     0,     0,\\n            0,     0,     0,     0,     0,     0,     0,     0,     0,     0,\\n            0,     0,     0,     0,     0,     0,     0,     0,     0,     0,\\n            0,     0,     0,     0,     0,     0,     0,     0,     0,     0,\\n            0,     0,     0,     0,     0,     0,     0,     0,     0,     0,\\n            0,     0,     0,     0,     0,     0,     0,     0,     0,     0,\\n            0,     0,     0,     0,     0,     0,     0,     0,     0,     0,\\n            0,     0,     0,     0,     0,     0,     0,     0,     0,     0,\\n            0,     0,     0,     0,     0,     0,     0,     0,     0,     0,\\n            0,     0,     0,     0,     0,     0,     0,     0,     0,     0,\\n            0,     0,     0,     0,     0,     0,     0,     0,     0,     0,\\n            0,     0,     0,     0,     0,     0,     0,     0,     0,     0,\\n            0,     0,     0,     0,     0,     0,     0,     0,     0,     0,\\n            0,     0,     0,     0,     0,     0,     0,     0,     0,     0,\\n            0,     0,     0,     0,     0,     0,     0,     0,     0,     0,\\n            0,     0,     0,     0,     0,     0,     0,     0,     0,     0,\\n            0,     0,     0,     0,     0,     0,     0,     0,     0,     0,\\n            0,     0,     0,     0,     0,     0,     0,     0,     0,     0,\\n            0,     0,     0,     0,     0,     0,     0,     0,     0,     0,\\n            0,     0,     0,     0,     0,     0,     0,     0,     0,     0,\\n            0,     0,     0,     0,     0,     0,     0,     0,     0,     0,\\n            0,     0,     0,     0,     0,     0,     0,     0,     0,     0,\\n            0,     0,     0,     0,     0,     0,     0,     0,     0,     0,\\n            0,     0,     0,     0,     0,     0])',\n",
            "       b'tensor([  101,  2024,  2045,  1996,  2168,  2193,  1997,  2630,  8903, 14291,\\n         2015,  2006,  1996,  2187,  2217,  1997,  1996,  2312,  2630,  2518,\\n         1998,  4714,  2665,  4717,  2063, 18729,  1029,   102,     0,     0,\\n            0,     0,     0,     0,     0,     0,     0,     0,     0,     0,\\n            0,     0,     0,     0,     0,     0,     0,     0,     0,     0,\\n            0,     0,     0,     0,     0,     0,     0,     0,     0,     0,\\n            0,     0,     0,     0,     0,     0,     0,     0,     0,     0,\\n            0,     0,     0,     0,     0,     0,     0,     0,     0,     0,\\n            0,     0,     0,     0,     0,     0,     0,     0,     0,     0,\\n            0,     0,     0,     0,     0,     0,     0,     0,     0,     0,\\n            0,     0,     0,     0,     0,     0,     0,     0,     0,     0,\\n            0,     0,     0,     0,     0,     0,     0,     0,     0,     0,\\n            0,     0,     0,     0,     0,     0,     0,     0,     0,     0,\\n            0,     0,     0,     0,     0,     0,     0,     0,     0,     0,\\n            0,     0,     0,     0,     0,     0,     0,     0,     0,     0,\\n            0,     0,     0,     0,     0,     0,     0,     0,     0,     0,\\n            0,     0,     0,     0,     0,     0,     0,     0,     0,     0,\\n            0,     0,     0,     0,     0,     0,     0,     0,     0,     0,\\n            0,     0,     0,     0,     0,     0,     0,     0,     0,     0,\\n            0,     0,     0,     0,     0,     0,     0,     0,     0,     0,\\n            0,     0,     0,     0,     0,     0,     0,     0,     0,     0,\\n            0,     0,     0,     0,     0,     0,     0,     0,     0,     0,\\n            0,     0,     0,     0,     0,     0,     0,     0,     0,     0,\\n            0,     0,     0,     0,     0,     0,     0,     0,     0,     0,\\n            0,     0,     0,     0,     0,     0,     0,     0,     0,     0,\\n            0,     0,     0,     0,     0,     0])',\n",
            "       b'tensor([  101,  2054,  2003,  1996,  4338,  1997,  1996,  4874,  2008,  2003,\\n         2119,  2369,  1996,  2312, 12392,  2518,  1998,  2187,  1997,  1996,\\n         3897, 12392, 10336,  1029,   102,     0,     0,     0,     0,     0,\\n            0,     0,     0,     0,     0,     0,     0,     0,     0,     0,\\n            0,     0,     0,     0,     0,     0,     0,     0,     0,     0,\\n            0,     0,     0,     0,     0,     0,     0,     0,     0,     0,\\n            0,     0,     0,     0,     0,     0,     0,     0,     0,     0,\\n            0,     0,     0,     0,     0,     0,     0,     0,     0,     0,\\n            0,     0,     0,     0,     0,     0,     0,     0,     0,     0,\\n            0,     0,     0,     0,     0,     0,     0,     0,     0,     0,\\n            0,     0,     0,     0,     0,     0,     0,     0,     0,     0,\\n            0,     0,     0,     0,     0,     0,     0,     0,     0,     0,\\n            0,     0,     0,     0,     0,     0,     0,     0,     0,     0,\\n            0,     0,     0,     0,     0,     0,     0,     0,     0,     0,\\n            0,     0,     0,     0,     0,     0,     0,     0,     0,     0,\\n            0,     0,     0,     0,     0,     0,     0,     0,     0,     0,\\n            0,     0,     0,     0,     0,     0,     0,     0,     0,     0,\\n            0,     0,     0,     0,     0,     0,     0,     0,     0,     0,\\n            0,     0,     0,     0,     0,     0,     0,     0,     0,     0,\\n            0,     0,     0,     0,     0,     0,     0,     0,     0,     0,\\n            0,     0,     0,     0,     0,     0,     0,     0,     0,     0,\\n            0,     0,     0,     0,     0,     0,     0,     0,     0,     0,\\n            0,     0,     0,     0,     0,     0,     0,     0,     0,     0,\\n            0,     0,     0,     0,     0,     0,     0,     0,     0,     0,\\n            0,     0,     0,     0,     0,     0,     0,     0,     0,     0,\\n            0,     0,     0,     0,     0,     0])',\n",
            "       b'tensor([ 101, 1996, 2060, 4874, 2008, 2003, 1996, 2168, 4338, 2004, 1996, 2312,\\n        3384, 2518, 2003, 2054, 3609, 1029,  102,    0,    0,    0,    0,    0,\\n           0,    0,    0,    0,    0,    0,    0,    0,    0,    0,    0,    0,\\n           0,    0,    0,    0,    0,    0,    0,    0,    0,    0,    0,    0,\\n           0,    0,    0,    0,    0,    0,    0,    0,    0,    0,    0,    0,\\n           0,    0,    0,    0,    0,    0,    0,    0,    0,    0,    0,    0,\\n           0,    0,    0,    0,    0,    0,    0,    0,    0,    0,    0,    0,\\n           0,    0,    0,    0,    0,    0,    0,    0,    0,    0,    0,    0,\\n           0,    0,    0,    0,    0,    0,    0,    0,    0,    0,    0,    0,\\n           0,    0,    0,    0,    0,    0,    0,    0,    0,    0,    0,    0,\\n           0,    0,    0,    0,    0,    0,    0,    0,    0,    0,    0,    0,\\n           0,    0,    0,    0,    0,    0,    0,    0,    0,    0,    0,    0,\\n           0,    0,    0,    0,    0,    0,    0,    0,    0,    0,    0,    0,\\n           0,    0,    0,    0,    0,    0,    0,    0,    0,    0,    0,    0,\\n           0,    0,    0,    0,    0,    0,    0,    0,    0,    0,    0,    0,\\n           0,    0,    0,    0,    0,    0,    0,    0,    0,    0,    0,    0,\\n           0,    0,    0,    0,    0,    0,    0,    0,    0,    0,    0,    0,\\n           0,    0,    0,    0,    0,    0,    0,    0,    0,    0,    0,    0,\\n           0,    0,    0,    0,    0,    0,    0,    0,    0,    0,    0,    0,\\n           0,    0,    0,    0,    0,    0,    0,    0,    0,    0,    0,    0,\\n           0,    0,    0,    0,    0,    0,    0,    0,    0,    0,    0,    0,\\n           0,    0,    0,    0])',\n",
            "       b'tensor([ 101, 2024, 2045, 2151, 2060, 2477, 1997, 1996, 2168, 3609, 2004, 1996,\\n        2502, 8903, 3796, 1029,  102,    0,    0,    0,    0,    0,    0,    0,\\n           0,    0,    0,    0,    0,    0,    0,    0,    0,    0,    0,    0,\\n           0,    0,    0,    0,    0,    0,    0,    0,    0,    0,    0,    0,\\n           0,    0,    0,    0,    0,    0,    0,    0,    0,    0,    0,    0,\\n           0,    0,    0,    0,    0,    0,    0,    0,    0,    0,    0,    0,\\n           0,    0,    0,    0,    0,    0,    0,    0,    0,    0,    0,    0,\\n           0,    0,    0,    0,    0,    0,    0,    0,    0,    0,    0,    0,\\n           0,    0,    0,    0,    0,    0,    0,    0,    0,    0,    0,    0,\\n           0,    0,    0,    0,    0,    0,    0,    0,    0,    0,    0,    0,\\n           0,    0,    0,    0,    0,    0,    0,    0,    0,    0,    0,    0,\\n           0,    0,    0,    0,    0,    0,    0,    0,    0,    0,    0,    0,\\n           0,    0,    0,    0,    0,    0,    0,    0,    0,    0,    0,    0,\\n           0,    0,    0,    0,    0,    0,    0,    0,    0,    0,    0,    0,\\n           0,    0,    0,    0,    0,    0,    0,    0,    0,    0,    0,    0,\\n           0,    0,    0,    0,    0,    0,    0,    0,    0,    0,    0,    0,\\n           0,    0,    0,    0,    0,    0,    0,    0,    0,    0,    0,    0,\\n           0,    0,    0,    0,    0,    0,    0,    0,    0,    0,    0,    0,\\n           0,    0,    0,    0,    0,    0,    0,    0,    0,    0,    0,    0,\\n           0,    0,    0,    0,    0,    0,    0,    0,    0,    0,    0,    0,\\n           0,    0,    0,    0,    0,    0,    0,    0,    0,    0,    0,    0,\\n           0,    0,    0,    0])',\n",
            "       b'tensor([  101,  2054,  3430,  2003,  1996,  4714, 14291,  2008,  2003,  2000,\\n         1996,  2157,  1997,  1996,  2630,  2518,  1029,   102,     0,     0,\\n            0,     0,     0,     0,     0,     0,     0,     0,     0,     0,\\n            0,     0,     0,     0,     0,     0,     0,     0,     0,     0,\\n            0,     0,     0,     0,     0,     0,     0,     0,     0,     0,\\n            0,     0,     0,     0,     0,     0,     0,     0,     0,     0,\\n            0,     0,     0,     0,     0,     0,     0,     0,     0,     0,\\n            0,     0,     0,     0,     0,     0,     0,     0,     0,     0,\\n            0,     0,     0,     0,     0,     0,     0,     0,     0,     0,\\n            0,     0,     0,     0,     0,     0,     0,     0,     0,     0,\\n            0,     0,     0,     0,     0,     0,     0,     0,     0,     0,\\n            0,     0,     0,     0,     0,     0,     0,     0,     0,     0,\\n            0,     0,     0,     0,     0,     0,     0,     0,     0,     0,\\n            0,     0,     0,     0,     0,     0,     0,     0,     0,     0,\\n            0,     0,     0,     0,     0,     0,     0,     0,     0,     0,\\n            0,     0,     0,     0,     0,     0,     0,     0,     0,     0,\\n            0,     0,     0,     0,     0,     0,     0,     0,     0,     0,\\n            0,     0,     0,     0,     0,     0,     0,     0,     0,     0,\\n            0,     0,     0,     0,     0,     0,     0,     0,     0,     0,\\n            0,     0,     0,     0,     0,     0,     0,     0,     0,     0,\\n            0,     0,     0,     0,     0,     0,     0,     0,     0,     0,\\n            0,     0,     0,     0,     0,     0,     0,     0,     0,     0,\\n            0,     0,     0,     0,     0,     0,     0,     0,     0,     0,\\n            0,     0,     0,     0,     0,     0,     0,     0,     0,     0,\\n            0,     0,     0,     0,     0,     0,     0,     0,     0,     0,\\n            0,     0,     0,     0,     0,     0])',\n",
            "       b'tensor([ 101, 2054, 2193, 1997, 6379, 5200, 2024, 1996, 2168, 4338, 2004, 1996,\\n        3897, 2518, 1029,  102,    0,    0,    0,    0,    0,    0,    0,    0,\\n           0,    0,    0,    0,    0,    0,    0,    0,    0,    0,    0,    0,\\n           0,    0,    0,    0,    0,    0,    0,    0,    0,    0,    0,    0,\\n           0,    0,    0,    0,    0,    0,    0,    0,    0,    0,    0,    0,\\n           0,    0,    0,    0,    0,    0,    0,    0,    0,    0,    0,    0,\\n           0,    0,    0,    0,    0,    0,    0,    0,    0,    0,    0,    0,\\n           0,    0,    0,    0,    0,    0,    0,    0,    0,    0,    0,    0,\\n           0,    0,    0,    0,    0,    0,    0,    0,    0,    0,    0,    0,\\n           0,    0,    0,    0,    0,    0,    0,    0,    0,    0,    0,    0,\\n           0,    0,    0,    0,    0,    0,    0,    0,    0,    0,    0,    0,\\n           0,    0,    0,    0,    0,    0,    0,    0,    0,    0,    0,    0,\\n           0,    0,    0,    0,    0,    0,    0,    0,    0,    0,    0,    0,\\n           0,    0,    0,    0,    0,    0,    0,    0,    0,    0,    0,    0,\\n           0,    0,    0,    0,    0,    0,    0,    0,    0,    0,    0,    0,\\n           0,    0,    0,    0,    0,    0,    0,    0,    0,    0,    0,    0,\\n           0,    0,    0,    0,    0,    0,    0,    0,    0,    0,    0,    0,\\n           0,    0,    0,    0,    0,    0,    0,    0,    0,    0,    0,    0,\\n           0,    0,    0,    0,    0,    0,    0,    0,    0,    0,    0,    0,\\n           0,    0,    0,    0,    0,    0,    0,    0,    0,    0,    0,    0,\\n           0,    0,    0,    0,    0,    0,    0,    0,    0,    0,    0,    0,\\n           0,    0,    0,    0])',\n",
            "       b'tensor([  101,  2054,  2003,  1996,  3430,  1997,  1996,  2235,  2518,  2000,\\n         1996,  2187,  1997,  1996,  2235,  6379,  3796,  1999,  2392,  1997,\\n         1996,  2235, 22330,  2319,  8903, 14291,  1029,   102,     0,     0,\\n            0,     0,     0,     0,     0,     0,     0,     0,     0,     0,\\n            0,     0,     0,     0,     0,     0,     0,     0,     0,     0,\\n            0,     0,     0,     0,     0,     0,     0,     0,     0,     0,\\n            0,     0,     0,     0,     0,     0,     0,     0,     0,     0,\\n            0,     0,     0,     0,     0,     0,     0,     0,     0,     0,\\n            0,     0,     0,     0,     0,     0,     0,     0,     0,     0,\\n            0,     0,     0,     0,     0,     0,     0,     0,     0,     0,\\n            0,     0,     0,     0,     0,     0,     0,     0,     0,     0,\\n            0,     0,     0,     0,     0,     0,     0,     0,     0,     0,\\n            0,     0,     0,     0,     0,     0,     0,     0,     0,     0,\\n            0,     0,     0,     0,     0,     0,     0,     0,     0,     0,\\n            0,     0,     0,     0,     0,     0,     0,     0,     0,     0,\\n            0,     0,     0,     0,     0,     0,     0,     0,     0,     0,\\n            0,     0,     0,     0,     0,     0,     0,     0,     0,     0,\\n            0,     0,     0,     0,     0,     0,     0,     0,     0,     0,\\n            0,     0,     0,     0,     0,     0,     0,     0,     0,     0,\\n            0,     0,     0,     0,     0,     0,     0,     0,     0,     0,\\n            0,     0,     0,     0,     0,     0,     0,     0,     0,     0,\\n            0,     0,     0,     0,     0,     0,     0,     0,     0,     0,\\n            0,     0,     0,     0,     0,     0,     0,     0,     0,     0,\\n            0,     0,     0,     0,     0,     0,     0,     0,     0,     0,\\n            0,     0,     0,     0,     0,     0,     0,     0,     0,     0,\\n            0,     0,     0,     0,     0,     0])',\n",
            "       b'tensor([  101,  2024,  2045,  2151,  2312, 22330,  2319, 19885,  2081,  1997,\\n         1996,  2168,  3430,  2004,  1996,  2312,  2665, 10336,  1029,   102,\\n            0,     0,     0,     0,     0,     0,     0,     0,     0,     0,\\n            0,     0,     0,     0,     0,     0,     0,     0,     0,     0,\\n            0,     0,     0,     0,     0,     0,     0,     0,     0,     0,\\n            0,     0,     0,     0,     0,     0,     0,     0,     0,     0,\\n            0,     0,     0,     0,     0,     0,     0,     0,     0,     0,\\n            0,     0,     0,     0,     0,     0,     0,     0,     0,     0,\\n            0,     0,     0,     0,     0,     0,     0,     0,     0,     0,\\n            0,     0,     0,     0,     0,     0,     0,     0,     0,     0,\\n            0,     0,     0,     0,     0,     0,     0,     0,     0,     0,\\n            0,     0,     0,     0,     0,     0,     0,     0,     0,     0,\\n            0,     0,     0,     0,     0,     0,     0,     0,     0,     0,\\n            0,     0,     0,     0,     0,     0,     0,     0,     0,     0,\\n            0,     0,     0,     0,     0,     0,     0,     0,     0,     0,\\n            0,     0,     0,     0,     0,     0,     0,     0,     0,     0,\\n            0,     0,     0,     0,     0,     0,     0,     0,     0,     0,\\n            0,     0,     0,     0,     0,     0,     0,     0,     0,     0,\\n            0,     0,     0,     0,     0,     0,     0,     0,     0,     0,\\n            0,     0,     0,     0,     0,     0,     0,     0,     0,     0,\\n            0,     0,     0,     0,     0,     0,     0,     0,     0,     0,\\n            0,     0,     0,     0,     0,     0,     0,     0,     0,     0,\\n            0,     0,     0,     0,     0,     0,     0,     0,     0,     0,\\n            0,     0,     0,     0,     0,     0,     0,     0,     0,     0,\\n            0,     0,     0,     0,     0,     0,     0,     0,     0,     0,\\n            0,     0,     0,     0,     0,     0])',\n",
            "       b'tensor([  101,  2054,  2003,  1996,  4338,  1997,  1996,  4714, 22330,  2319,\\n         4717,  2063,  2518,  1029,   102,     0,     0,     0,     0,     0,\\n            0,     0,     0,     0,     0,     0,     0,     0,     0,     0,\\n            0,     0,     0,     0,     0,     0,     0,     0,     0,     0,\\n            0,     0,     0,     0,     0,     0,     0,     0,     0,     0,\\n            0,     0,     0,     0,     0,     0,     0,     0,     0,     0,\\n            0,     0,     0,     0,     0,     0,     0,     0,     0,     0,\\n            0,     0,     0,     0,     0,     0,     0,     0,     0,     0,\\n            0,     0,     0,     0,     0,     0,     0,     0,     0,     0,\\n            0,     0,     0,     0,     0,     0,     0,     0,     0,     0,\\n            0,     0,     0,     0,     0,     0,     0,     0,     0,     0,\\n            0,     0,     0,     0,     0,     0,     0,     0,     0,     0,\\n            0,     0,     0,     0,     0,     0,     0,     0,     0,     0,\\n            0,     0,     0,     0,     0,     0,     0,     0,     0,     0,\\n            0,     0,     0,     0,     0,     0,     0,     0,     0,     0,\\n            0,     0,     0,     0,     0,     0,     0,     0,     0,     0,\\n            0,     0,     0,     0,     0,     0,     0,     0,     0,     0,\\n            0,     0,     0,     0,     0,     0,     0,     0,     0,     0,\\n            0,     0,     0,     0,     0,     0,     0,     0,     0,     0,\\n            0,     0,     0,     0,     0,     0,     0,     0,     0,     0,\\n            0,     0,     0,     0,     0,     0,     0,     0,     0,     0,\\n            0,     0,     0,     0,     0,     0,     0,     0,     0,     0,\\n            0,     0,     0,     0,     0,     0,     0,     0,     0,     0,\\n            0,     0,     0,     0,     0,     0,     0,     0,     0,     0,\\n            0,     0,     0,     0,     0,     0,     0,     0,     0,     0,\\n            0,     0,     0,     0,     0,     0])',\n",
            "       b'tensor([  101,  2129,  2116,  2829, 12538,  5200,  2024,  2045,  1029,   102,\\n            0,     0,     0,     0,     0,     0,     0,     0,     0,     0,\\n            0,     0,     0,     0,     0,     0,     0,     0,     0,     0,\\n            0,     0,     0,     0,     0,     0,     0,     0,     0,     0,\\n            0,     0,     0,     0,     0,     0,     0,     0,     0,     0,\\n            0,     0,     0,     0,     0,     0,     0,     0,     0,     0,\\n            0,     0,     0,     0,     0,     0,     0,     0,     0,     0,\\n            0,     0,     0,     0,     0,     0,     0,     0,     0,     0,\\n            0,     0,     0,     0,     0,     0,     0,     0,     0,     0,\\n            0,     0,     0,     0,     0,     0,     0,     0,     0,     0,\\n            0,     0,     0,     0,     0,     0,     0,     0,     0,     0,\\n            0,     0,     0,     0,     0,     0,     0,     0,     0,     0,\\n            0,     0,     0,     0,     0,     0,     0,     0,     0,     0,\\n            0,     0,     0,     0,     0,     0,     0,     0,     0,     0,\\n            0,     0,     0,     0,     0,     0,     0,     0,     0,     0,\\n            0,     0,     0,     0,     0,     0,     0,     0,     0,     0,\\n            0,     0,     0,     0,     0,     0,     0,     0,     0,     0,\\n            0,     0,     0,     0,     0,     0,     0,     0,     0,     0,\\n            0,     0,     0,     0,     0,     0,     0,     0,     0,     0,\\n            0,     0,     0,     0,     0,     0,     0,     0,     0,     0,\\n            0,     0,     0,     0,     0,     0,     0,     0,     0,     0,\\n            0,     0,     0,     0,     0,     0,     0,     0,     0,     0,\\n            0,     0,     0,     0,     0,     0,     0,     0,     0,     0,\\n            0,     0,     0,     0,     0,     0,     0,     0,     0,     0,\\n            0,     0,     0,     0,     0,     0,     0,     0,     0,     0,\\n            0,     0,     0,     0,     0,     0])',\n",
            "       b'tensor([  101,  2045,  2003,  1037,  2235, 14291,  2006,  1996,  2157,  2217,\\n         1997,  1996,  4714,  2630,  2518,  2008,  2003,  2369,  1996,  4714,\\n        22330,  2319,  4717,  2063,  2518,  1025,  2054,  2003,  2049,  3609,\\n         1029,   102,     0,     0,     0,     0,     0,     0,     0,     0,\\n            0,     0,     0,     0,     0,     0,     0,     0,     0,     0,\\n            0,     0,     0,     0,     0,     0,     0,     0,     0,     0,\\n            0,     0,     0,     0,     0,     0,     0,     0,     0,     0,\\n            0,     0,     0,     0,     0,     0,     0,     0,     0,     0,\\n            0,     0,     0,     0,     0,     0,     0,     0,     0,     0,\\n            0,     0,     0,     0,     0,     0,     0,     0,     0,     0,\\n            0,     0,     0,     0,     0,     0,     0,     0,     0,     0,\\n            0,     0,     0,     0,     0,     0,     0,     0,     0,     0,\\n            0,     0,     0,     0,     0,     0,     0,     0,     0,     0,\\n            0,     0,     0,     0,     0,     0,     0,     0,     0,     0,\\n            0,     0,     0,     0,     0,     0,     0,     0,     0,     0,\\n            0,     0,     0,     0,     0,     0,     0,     0,     0,     0,\\n            0,     0,     0,     0,     0,     0,     0,     0,     0,     0,\\n            0,     0,     0,     0,     0,     0,     0,     0,     0,     0,\\n            0,     0,     0,     0,     0,     0,     0,     0,     0,     0,\\n            0,     0,     0,     0,     0,     0,     0,     0,     0,     0,\\n            0,     0,     0,     0,     0,     0,     0,     0,     0,     0,\\n            0,     0,     0,     0,     0,     0,     0,     0,     0,     0,\\n            0,     0,     0,     0,     0,     0,     0,     0,     0,     0,\\n            0,     0,     0,     0,     0,     0,     0,     0,     0,     0,\\n            0,     0,     0,     0,     0,     0,     0,     0,     0,     0,\\n            0,     0,     0,     0,     0,     0])',\n",
            "       b'tensor([  101,  2045,  2003,  1037, 12392,  3796,  2008,  2003,  1996,  2168,\\n         2946,  2004,  1996, 22330,  2319,  8903, 14291,  1025,  2054,  3609,\\n         2003,  2009,  1029,   102,     0,     0,     0,     0,     0,     0,\\n            0,     0,     0,     0,     0,     0,     0,     0,     0,     0,\\n            0,     0,     0,     0,     0,     0,     0,     0,     0,     0,\\n            0,     0,     0,     0,     0,     0,     0,     0,     0,     0,\\n            0,     0,     0,     0,     0,     0,     0,     0,     0,     0,\\n            0,     0,     0,     0,     0,     0,     0,     0,     0,     0,\\n            0,     0,     0,     0,     0,     0,     0,     0,     0,     0,\\n            0,     0,     0,     0,     0,     0,     0,     0,     0,     0,\\n            0,     0,     0,     0,     0,     0,     0,     0,     0,     0,\\n            0,     0,     0,     0,     0,     0,     0,     0,     0,     0,\\n            0,     0,     0,     0,     0,     0,     0,     0,     0,     0,\\n            0,     0,     0,     0,     0,     0,     0,     0,     0,     0,\\n            0,     0,     0,     0,     0,     0,     0,     0,     0,     0,\\n            0,     0,     0,     0,     0,     0,     0,     0,     0,     0,\\n            0,     0,     0,     0,     0,     0,     0,     0,     0,     0,\\n            0,     0,     0,     0,     0,     0,     0,     0,     0,     0,\\n            0,     0,     0,     0,     0,     0,     0,     0,     0,     0,\\n            0,     0,     0,     0,     0,     0,     0,     0,     0,     0,\\n            0,     0,     0,     0,     0,     0,     0,     0,     0,     0,\\n            0,     0,     0,     0,     0,     0,     0,     0,     0,     0,\\n            0,     0,     0,     0,     0,     0,     0,     0,     0,     0,\\n            0,     0,     0,     0,     0,     0,     0,     0,     0,     0,\\n            0,     0,     0,     0,     0,     0,     0,     0,     0,     0,\\n            0,     0,     0,     0,     0,     0])',\n",
            "       b'tensor([ 101, 2024, 2151, 4714, 6379, 8903, 7395, 5710, 1029,  102,    0,    0,\\n           0,    0,    0,    0,    0,    0,    0,    0,    0,    0,    0,    0,\\n           0,    0,    0,    0,    0,    0,    0,    0,    0,    0,    0,    0,\\n           0,    0,    0,    0,    0,    0,    0,    0,    0,    0,    0,    0,\\n           0,    0,    0,    0,    0,    0,    0,    0,    0,    0,    0,    0,\\n           0,    0,    0,    0,    0,    0,    0,    0,    0,    0,    0,    0,\\n           0,    0,    0,    0,    0,    0,    0,    0,    0,    0,    0,    0,\\n           0,    0,    0,    0,    0,    0,    0,    0,    0,    0,    0,    0,\\n           0,    0,    0,    0,    0,    0,    0,    0,    0,    0,    0,    0,\\n           0,    0,    0,    0,    0,    0,    0,    0,    0,    0,    0,    0,\\n           0,    0,    0,    0,    0,    0,    0,    0,    0,    0,    0,    0,\\n           0,    0,    0,    0,    0,    0,    0,    0,    0,    0,    0,    0,\\n           0,    0,    0,    0,    0,    0,    0,    0,    0,    0,    0,    0,\\n           0,    0,    0,    0,    0,    0,    0,    0,    0,    0,    0,    0,\\n           0,    0,    0,    0,    0,    0,    0,    0,    0,    0,    0,    0,\\n           0,    0,    0,    0,    0,    0,    0,    0,    0,    0,    0,    0,\\n           0,    0,    0,    0,    0,    0,    0,    0,    0,    0,    0,    0,\\n           0,    0,    0,    0,    0,    0,    0,    0,    0,    0,    0,    0,\\n           0,    0,    0,    0,    0,    0,    0,    0,    0,    0,    0,    0,\\n           0,    0,    0,    0,    0,    0,    0,    0,    0,    0,    0,    0,\\n           0,    0,    0,    0,    0,    0,    0,    0,    0,    0,    0,    0,\\n           0,    0,    0,    0])',\n",
            "       b'tensor([  101,  2045,  2003,  1037, 22330,  2319,  3384,  2518,  2369,  1996,\\n        22330,  2319,  3384,  3608,  1025,  2054,  4338,  2003,  2009,  1029,\\n          102,     0,     0,     0,     0,     0,     0,     0,     0,     0,\\n            0,     0,     0,     0,     0,     0,     0,     0,     0,     0,\\n            0,     0,     0,     0,     0,     0,     0,     0,     0,     0,\\n            0,     0,     0,     0,     0,     0,     0,     0,     0,     0,\\n            0,     0,     0,     0,     0,     0,     0,     0,     0,     0,\\n            0,     0,     0,     0,     0,     0,     0,     0,     0,     0,\\n            0,     0,     0,     0,     0,     0,     0,     0,     0,     0,\\n            0,     0,     0,     0,     0,     0,     0,     0,     0,     0,\\n            0,     0,     0,     0,     0,     0,     0,     0,     0,     0,\\n            0,     0,     0,     0,     0,     0,     0,     0,     0,     0,\\n            0,     0,     0,     0,     0,     0,     0,     0,     0,     0,\\n            0,     0,     0,     0,     0,     0,     0,     0,     0,     0,\\n            0,     0,     0,     0,     0,     0,     0,     0,     0,     0,\\n            0,     0,     0,     0,     0,     0,     0,     0,     0,     0,\\n            0,     0,     0,     0,     0,     0,     0,     0,     0,     0,\\n            0,     0,     0,     0,     0,     0,     0,     0,     0,     0,\\n            0,     0,     0,     0,     0,     0,     0,     0,     0,     0,\\n            0,     0,     0,     0,     0,     0,     0,     0,     0,     0,\\n            0,     0,     0,     0,     0,     0,     0,     0,     0,     0,\\n            0,     0,     0,     0,     0,     0,     0,     0,     0,     0,\\n            0,     0,     0,     0,     0,     0,     0,     0,     0,     0,\\n            0,     0,     0,     0,     0,     0,     0,     0,     0,     0,\\n            0,     0,     0,     0,     0,     0,     0,     0,     0,     0,\\n            0,     0,     0,     0,     0,     0])',\n",
            "       b'tensor([  101,  2054,  2193,  1997,  5200,  2024,  2119,  2000,  1996,  2187,\\n         1997,  1996,  6379,  4717,  2063, 14291,  1998,  2157,  1997,  1996,\\n         2235,  6379,  3384, 10336,  1029,   102,     0,     0,     0,     0,\\n            0,     0,     0,     0,     0,     0,     0,     0,     0,     0,\\n            0,     0,     0,     0,     0,     0,     0,     0,     0,     0,\\n            0,     0,     0,     0,     0,     0,     0,     0,     0,     0,\\n            0,     0,     0,     0,     0,     0,     0,     0,     0,     0,\\n            0,     0,     0,     0,     0,     0,     0,     0,     0,     0,\\n            0,     0,     0,     0,     0,     0,     0,     0,     0,     0,\\n            0,     0,     0,     0,     0,     0,     0,     0,     0,     0,\\n            0,     0,     0,     0,     0,     0,     0,     0,     0,     0,\\n            0,     0,     0,     0,     0,     0,     0,     0,     0,     0,\\n            0,     0,     0,     0,     0,     0,     0,     0,     0,     0,\\n            0,     0,     0,     0,     0,     0,     0,     0,     0,     0,\\n            0,     0,     0,     0,     0,     0,     0,     0,     0,     0,\\n            0,     0,     0,     0,     0,     0,     0,     0,     0,     0,\\n            0,     0,     0,     0,     0,     0,     0,     0,     0,     0,\\n            0,     0,     0,     0,     0,     0,     0,     0,     0,     0,\\n            0,     0,     0,     0,     0,     0,     0,     0,     0,     0,\\n            0,     0,     0,     0,     0,     0,     0,     0,     0,     0,\\n            0,     0,     0,     0,     0,     0,     0,     0,     0,     0,\\n            0,     0,     0,     0,     0,     0,     0,     0,     0,     0,\\n            0,     0,     0,     0,     0,     0,     0,     0,     0,     0,\\n            0,     0,     0,     0,     0,     0,     0,     0,     0,     0,\\n            0,     0,     0,     0,     0,     0,     0,     0,     0,     0,\\n            0,     0,     0,     0,     0,     0])',\n",
            "       b'tensor([  101,  2515,  1996, 12538,  4874,  1999,  2392,  1997,  1996,  6379,\\n         4717,  2063,  3796,  2031,  1996,  2168,  2946,  2004,  1996,  2235,\\n        12392,  7956,  1029,   102,     0,     0,     0,     0,     0,     0,\\n            0,     0,     0,     0,     0,     0,     0,     0,     0,     0,\\n            0,     0,     0,     0,     0,     0,     0,     0,     0,     0,\\n            0,     0,     0,     0,     0,     0,     0,     0,     0,     0,\\n            0,     0,     0,     0,     0,     0,     0,     0,     0,     0,\\n            0,     0,     0,     0,     0,     0,     0,     0,     0,     0,\\n            0,     0,     0,     0,     0,     0,     0,     0,     0,     0,\\n            0,     0,     0,     0,     0,     0,     0,     0,     0,     0,\\n            0,     0,     0,     0,     0,     0,     0,     0,     0,     0,\\n            0,     0,     0,     0,     0,     0,     0,     0,     0,     0,\\n            0,     0,     0,     0,     0,     0,     0,     0,     0,     0,\\n            0,     0,     0,     0,     0,     0,     0,     0,     0,     0,\\n            0,     0,     0,     0,     0,     0,     0,     0,     0,     0,\\n            0,     0,     0,     0,     0,     0,     0,     0,     0,     0,\\n            0,     0,     0,     0,     0,     0,     0,     0,     0,     0,\\n            0,     0,     0,     0,     0,     0,     0,     0,     0,     0,\\n            0,     0,     0,     0,     0,     0,     0,     0,     0,     0,\\n            0,     0,     0,     0,     0,     0,     0,     0,     0,     0,\\n            0,     0,     0,     0,     0,     0,     0,     0,     0,     0,\\n            0,     0,     0,     0,     0,     0,     0,     0,     0,     0,\\n            0,     0,     0,     0,     0,     0,     0,     0,     0,     0,\\n            0,     0,     0,     0,     0,     0,     0,     0,     0,     0,\\n            0,     0,     0,     0,     0,     0,     0,     0,     0,     0,\\n            0,     0,     0,     0,     0,     0])',\n",
            "       b'tensor([  101,  2003,  2045,  2178,  4714, 10336,  2008,  2038,  1996,  2168,\\n         3609,  2004,  1996,  3608,  1029,   102,     0,     0,     0,     0,\\n            0,     0,     0,     0,     0,     0,     0,     0,     0,     0,\\n            0,     0,     0,     0,     0,     0,     0,     0,     0,     0,\\n            0,     0,     0,     0,     0,     0,     0,     0,     0,     0,\\n            0,     0,     0,     0,     0,     0,     0,     0,     0,     0,\\n            0,     0,     0,     0,     0,     0,     0,     0,     0,     0,\\n            0,     0,     0,     0,     0,     0,     0,     0,     0,     0,\\n            0,     0,     0,     0,     0,     0,     0,     0,     0,     0,\\n            0,     0,     0,     0,     0,     0,     0,     0,     0,     0,\\n            0,     0,     0,     0,     0,     0,     0,     0,     0,     0,\\n            0,     0,     0,     0,     0,     0,     0,     0,     0,     0,\\n            0,     0,     0,     0,     0,     0,     0,     0,     0,     0,\\n            0,     0,     0,     0,     0,     0,     0,     0,     0,     0,\\n            0,     0,     0,     0,     0,     0,     0,     0,     0,     0,\\n            0,     0,     0,     0,     0,     0,     0,     0,     0,     0,\\n            0,     0,     0,     0,     0,     0,     0,     0,     0,     0,\\n            0,     0,     0,     0,     0,     0,     0,     0,     0,     0,\\n            0,     0,     0,     0,     0,     0,     0,     0,     0,     0,\\n            0,     0,     0,     0,     0,     0,     0,     0,     0,     0,\\n            0,     0,     0,     0,     0,     0,     0,     0,     0,     0,\\n            0,     0,     0,     0,     0,     0,     0,     0,     0,     0,\\n            0,     0,     0,     0,     0,     0,     0,     0,     0,     0,\\n            0,     0,     0,     0,     0,     0,     0,     0,     0,     0,\\n            0,     0,     0,     0,     0,     0,     0,     0,     0,     0,\\n            0,     0,     0,     0,     0,     0])',\n",
            "       b'tensor([  101,  1996,  6379,  3608,  2008,  2003,  1996,  2168,  3430,  2004,\\n         1996,  4714, 22330,  2319,  7956,  2003,  2054,  2946,  1029,   102,\\n            0,     0,     0,     0,     0,     0,     0,     0,     0,     0,\\n            0,     0,     0,     0,     0,     0,     0,     0,     0,     0,\\n            0,     0,     0,     0,     0,     0,     0,     0,     0,     0,\\n            0,     0,     0,     0,     0,     0,     0,     0,     0,     0,\\n            0,     0,     0,     0,     0,     0,     0,     0,     0,     0,\\n            0,     0,     0,     0,     0,     0,     0,     0,     0,     0,\\n            0,     0,     0,     0,     0,     0,     0,     0,     0,     0,\\n            0,     0,     0,     0,     0,     0,     0,     0,     0,     0,\\n            0,     0,     0,     0,     0,     0,     0,     0,     0,     0,\\n            0,     0,     0,     0,     0,     0,     0,     0,     0,     0,\\n            0,     0,     0,     0,     0,     0,     0,     0,     0,     0,\\n            0,     0,     0,     0,     0,     0,     0,     0,     0,     0,\\n            0,     0,     0,     0,     0,     0,     0,     0,     0,     0,\\n            0,     0,     0,     0,     0,     0,     0,     0,     0,     0,\\n            0,     0,     0,     0,     0,     0,     0,     0,     0,     0,\\n            0,     0,     0,     0,     0,     0,     0,     0,     0,     0,\\n            0,     0,     0,     0,     0,     0,     0,     0,     0,     0,\\n            0,     0,     0,     0,     0,     0,     0,     0,     0,     0,\\n            0,     0,     0,     0,     0,     0,     0,     0,     0,     0,\\n            0,     0,     0,     0,     0,     0,     0,     0,     0,     0,\\n            0,     0,     0,     0,     0,     0,     0,     0,     0,     0,\\n            0,     0,     0,     0,     0,     0,     0,     0,     0,     0,\\n            0,     0,     0,     0,     0,     0,     0,     0,     0,     0,\\n            0,     0,     0,     0,     0,     0])',\n",
            "       b'tensor([  101,  2003,  1996,  2193,  1997, 22330,  2319,  2477,  1999,  2392,\\n         1997,  1996,  6379,  4717,  2063, 14291,  3618,  2084,  1996,  2193,\\n         1997,  3384, 18729,  2187,  1997,  1996,  2235,  3384, 10336,  1029,\\n          102,     0,     0,     0,     0,     0,     0,     0,     0,     0,\\n            0,     0,     0,     0,     0,     0,     0,     0,     0,     0,\\n            0,     0,     0,     0,     0,     0,     0,     0,     0,     0,\\n            0,     0,     0,     0,     0,     0,     0,     0,     0,     0,\\n            0,     0,     0,     0,     0,     0,     0,     0,     0,     0,\\n            0,     0,     0,     0,     0,     0,     0,     0,     0,     0,\\n            0,     0,     0,     0,     0,     0,     0,     0,     0,     0,\\n            0,     0,     0,     0,     0,     0,     0,     0,     0,     0,\\n            0,     0,     0,     0,     0,     0,     0,     0,     0,     0,\\n            0,     0,     0,     0,     0,     0,     0,     0,     0,     0,\\n            0,     0,     0,     0,     0,     0,     0,     0,     0,     0,\\n            0,     0,     0,     0,     0,     0,     0,     0,     0,     0,\\n            0,     0,     0,     0,     0,     0,     0,     0,     0,     0,\\n            0,     0,     0,     0,     0,     0,     0,     0,     0,     0,\\n            0,     0,     0,     0,     0,     0,     0,     0,     0,     0,\\n            0,     0,     0,     0,     0,     0,     0,     0,     0,     0,\\n            0,     0,     0,     0,     0,     0,     0,     0,     0,     0,\\n            0,     0,     0,     0,     0,     0,     0,     0,     0,     0,\\n            0,     0,     0,     0,     0,     0,     0,     0,     0,     0,\\n            0,     0,     0,     0,     0,     0,     0,     0,     0,     0,\\n            0,     0,     0,     0,     0,     0,     0,     0,     0,     0,\\n            0,     0,     0,     0,     0,     0,     0,     0,     0,     0,\\n            0,     0,     0,     0,     0,     0])',\n",
            "       b'tensor([ 101, 2129, 2116, 2060, 2477, 2024, 2045, 1997, 1996, 2168, 3430, 2004,\\n        1996, 3608, 1029,  102,    0,    0,    0,    0,    0,    0,    0,    0,\\n           0,    0,    0,    0,    0,    0,    0,    0,    0,    0,    0,    0,\\n           0,    0,    0,    0,    0,    0,    0,    0,    0,    0,    0,    0,\\n           0,    0,    0,    0,    0,    0,    0,    0,    0,    0,    0,    0,\\n           0,    0,    0,    0,    0,    0,    0,    0,    0,    0,    0,    0,\\n           0,    0,    0,    0,    0,    0,    0,    0,    0,    0,    0,    0,\\n           0,    0,    0,    0,    0,    0,    0,    0,    0,    0,    0,    0,\\n           0,    0,    0,    0,    0,    0,    0,    0,    0,    0,    0,    0,\\n           0,    0,    0,    0,    0,    0,    0,    0,    0,    0,    0,    0,\\n           0,    0,    0,    0,    0,    0,    0,    0,    0,    0,    0,    0,\\n           0,    0,    0,    0,    0,    0,    0,    0,    0,    0,    0,    0,\\n           0,    0,    0,    0,    0,    0,    0,    0,    0,    0,    0,    0,\\n           0,    0,    0,    0,    0,    0,    0,    0,    0,    0,    0,    0,\\n           0,    0,    0,    0,    0,    0,    0,    0,    0,    0,    0,    0,\\n           0,    0,    0,    0,    0,    0,    0,    0,    0,    0,    0,    0,\\n           0,    0,    0,    0,    0,    0,    0,    0,    0,    0,    0,    0,\\n           0,    0,    0,    0,    0,    0,    0,    0,    0,    0,    0,    0,\\n           0,    0,    0,    0,    0,    0,    0,    0,    0,    0,    0,    0,\\n           0,    0,    0,    0,    0,    0,    0,    0,    0,    0,    0,    0,\\n           0,    0,    0,    0,    0,    0,    0,    0,    0,    0,    0,    0,\\n           0,    0,    0,    0])',\n",
            "       b'tensor([  101,  2003,  1996,  2518,  2369,  1996,  8903,  2518,  2081,  1997,\\n         1996,  2168,  3430,  2004,  1996, 14291,  1029,   102,     0,     0,\\n            0,     0,     0,     0,     0,     0,     0,     0,     0,     0,\\n            0,     0,     0,     0,     0,     0,     0,     0,     0,     0,\\n            0,     0,     0,     0,     0,     0,     0,     0,     0,     0,\\n            0,     0,     0,     0,     0,     0,     0,     0,     0,     0,\\n            0,     0,     0,     0,     0,     0,     0,     0,     0,     0,\\n            0,     0,     0,     0,     0,     0,     0,     0,     0,     0,\\n            0,     0,     0,     0,     0,     0,     0,     0,     0,     0,\\n            0,     0,     0,     0,     0,     0,     0,     0,     0,     0,\\n            0,     0,     0,     0,     0,     0,     0,     0,     0,     0,\\n            0,     0,     0,     0,     0,     0,     0,     0,     0,     0,\\n            0,     0,     0,     0,     0,     0,     0,     0,     0,     0,\\n            0,     0,     0,     0,     0,     0,     0,     0,     0,     0,\\n            0,     0,     0,     0,     0,     0,     0,     0,     0,     0,\\n            0,     0,     0,     0,     0,     0,     0,     0,     0,     0,\\n            0,     0,     0,     0,     0,     0,     0,     0,     0,     0,\\n            0,     0,     0,     0,     0,     0,     0,     0,     0,     0,\\n            0,     0,     0,     0,     0,     0,     0,     0,     0,     0,\\n            0,     0,     0,     0,     0,     0,     0,     0,     0,     0,\\n            0,     0,     0,     0,     0,     0,     0,     0,     0,     0,\\n            0,     0,     0,     0,     0,     0,     0,     0,     0,     0,\\n            0,     0,     0,     0,     0,     0,     0,     0,     0,     0,\\n            0,     0,     0,     0,     0,     0,     0,     0,     0,     0,\\n            0,     0,     0,     0,     0,     0,     0,     0,     0,     0,\\n            0,     0,     0,     0,     0,     0])',\n",
            "       b'tensor([ 101, 1996, 6379, 8903, 2518, 2038, 2054, 4338, 1029,  102,    0,    0,\\n           0,    0,    0,    0,    0,    0,    0,    0,    0,    0,    0,    0,\\n           0,    0,    0,    0,    0,    0,    0,    0,    0,    0,    0,    0,\\n           0,    0,    0,    0,    0,    0,    0,    0,    0,    0,    0,    0,\\n           0,    0,    0,    0,    0,    0,    0,    0,    0,    0,    0,    0,\\n           0,    0,    0,    0,    0,    0,    0,    0,    0,    0,    0,    0,\\n           0,    0,    0,    0,    0,    0,    0,    0,    0,    0,    0,    0,\\n           0,    0,    0,    0,    0,    0,    0,    0,    0,    0,    0,    0,\\n           0,    0,    0,    0,    0,    0,    0,    0,    0,    0,    0,    0,\\n           0,    0,    0,    0,    0,    0,    0,    0,    0,    0,    0,    0,\\n           0,    0,    0,    0,    0,    0,    0,    0,    0,    0,    0,    0,\\n           0,    0,    0,    0,    0,    0,    0,    0,    0,    0,    0,    0,\\n           0,    0,    0,    0,    0,    0,    0,    0,    0,    0,    0,    0,\\n           0,    0,    0,    0,    0,    0,    0,    0,    0,    0,    0,    0,\\n           0,    0,    0,    0,    0,    0,    0,    0,    0,    0,    0,    0,\\n           0,    0,    0,    0,    0,    0,    0,    0,    0,    0,    0,    0,\\n           0,    0,    0,    0,    0,    0,    0,    0,    0,    0,    0,    0,\\n           0,    0,    0,    0,    0,    0,    0,    0,    0,    0,    0,    0,\\n           0,    0,    0,    0,    0,    0,    0,    0,    0,    0,    0,    0,\\n           0,    0,    0,    0,    0,    0,    0,    0,    0,    0,    0,    0,\\n           0,    0,    0,    0,    0,    0,    0,    0,    0,    0,    0,    0,\\n           0,    0,    0,    0])',\n",
            "       b'tensor([  101,  2003,  1996,  2193,  1997,  2235, 18729,  2008,  2024,  2187,\\n         1997,  1996,  4714, 12538,  3608,  3618,  2084,  1996,  2193,  1997,\\n         2417,  3384,  7395,  1029,   102,     0,     0,     0,     0,     0,\\n            0,     0,     0,     0,     0,     0,     0,     0,     0,     0,\\n            0,     0,     0,     0,     0,     0,     0,     0,     0,     0,\\n            0,     0,     0,     0,     0,     0,     0,     0,     0,     0,\\n            0,     0,     0,     0,     0,     0,     0,     0,     0,     0,\\n            0,     0,     0,     0,     0,     0,     0,     0,     0,     0,\\n            0,     0,     0,     0,     0,     0,     0,     0,     0,     0,\\n            0,     0,     0,     0,     0,     0,     0,     0,     0,     0,\\n            0,     0,     0,     0,     0,     0,     0,     0,     0,     0,\\n            0,     0,     0,     0,     0,     0,     0,     0,     0,     0,\\n            0,     0,     0,     0,     0,     0,     0,     0,     0,     0,\\n            0,     0,     0,     0,     0,     0,     0,     0,     0,     0,\\n            0,     0,     0,     0,     0,     0,     0,     0,     0,     0,\\n            0,     0,     0,     0,     0,     0,     0,     0,     0,     0,\\n            0,     0,     0,     0,     0,     0,     0,     0,     0,     0,\\n            0,     0,     0,     0,     0,     0,     0,     0,     0,     0,\\n            0,     0,     0,     0,     0,     0,     0,     0,     0,     0,\\n            0,     0,     0,     0,     0,     0,     0,     0,     0,     0,\\n            0,     0,     0,     0,     0,     0,     0,     0,     0,     0,\\n            0,     0,     0,     0,     0,     0,     0,     0,     0,     0,\\n            0,     0,     0,     0,     0,     0,     0,     0,     0,     0,\\n            0,     0,     0,     0,     0,     0,     0,     0,     0,     0,\\n            0,     0,     0,     0,     0,     0,     0,     0,     0,     0,\\n            0,     0,     0,     0,     0,     0])',\n",
            "       b'tensor([  101,  2003,  2045,  2151,  2060,  2518,  2008,  2038,  1996,  2168,\\n         4338,  2004,  1996, 22330,  2319,  2518,  1029,   102,     0,     0,\\n            0,     0,     0,     0,     0,     0,     0,     0,     0,     0,\\n            0,     0,     0,     0,     0,     0,     0,     0,     0,     0,\\n            0,     0,     0,     0,     0,     0,     0,     0,     0,     0,\\n            0,     0,     0,     0,     0,     0,     0,     0,     0,     0,\\n            0,     0,     0,     0,     0,     0,     0,     0,     0,     0,\\n            0,     0,     0,     0,     0,     0,     0,     0,     0,     0,\\n            0,     0,     0,     0,     0,     0,     0,     0,     0,     0,\\n            0,     0,     0,     0,     0,     0,     0,     0,     0,     0,\\n            0,     0,     0,     0,     0,     0,     0,     0,     0,     0,\\n            0,     0,     0,     0,     0,     0,     0,     0,     0,     0,\\n            0,     0,     0,     0,     0,     0,     0,     0,     0,     0,\\n            0,     0,     0,     0,     0,     0,     0,     0,     0,     0,\\n            0,     0,     0,     0,     0,     0,     0,     0,     0,     0,\\n            0,     0,     0,     0,     0,     0,     0,     0,     0,     0,\\n            0,     0,     0,     0,     0,     0,     0,     0,     0,     0,\\n            0,     0,     0,     0,     0,     0,     0,     0,     0,     0,\\n            0,     0,     0,     0,     0,     0,     0,     0,     0,     0,\\n            0,     0,     0,     0,     0,     0,     0,     0,     0,     0,\\n            0,     0,     0,     0,     0,     0,     0,     0,     0,     0,\\n            0,     0,     0,     0,     0,     0,     0,     0,     0,     0,\\n            0,     0,     0,     0,     0,     0,     0,     0,     0,     0,\\n            0,     0,     0,     0,     0,     0,     0,     0,     0,     0,\\n            0,     0,     0,     0,     0,     0,     0,     0,     0,     0,\\n            0,     0,     0,     0,     0,     0])',\n",
            "       b'tensor([ 101, 1996, 2235, 4874, 2000, 1996, 2187, 1997, 1996, 2312, 4717, 2063,\\n        4874, 2008, 2003, 2000, 1996, 2157, 1997, 1996, 2502, 3897, 4874, 2003,\\n        2054, 4338, 1029,  102,    0,    0,    0,    0,    0,    0,    0,    0,\\n           0,    0,    0,    0,    0,    0,    0,    0,    0,    0,    0,    0,\\n           0,    0,    0,    0,    0,    0,    0,    0,    0,    0,    0,    0,\\n           0,    0,    0,    0,    0,    0,    0,    0,    0,    0,    0,    0,\\n           0,    0,    0,    0,    0,    0,    0,    0,    0,    0,    0,    0,\\n           0,    0,    0,    0,    0,    0,    0,    0,    0,    0,    0,    0,\\n           0,    0,    0,    0,    0,    0,    0,    0,    0,    0,    0,    0,\\n           0,    0,    0,    0,    0,    0,    0,    0,    0,    0,    0,    0,\\n           0,    0,    0,    0,    0,    0,    0,    0,    0,    0,    0,    0,\\n           0,    0,    0,    0,    0,    0,    0,    0,    0,    0,    0,    0,\\n           0,    0,    0,    0,    0,    0,    0,    0,    0,    0,    0,    0,\\n           0,    0,    0,    0,    0,    0,    0,    0,    0,    0,    0,    0,\\n           0,    0,    0,    0,    0,    0,    0,    0,    0,    0,    0,    0,\\n           0,    0,    0,    0,    0,    0,    0,    0,    0,    0,    0,    0,\\n           0,    0,    0,    0,    0,    0,    0,    0,    0,    0,    0,    0,\\n           0,    0,    0,    0,    0,    0,    0,    0,    0,    0,    0,    0,\\n           0,    0,    0,    0,    0,    0,    0,    0,    0,    0,    0,    0,\\n           0,    0,    0,    0,    0,    0,    0,    0,    0,    0,    0,    0,\\n           0,    0,    0,    0,    0,    0,    0,    0,    0,    0,    0,    0,\\n           0,    0,    0,    0])',\n",
            "       b'tensor([  101,  2045,  2003,  1037,  3756,  4874,  2006,  1996,  2157,  2217,\\n         1997,  1996,  2312,  3756,  8903, 14291,  1025,  2003,  2049,  4338,\\n         1996,  2168,  2004,  1996,  2312,  3897,  3384,  4874,  1029,   102,\\n            0,     0,     0,     0,     0,     0,     0,     0,     0,     0,\\n            0,     0,     0,     0,     0,     0,     0,     0,     0,     0,\\n            0,     0,     0,     0,     0,     0,     0,     0,     0,     0,\\n            0,     0,     0,     0,     0,     0,     0,     0,     0,     0,\\n            0,     0,     0,     0,     0,     0,     0,     0,     0,     0,\\n            0,     0,     0,     0,     0,     0,     0,     0,     0,     0,\\n            0,     0,     0,     0,     0,     0,     0,     0,     0,     0,\\n            0,     0,     0,     0,     0,     0,     0,     0,     0,     0,\\n            0,     0,     0,     0,     0,     0,     0,     0,     0,     0,\\n            0,     0,     0,     0,     0,     0,     0,     0,     0,     0,\\n            0,     0,     0,     0,     0,     0,     0,     0,     0,     0,\\n            0,     0,     0,     0,     0,     0,     0,     0,     0,     0,\\n            0,     0,     0,     0,     0,     0,     0,     0,     0,     0,\\n            0,     0,     0,     0,     0,     0,     0,     0,     0,     0,\\n            0,     0,     0,     0,     0,     0,     0,     0,     0,     0,\\n            0,     0,     0,     0,     0,     0,     0,     0,     0,     0,\\n            0,     0,     0,     0,     0,     0,     0,     0,     0,     0,\\n            0,     0,     0,     0,     0,     0,     0,     0,     0,     0,\\n            0,     0,     0,     0,     0,     0,     0,     0,     0,     0,\\n            0,     0,     0,     0,     0,     0,     0,     0,     0,     0,\\n            0,     0,     0,     0,     0,     0,     0,     0,     0,     0,\\n            0,     0,     0,     0,     0,     0,     0,     0,     0,     0,\\n            0,     0,     0,     0,     0,     0])',\n",
            "       b'tensor([ 101, 2045, 2003, 1037, 8903, 2518, 2008, 2003, 1999, 2392, 1997, 1996,\\n        6379, 4874, 1025, 2054, 3609, 2003, 2009, 1029,  102,    0,    0,    0,\\n           0,    0,    0,    0,    0,    0,    0,    0,    0,    0,    0,    0,\\n           0,    0,    0,    0,    0,    0,    0,    0,    0,    0,    0,    0,\\n           0,    0,    0,    0,    0,    0,    0,    0,    0,    0,    0,    0,\\n           0,    0,    0,    0,    0,    0,    0,    0,    0,    0,    0,    0,\\n           0,    0,    0,    0,    0,    0,    0,    0,    0,    0,    0,    0,\\n           0,    0,    0,    0,    0,    0,    0,    0,    0,    0,    0,    0,\\n           0,    0,    0,    0,    0,    0,    0,    0,    0,    0,    0,    0,\\n           0,    0,    0,    0,    0,    0,    0,    0,    0,    0,    0,    0,\\n           0,    0,    0,    0,    0,    0,    0,    0,    0,    0,    0,    0,\\n           0,    0,    0,    0,    0,    0,    0,    0,    0,    0,    0,    0,\\n           0,    0,    0,    0,    0,    0,    0,    0,    0,    0,    0,    0,\\n           0,    0,    0,    0,    0,    0,    0,    0,    0,    0,    0,    0,\\n           0,    0,    0,    0,    0,    0,    0,    0,    0,    0,    0,    0,\\n           0,    0,    0,    0,    0,    0,    0,    0,    0,    0,    0,    0,\\n           0,    0,    0,    0,    0,    0,    0,    0,    0,    0,    0,    0,\\n           0,    0,    0,    0,    0,    0,    0,    0,    0,    0,    0,    0,\\n           0,    0,    0,    0,    0,    0,    0,    0,    0,    0,    0,    0,\\n           0,    0,    0,    0,    0,    0,    0,    0,    0,    0,    0,    0,\\n           0,    0,    0,    0,    0,    0,    0,    0,    0,    0,    0,    0,\\n           0,    0,    0,    0])',\n",
            "       b'tensor([ 101, 2129, 2116, 5991, 2024, 2417, 3384, 2477, 2030, 2502, 2665, 3384,\\n        2477, 1029,  102,    0,    0,    0,    0,    0,    0,    0,    0,    0,\\n           0,    0,    0,    0,    0,    0,    0,    0,    0,    0,    0,    0,\\n           0,    0,    0,    0,    0,    0,    0,    0,    0,    0,    0,    0,\\n           0,    0,    0,    0,    0,    0,    0,    0,    0,    0,    0,    0,\\n           0,    0,    0,    0,    0,    0,    0,    0,    0,    0,    0,    0,\\n           0,    0,    0,    0,    0,    0,    0,    0,    0,    0,    0,    0,\\n           0,    0,    0,    0,    0,    0,    0,    0,    0,    0,    0,    0,\\n           0,    0,    0,    0,    0,    0,    0,    0,    0,    0,    0,    0,\\n           0,    0,    0,    0,    0,    0,    0,    0,    0,    0,    0,    0,\\n           0,    0,    0,    0,    0,    0,    0,    0,    0,    0,    0,    0,\\n           0,    0,    0,    0,    0,    0,    0,    0,    0,    0,    0,    0,\\n           0,    0,    0,    0,    0,    0,    0,    0,    0,    0,    0,    0,\\n           0,    0,    0,    0,    0,    0,    0,    0,    0,    0,    0,    0,\\n           0,    0,    0,    0,    0,    0,    0,    0,    0,    0,    0,    0,\\n           0,    0,    0,    0,    0,    0,    0,    0,    0,    0,    0,    0,\\n           0,    0,    0,    0,    0,    0,    0,    0,    0,    0,    0,    0,\\n           0,    0,    0,    0,    0,    0,    0,    0,    0,    0,    0,    0,\\n           0,    0,    0,    0,    0,    0,    0,    0,    0,    0,    0,    0,\\n           0,    0,    0,    0,    0,    0,    0,    0,    0,    0,    0,    0,\\n           0,    0,    0,    0,    0,    0,    0,    0,    0,    0,    0,    0,\\n           0,    0,    0,    0])',\n",
            "       b'tensor([  101,  2054,  2946,  2003,  1996,  8903, 14291,  2008,  2003,  2157,\\n         1997,  1996,  2502,  2518,  2369,  1996,  2235,  2417,  3384,  4874,\\n         1029,   102,     0,     0,     0,     0,     0,     0,     0,     0,\\n            0,     0,     0,     0,     0,     0,     0,     0,     0,     0,\\n            0,     0,     0,     0,     0,     0,     0,     0,     0,     0,\\n            0,     0,     0,     0,     0,     0,     0,     0,     0,     0,\\n            0,     0,     0,     0,     0,     0,     0,     0,     0,     0,\\n            0,     0,     0,     0,     0,     0,     0,     0,     0,     0,\\n            0,     0,     0,     0,     0,     0,     0,     0,     0,     0,\\n            0,     0,     0,     0,     0,     0,     0,     0,     0,     0,\\n            0,     0,     0,     0,     0,     0,     0,     0,     0,     0,\\n            0,     0,     0,     0,     0,     0,     0,     0,     0,     0,\\n            0,     0,     0,     0,     0,     0,     0,     0,     0,     0,\\n            0,     0,     0,     0,     0,     0,     0,     0,     0,     0,\\n            0,     0,     0,     0,     0,     0,     0,     0,     0,     0,\\n            0,     0,     0,     0,     0,     0,     0,     0,     0,     0,\\n            0,     0,     0,     0,     0,     0,     0,     0,     0,     0,\\n            0,     0,     0,     0,     0,     0,     0,     0,     0,     0,\\n            0,     0,     0,     0,     0,     0,     0,     0,     0,     0,\\n            0,     0,     0,     0,     0,     0,     0,     0,     0,     0,\\n            0,     0,     0,     0,     0,     0,     0,     0,     0,     0,\\n            0,     0,     0,     0,     0,     0,     0,     0,     0,     0,\\n            0,     0,     0,     0,     0,     0,     0,     0,     0,     0,\\n            0,     0,     0,     0,     0,     0,     0,     0,     0,     0,\\n            0,     0,     0,     0,     0,     0,     0,     0,     0,     0,\\n            0,     0,     0,     0,     0,     0])',\n",
            "       b'tensor([  101,  2045,  2003,  1037,  2502,  3756,  4717,  2063,  2518,  1025,\\n         2129,  2116,  8903, 14291,  2015,  2024,  2157,  1997,  2009,  1029,\\n          102,     0,     0,     0,     0,     0,     0,     0,     0,     0,\\n            0,     0,     0,     0,     0,     0,     0,     0,     0,     0,\\n            0,     0,     0,     0,     0,     0,     0,     0,     0,     0,\\n            0,     0,     0,     0,     0,     0,     0,     0,     0,     0,\\n            0,     0,     0,     0,     0,     0,     0,     0,     0,     0,\\n            0,     0,     0,     0,     0,     0,     0,     0,     0,     0,\\n            0,     0,     0,     0,     0,     0,     0,     0,     0,     0,\\n            0,     0,     0,     0,     0,     0,     0,     0,     0,     0,\\n            0,     0,     0,     0,     0,     0,     0,     0,     0,     0,\\n            0,     0,     0,     0,     0,     0,     0,     0,     0,     0,\\n            0,     0,     0,     0,     0,     0,     0,     0,     0,     0,\\n            0,     0,     0,     0,     0,     0,     0,     0,     0,     0,\\n            0,     0,     0,     0,     0,     0,     0,     0,     0,     0,\\n            0,     0,     0,     0,     0,     0,     0,     0,     0,     0,\\n            0,     0,     0,     0,     0,     0,     0,     0,     0,     0,\\n            0,     0,     0,     0,     0,     0,     0,     0,     0,     0,\\n            0,     0,     0,     0,     0,     0,     0,     0,     0,     0,\\n            0,     0,     0,     0,     0,     0,     0,     0,     0,     0,\\n            0,     0,     0,     0,     0,     0,     0,     0,     0,     0,\\n            0,     0,     0,     0,     0,     0,     0,     0,     0,     0,\\n            0,     0,     0,     0,     0,     0,     0,     0,     0,     0,\\n            0,     0,     0,     0,     0,     0,     0,     0,     0,     0,\\n            0,     0,     0,     0,     0,     0,     0,     0,     0,     0,\\n            0,     0,     0,     0,     0,     0])',\n",
            "       b'tensor([  101,  2024,  2045,  8491,  2235, 14291,  2015,  2084,  2630,  4717,\\n         2063,  7395,  1029,   102,     0,     0,     0,     0,     0,     0,\\n            0,     0,     0,     0,     0,     0,     0,     0,     0,     0,\\n            0,     0,     0,     0,     0,     0,     0,     0,     0,     0,\\n            0,     0,     0,     0,     0,     0,     0,     0,     0,     0,\\n            0,     0,     0,     0,     0,     0,     0,     0,     0,     0,\\n            0,     0,     0,     0,     0,     0,     0,     0,     0,     0,\\n            0,     0,     0,     0,     0,     0,     0,     0,     0,     0,\\n            0,     0,     0,     0,     0,     0,     0,     0,     0,     0,\\n            0,     0,     0,     0,     0,     0,     0,     0,     0,     0,\\n            0,     0,     0,     0,     0,     0,     0,     0,     0,     0,\\n            0,     0,     0,     0,     0,     0,     0,     0,     0,     0,\\n            0,     0,     0,     0,     0,     0,     0,     0,     0,     0,\\n            0,     0,     0,     0,     0,     0,     0,     0,     0,     0,\\n            0,     0,     0,     0,     0,     0,     0,     0,     0,     0,\\n            0,     0,     0,     0,     0,     0,     0,     0,     0,     0,\\n            0,     0,     0,     0,     0,     0,     0,     0,     0,     0,\\n            0,     0,     0,     0,     0,     0,     0,     0,     0,     0,\\n            0,     0,     0,     0,     0,     0,     0,     0,     0,     0,\\n            0,     0,     0,     0,     0,     0,     0,     0,     0,     0,\\n            0,     0,     0,     0,     0,     0,     0,     0,     0,     0,\\n            0,     0,     0,     0,     0,     0,     0,     0,     0,     0,\\n            0,     0,     0,     0,     0,     0,     0,     0,     0,     0,\\n            0,     0,     0,     0,     0,     0,     0,     0,     0,     0,\\n            0,     0,     0,     0,     0,     0,     0,     0,     0,     0,\\n            0,     0,     0,     0,     0,     0])',\n",
            "       b'tensor([  101,  2129,  2502,  2003,  1996,  2518,  2008,  2003,  2006,  1996,\\n         2157,  2217,  1997,  1996,  6379,  4874,  1998,  2187,  1997,  1996,\\n         3756,  4717,  2063, 10336,  1029,   102,     0,     0,     0,     0,\\n            0,     0,     0,     0,     0,     0,     0,     0,     0,     0,\\n            0,     0,     0,     0,     0,     0,     0,     0,     0,     0,\\n            0,     0,     0,     0,     0,     0,     0,     0,     0,     0,\\n            0,     0,     0,     0,     0,     0,     0,     0,     0,     0,\\n            0,     0,     0,     0,     0,     0,     0,     0,     0,     0,\\n            0,     0,     0,     0,     0,     0,     0,     0,     0,     0,\\n            0,     0,     0,     0,     0,     0,     0,     0,     0,     0,\\n            0,     0,     0,     0,     0,     0,     0,     0,     0,     0,\\n            0,     0,     0,     0,     0,     0,     0,     0,     0,     0,\\n            0,     0,     0,     0,     0,     0,     0,     0,     0,     0,\\n            0,     0,     0,     0,     0,     0,     0,     0,     0,     0,\\n            0,     0,     0,     0,     0,     0,     0,     0,     0,     0,\\n            0,     0,     0,     0,     0,     0,     0,     0,     0,     0,\\n            0,     0,     0,     0,     0,     0,     0,     0,     0,     0,\\n            0,     0,     0,     0,     0,     0,     0,     0,     0,     0,\\n            0,     0,     0,     0,     0,     0,     0,     0,     0,     0,\\n            0,     0,     0,     0,     0,     0,     0,     0,     0,     0,\\n            0,     0,     0,     0,     0,     0,     0,     0,     0,     0,\\n            0,     0,     0,     0,     0,     0,     0,     0,     0,     0,\\n            0,     0,     0,     0,     0,     0,     0,     0,     0,     0,\\n            0,     0,     0,     0,     0,     0,     0,     0,     0,     0,\\n            0,     0,     0,     0,     0,     0,     0,     0,     0,     0,\\n            0,     0,     0,     0,     0,     0])',\n",
            "       b'tensor([  101,  2003,  1996,  2193,  1997,  2829,  8903, 18729,  2008,  2024,\\n         2006,  1996,  2157,  2217,  1997,  1996,  4714, 22330,  2319,  3608,\\n         2625,  2084,  1996,  2193,  1997,  2235, 22330,  2319,  4717,  2063,\\n         5200,  1029,   102,     0,     0,     0,     0,     0,     0,     0,\\n            0,     0,     0,     0,     0,     0,     0,     0,     0,     0,\\n            0,     0,     0,     0,     0,     0,     0,     0,     0,     0,\\n            0,     0,     0,     0,     0,     0,     0,     0,     0,     0,\\n            0,     0,     0,     0,     0,     0,     0,     0,     0,     0,\\n            0,     0,     0,     0,     0,     0,     0,     0,     0,     0,\\n            0,     0,     0,     0,     0,     0,     0,     0,     0,     0,\\n            0,     0,     0,     0,     0,     0,     0,     0,     0,     0,\\n            0,     0,     0,     0,     0,     0,     0,     0,     0,     0,\\n            0,     0,     0,     0,     0,     0,     0,     0,     0,     0,\\n            0,     0,     0,     0,     0,     0,     0,     0,     0,     0,\\n            0,     0,     0,     0,     0,     0,     0,     0,     0,     0,\\n            0,     0,     0,     0,     0,     0,     0,     0,     0,     0,\\n            0,     0,     0,     0,     0,     0,     0,     0,     0,     0,\\n            0,     0,     0,     0,     0,     0,     0,     0,     0,     0,\\n            0,     0,     0,     0,     0,     0,     0,     0,     0,     0,\\n            0,     0,     0,     0,     0,     0,     0,     0,     0,     0,\\n            0,     0,     0,     0,     0,     0,     0,     0,     0,     0,\\n            0,     0,     0,     0,     0,     0,     0,     0,     0,     0,\\n            0,     0,     0,     0,     0,     0,     0,     0,     0,     0,\\n            0,     0,     0,     0,     0,     0,     0,     0,     0,     0,\\n            0,     0,     0,     0,     0,     0,     0,     0,     0,     0,\\n            0,     0,     0,     0,     0,     0])',\n",
            "       b'tensor([  101,  2054,  4338,  2003,  1996,  2312,  3897,  4874,  2008,  2003,\\n         2081,  1997,  1996,  2168,  3430,  2004,  1996,  4714,  2417, 14291,\\n         1029,   102,     0,     0,     0,     0,     0,     0,     0,     0,\\n            0,     0,     0,     0,     0,     0,     0,     0,     0,     0,\\n            0,     0,     0,     0,     0,     0,     0,     0,     0,     0,\\n            0,     0,     0,     0,     0,     0,     0,     0,     0,     0,\\n            0,     0,     0,     0,     0,     0,     0,     0,     0,     0,\\n            0,     0,     0,     0,     0,     0,     0,     0,     0,     0,\\n            0,     0,     0,     0,     0,     0,     0,     0,     0,     0,\\n            0,     0,     0,     0,     0,     0,     0,     0,     0,     0,\\n            0,     0,     0,     0,     0,     0,     0,     0,     0,     0,\\n            0,     0,     0,     0,     0,     0,     0,     0,     0,     0,\\n            0,     0,     0,     0,     0,     0,     0,     0,     0,     0,\\n            0,     0,     0,     0,     0,     0,     0,     0,     0,     0,\\n            0,     0,     0,     0,     0,     0,     0,     0,     0,     0,\\n            0,     0,     0,     0,     0,     0,     0,     0,     0,     0,\\n            0,     0,     0,     0,     0,     0,     0,     0,     0,     0,\\n            0,     0,     0,     0,     0,     0,     0,     0,     0,     0,\\n            0,     0,     0,     0,     0,     0,     0,     0,     0,     0,\\n            0,     0,     0,     0,     0,     0,     0,     0,     0,     0,\\n            0,     0,     0,     0,     0,     0,     0,     0,     0,     0,\\n            0,     0,     0,     0,     0,     0,     0,     0,     0,     0,\\n            0,     0,     0,     0,     0,     0,     0,     0,     0,     0,\\n            0,     0,     0,     0,     0,     0,     0,     0,     0,     0,\\n            0,     0,     0,     0,     0,     0,     0,     0,     0,     0,\\n            0,     0,     0,     0,     0,     0])',\n",
            "       b'tensor([ 101, 2129, 2116, 2060, 5200, 2024, 1996, 2168, 3430, 2004, 1996, 2630,\\n        4874, 1029,  102,    0,    0,    0,    0,    0,    0,    0,    0,    0,\\n           0,    0,    0,    0,    0,    0,    0,    0,    0,    0,    0,    0,\\n           0,    0,    0,    0,    0,    0,    0,    0,    0,    0,    0,    0,\\n           0,    0,    0,    0,    0,    0,    0,    0,    0,    0,    0,    0,\\n           0,    0,    0,    0,    0,    0,    0,    0,    0,    0,    0,    0,\\n           0,    0,    0,    0,    0,    0,    0,    0,    0,    0,    0,    0,\\n           0,    0,    0,    0,    0,    0,    0,    0,    0,    0,    0,    0,\\n           0,    0,    0,    0,    0,    0,    0,    0,    0,    0,    0,    0,\\n           0,    0,    0,    0,    0,    0,    0,    0,    0,    0,    0,    0,\\n           0,    0,    0,    0,    0,    0,    0,    0,    0,    0,    0,    0,\\n           0,    0,    0,    0,    0,    0,    0,    0,    0,    0,    0,    0,\\n           0,    0,    0,    0,    0,    0,    0,    0,    0,    0,    0,    0,\\n           0,    0,    0,    0,    0,    0,    0,    0,    0,    0,    0,    0,\\n           0,    0,    0,    0,    0,    0,    0,    0,    0,    0,    0,    0,\\n           0,    0,    0,    0,    0,    0,    0,    0,    0,    0,    0,    0,\\n           0,    0,    0,    0,    0,    0,    0,    0,    0,    0,    0,    0,\\n           0,    0,    0,    0,    0,    0,    0,    0,    0,    0,    0,    0,\\n           0,    0,    0,    0,    0,    0,    0,    0,    0,    0,    0,    0,\\n           0,    0,    0,    0,    0,    0,    0,    0,    0,    0,    0,    0,\\n           0,    0,    0,    0,    0,    0,    0,    0,    0,    0,    0,    0,\\n           0,    0,    0,    0])',\n",
            "       b'tensor([  101,  2003,  1996,  2946,  1997,  1996,  2665, 14291,  1996,  2168,\\n         2004,  1996,  4717,  2063, 10336,  2008,  2003,  1999,  2392,  1997,\\n         1996,  2665,  2518,  1029,   102,     0,     0,     0,     0,     0,\\n            0,     0,     0,     0,     0,     0,     0,     0,     0,     0,\\n            0,     0,     0,     0,     0,     0,     0,     0,     0,     0,\\n            0,     0,     0,     0,     0,     0,     0,     0,     0,     0,\\n            0,     0,     0,     0,     0,     0,     0,     0,     0,     0,\\n            0,     0,     0,     0,     0,     0,     0,     0,     0,     0,\\n            0,     0,     0,     0,     0,     0,     0,     0,     0,     0,\\n            0,     0,     0,     0,     0,     0,     0,     0,     0,     0,\\n            0,     0,     0,     0,     0,     0,     0,     0,     0,     0,\\n            0,     0,     0,     0,     0,     0,     0,     0,     0,     0,\\n            0,     0,     0,     0,     0,     0,     0,     0,     0,     0,\\n            0,     0,     0,     0,     0,     0,     0,     0,     0,     0,\\n            0,     0,     0,     0,     0,     0,     0,     0,     0,     0,\\n            0,     0,     0,     0,     0,     0,     0,     0,     0,     0,\\n            0,     0,     0,     0,     0,     0,     0,     0,     0,     0,\\n            0,     0,     0,     0,     0,     0,     0,     0,     0,     0,\\n            0,     0,     0,     0,     0,     0,     0,     0,     0,     0,\\n            0,     0,     0,     0,     0,     0,     0,     0,     0,     0,\\n            0,     0,     0,     0,     0,     0,     0,     0,     0,     0,\\n            0,     0,     0,     0,     0,     0,     0,     0,     0,     0,\\n            0,     0,     0,     0,     0,     0,     0,     0,     0,     0,\\n            0,     0,     0,     0,     0,     0,     0,     0,     0,     0,\\n            0,     0,     0,     0,     0,     0,     0,     0,     0,     0,\\n            0,     0,     0,     0,     0,     0])',\n",
            "       b'tensor([  101,  1996,  4714, 14291,  2038,  2054,  3609,  1029,   102,     0,\\n            0,     0,     0,     0,     0,     0,     0,     0,     0,     0,\\n            0,     0,     0,     0,     0,     0,     0,     0,     0,     0,\\n            0,     0,     0,     0,     0,     0,     0,     0,     0,     0,\\n            0,     0,     0,     0,     0,     0,     0,     0,     0,     0,\\n            0,     0,     0,     0,     0,     0,     0,     0,     0,     0,\\n            0,     0,     0,     0,     0,     0,     0,     0,     0,     0,\\n            0,     0,     0,     0,     0,     0,     0,     0,     0,     0,\\n            0,     0,     0,     0,     0,     0,     0,     0,     0,     0,\\n            0,     0,     0,     0,     0,     0,     0,     0,     0,     0,\\n            0,     0,     0,     0,     0,     0,     0,     0,     0,     0,\\n            0,     0,     0,     0,     0,     0,     0,     0,     0,     0,\\n            0,     0,     0,     0,     0,     0,     0,     0,     0,     0,\\n            0,     0,     0,     0,     0,     0,     0,     0,     0,     0,\\n            0,     0,     0,     0,     0,     0,     0,     0,     0,     0,\\n            0,     0,     0,     0,     0,     0,     0,     0,     0,     0,\\n            0,     0,     0,     0,     0,     0,     0,     0,     0,     0,\\n            0,     0,     0,     0,     0,     0,     0,     0,     0,     0,\\n            0,     0,     0,     0,     0,     0,     0,     0,     0,     0,\\n            0,     0,     0,     0,     0,     0,     0,     0,     0,     0,\\n            0,     0,     0,     0,     0,     0,     0,     0,     0,     0,\\n            0,     0,     0,     0,     0,     0,     0,     0,     0,     0,\\n            0,     0,     0,     0,     0,     0,     0,     0,     0,     0,\\n            0,     0,     0,     0,     0,     0,     0,     0,     0,     0,\\n            0,     0,     0,     0,     0,     0,     0,     0,     0,     0,\\n            0,     0,     0,     0,     0,     0])',\n",
            "       b'tensor([  101,  2045,  2003,  1037,  2502, 12392,  4874,  2369,  1996, 12538,\\n         4874,  1999,  2392,  1997,  1996, 12538,  4874,  2008,  2003,  2187,\\n         1997,  1996, 22330,  2319,  2518,  1025,  2054,  2003,  2049,  4338,\\n         1029,   102,     0,     0,     0,     0,     0,     0,     0,     0,\\n            0,     0,     0,     0,     0,     0,     0,     0,     0,     0,\\n            0,     0,     0,     0,     0,     0,     0,     0,     0,     0,\\n            0,     0,     0,     0,     0,     0,     0,     0,     0,     0,\\n            0,     0,     0,     0,     0,     0,     0,     0,     0,     0,\\n            0,     0,     0,     0,     0,     0,     0,     0,     0,     0,\\n            0,     0,     0,     0,     0,     0,     0,     0,     0,     0,\\n            0,     0,     0,     0,     0,     0,     0,     0,     0,     0,\\n            0,     0,     0,     0,     0,     0,     0,     0,     0,     0,\\n            0,     0,     0,     0,     0,     0,     0,     0,     0,     0,\\n            0,     0,     0,     0,     0,     0,     0,     0,     0,     0,\\n            0,     0,     0,     0,     0,     0,     0,     0,     0,     0,\\n            0,     0,     0,     0,     0,     0,     0,     0,     0,     0,\\n            0,     0,     0,     0,     0,     0,     0,     0,     0,     0,\\n            0,     0,     0,     0,     0,     0,     0,     0,     0,     0,\\n            0,     0,     0,     0,     0,     0,     0,     0,     0,     0,\\n            0,     0,     0,     0,     0,     0,     0,     0,     0,     0,\\n            0,     0,     0,     0,     0,     0,     0,     0,     0,     0,\\n            0,     0,     0,     0,     0,     0,     0,     0,     0,     0,\\n            0,     0,     0,     0,     0,     0,     0,     0,     0,     0,\\n            0,     0,     0,     0,     0,     0,     0,     0,     0,     0,\\n            0,     0,     0,     0,     0,     0,     0,     0,     0,     0,\\n            0,     0,     0,     0,     0,     0])'],\n",
            "      dtype=object)>, <tf.Tensor: shape=(64,), dtype=string, numpy=\n",
            "array([b'tensor([1, 1, 1, 1, 1, 1, 1, 1, 1, 1, 1, 1, 1, 1, 1, 0, 0, 0, 0, 0, 0, 0, 0, 0,\\n        0, 0, 0, 0, 0, 0, 0, 0, 0, 0, 0, 0, 0, 0, 0, 0, 0, 0, 0, 0, 0, 0, 0, 0,\\n        0, 0, 0, 0, 0, 0, 0, 0, 0, 0, 0, 0, 0, 0, 0, 0, 0, 0, 0, 0, 0, 0, 0, 0,\\n        0, 0, 0, 0, 0, 0, 0, 0, 0, 0, 0, 0, 0, 0, 0, 0, 0, 0, 0, 0, 0, 0, 0, 0,\\n        0, 0, 0, 0, 0, 0, 0, 0, 0, 0, 0, 0, 0, 0, 0, 0, 0, 0, 0, 0, 0, 0, 0, 0,\\n        0, 0, 0, 0, 0, 0, 0, 0, 0, 0, 0, 0, 0, 0, 0, 0, 0, 0, 0, 0, 0, 0, 0, 0,\\n        0, 0, 0, 0, 0, 0, 0, 0, 0, 0, 0, 0, 0, 0, 0, 0, 0, 0, 0, 0, 0, 0, 0, 0,\\n        0, 0, 0, 0, 0, 0, 0, 0, 0, 0, 0, 0, 0, 0, 0, 0, 0, 0, 0, 0, 0, 0, 0, 0,\\n        0, 0, 0, 0, 0, 0, 0, 0, 0, 0, 0, 0, 0, 0, 0, 0, 0, 0, 0, 0, 0, 0, 0, 0,\\n        0, 0, 0, 0, 0, 0, 0, 0, 0, 0, 0, 0, 0, 0, 0, 0, 0, 0, 0, 0, 0, 0, 0, 0,\\n        0, 0, 0, 0, 0, 0, 0, 0, 0, 0, 0, 0, 0, 0, 0, 0])',\n",
            "       b'tensor([1, 1, 1, 1, 1, 1, 1, 1, 1, 1, 1, 1, 1, 1, 1, 1, 1, 1, 1, 1, 1, 0, 0, 0,\\n        0, 0, 0, 0, 0, 0, 0, 0, 0, 0, 0, 0, 0, 0, 0, 0, 0, 0, 0, 0, 0, 0, 0, 0,\\n        0, 0, 0, 0, 0, 0, 0, 0, 0, 0, 0, 0, 0, 0, 0, 0, 0, 0, 0, 0, 0, 0, 0, 0,\\n        0, 0, 0, 0, 0, 0, 0, 0, 0, 0, 0, 0, 0, 0, 0, 0, 0, 0, 0, 0, 0, 0, 0, 0,\\n        0, 0, 0, 0, 0, 0, 0, 0, 0, 0, 0, 0, 0, 0, 0, 0, 0, 0, 0, 0, 0, 0, 0, 0,\\n        0, 0, 0, 0, 0, 0, 0, 0, 0, 0, 0, 0, 0, 0, 0, 0, 0, 0, 0, 0, 0, 0, 0, 0,\\n        0, 0, 0, 0, 0, 0, 0, 0, 0, 0, 0, 0, 0, 0, 0, 0, 0, 0, 0, 0, 0, 0, 0, 0,\\n        0, 0, 0, 0, 0, 0, 0, 0, 0, 0, 0, 0, 0, 0, 0, 0, 0, 0, 0, 0, 0, 0, 0, 0,\\n        0, 0, 0, 0, 0, 0, 0, 0, 0, 0, 0, 0, 0, 0, 0, 0, 0, 0, 0, 0, 0, 0, 0, 0,\\n        0, 0, 0, 0, 0, 0, 0, 0, 0, 0, 0, 0, 0, 0, 0, 0, 0, 0, 0, 0, 0, 0, 0, 0,\\n        0, 0, 0, 0, 0, 0, 0, 0, 0, 0, 0, 0, 0, 0, 0, 0])',\n",
            "       b'tensor([1, 1, 1, 1, 1, 1, 1, 1, 1, 1, 1, 1, 1, 1, 1, 1, 1, 1, 0, 0, 0, 0, 0, 0,\\n        0, 0, 0, 0, 0, 0, 0, 0, 0, 0, 0, 0, 0, 0, 0, 0, 0, 0, 0, 0, 0, 0, 0, 0,\\n        0, 0, 0, 0, 0, 0, 0, 0, 0, 0, 0, 0, 0, 0, 0, 0, 0, 0, 0, 0, 0, 0, 0, 0,\\n        0, 0, 0, 0, 0, 0, 0, 0, 0, 0, 0, 0, 0, 0, 0, 0, 0, 0, 0, 0, 0, 0, 0, 0,\\n        0, 0, 0, 0, 0, 0, 0, 0, 0, 0, 0, 0, 0, 0, 0, 0, 0, 0, 0, 0, 0, 0, 0, 0,\\n        0, 0, 0, 0, 0, 0, 0, 0, 0, 0, 0, 0, 0, 0, 0, 0, 0, 0, 0, 0, 0, 0, 0, 0,\\n        0, 0, 0, 0, 0, 0, 0, 0, 0, 0, 0, 0, 0, 0, 0, 0, 0, 0, 0, 0, 0, 0, 0, 0,\\n        0, 0, 0, 0, 0, 0, 0, 0, 0, 0, 0, 0, 0, 0, 0, 0, 0, 0, 0, 0, 0, 0, 0, 0,\\n        0, 0, 0, 0, 0, 0, 0, 0, 0, 0, 0, 0, 0, 0, 0, 0, 0, 0, 0, 0, 0, 0, 0, 0,\\n        0, 0, 0, 0, 0, 0, 0, 0, 0, 0, 0, 0, 0, 0, 0, 0, 0, 0, 0, 0, 0, 0, 0, 0,\\n        0, 0, 0, 0, 0, 0, 0, 0, 0, 0, 0, 0, 0, 0, 0, 0])',\n",
            "       b'tensor([1, 1, 1, 1, 1, 1, 1, 1, 1, 1, 1, 1, 1, 1, 1, 1, 1, 1, 1, 1, 1, 1, 1, 0,\\n        0, 0, 0, 0, 0, 0, 0, 0, 0, 0, 0, 0, 0, 0, 0, 0, 0, 0, 0, 0, 0, 0, 0, 0,\\n        0, 0, 0, 0, 0, 0, 0, 0, 0, 0, 0, 0, 0, 0, 0, 0, 0, 0, 0, 0, 0, 0, 0, 0,\\n        0, 0, 0, 0, 0, 0, 0, 0, 0, 0, 0, 0, 0, 0, 0, 0, 0, 0, 0, 0, 0, 0, 0, 0,\\n        0, 0, 0, 0, 0, 0, 0, 0, 0, 0, 0, 0, 0, 0, 0, 0, 0, 0, 0, 0, 0, 0, 0, 0,\\n        0, 0, 0, 0, 0, 0, 0, 0, 0, 0, 0, 0, 0, 0, 0, 0, 0, 0, 0, 0, 0, 0, 0, 0,\\n        0, 0, 0, 0, 0, 0, 0, 0, 0, 0, 0, 0, 0, 0, 0, 0, 0, 0, 0, 0, 0, 0, 0, 0,\\n        0, 0, 0, 0, 0, 0, 0, 0, 0, 0, 0, 0, 0, 0, 0, 0, 0, 0, 0, 0, 0, 0, 0, 0,\\n        0, 0, 0, 0, 0, 0, 0, 0, 0, 0, 0, 0, 0, 0, 0, 0, 0, 0, 0, 0, 0, 0, 0, 0,\\n        0, 0, 0, 0, 0, 0, 0, 0, 0, 0, 0, 0, 0, 0, 0, 0, 0, 0, 0, 0, 0, 0, 0, 0,\\n        0, 0, 0, 0, 0, 0, 0, 0, 0, 0, 0, 0, 0, 0, 0, 0])',\n",
            "       b'tensor([1, 1, 1, 1, 1, 1, 1, 1, 1, 1, 0, 0, 0, 0, 0, 0, 0, 0, 0, 0, 0, 0, 0, 0,\\n        0, 0, 0, 0, 0, 0, 0, 0, 0, 0, 0, 0, 0, 0, 0, 0, 0, 0, 0, 0, 0, 0, 0, 0,\\n        0, 0, 0, 0, 0, 0, 0, 0, 0, 0, 0, 0, 0, 0, 0, 0, 0, 0, 0, 0, 0, 0, 0, 0,\\n        0, 0, 0, 0, 0, 0, 0, 0, 0, 0, 0, 0, 0, 0, 0, 0, 0, 0, 0, 0, 0, 0, 0, 0,\\n        0, 0, 0, 0, 0, 0, 0, 0, 0, 0, 0, 0, 0, 0, 0, 0, 0, 0, 0, 0, 0, 0, 0, 0,\\n        0, 0, 0, 0, 0, 0, 0, 0, 0, 0, 0, 0, 0, 0, 0, 0, 0, 0, 0, 0, 0, 0, 0, 0,\\n        0, 0, 0, 0, 0, 0, 0, 0, 0, 0, 0, 0, 0, 0, 0, 0, 0, 0, 0, 0, 0, 0, 0, 0,\\n        0, 0, 0, 0, 0, 0, 0, 0, 0, 0, 0, 0, 0, 0, 0, 0, 0, 0, 0, 0, 0, 0, 0, 0,\\n        0, 0, 0, 0, 0, 0, 0, 0, 0, 0, 0, 0, 0, 0, 0, 0, 0, 0, 0, 0, 0, 0, 0, 0,\\n        0, 0, 0, 0, 0, 0, 0, 0, 0, 0, 0, 0, 0, 0, 0, 0, 0, 0, 0, 0, 0, 0, 0, 0,\\n        0, 0, 0, 0, 0, 0, 0, 0, 0, 0, 0, 0, 0, 0, 0, 0])',\n",
            "       b'tensor([1, 1, 1, 1, 1, 1, 1, 1, 1, 1, 1, 1, 1, 1, 1, 1, 1, 1, 1, 1, 1, 1, 1, 1,\\n        1, 1, 1, 1, 1, 1, 0, 0, 0, 0, 0, 0, 0, 0, 0, 0, 0, 0, 0, 0, 0, 0, 0, 0,\\n        0, 0, 0, 0, 0, 0, 0, 0, 0, 0, 0, 0, 0, 0, 0, 0, 0, 0, 0, 0, 0, 0, 0, 0,\\n        0, 0, 0, 0, 0, 0, 0, 0, 0, 0, 0, 0, 0, 0, 0, 0, 0, 0, 0, 0, 0, 0, 0, 0,\\n        0, 0, 0, 0, 0, 0, 0, 0, 0, 0, 0, 0, 0, 0, 0, 0, 0, 0, 0, 0, 0, 0, 0, 0,\\n        0, 0, 0, 0, 0, 0, 0, 0, 0, 0, 0, 0, 0, 0, 0, 0, 0, 0, 0, 0, 0, 0, 0, 0,\\n        0, 0, 0, 0, 0, 0, 0, 0, 0, 0, 0, 0, 0, 0, 0, 0, 0, 0, 0, 0, 0, 0, 0, 0,\\n        0, 0, 0, 0, 0, 0, 0, 0, 0, 0, 0, 0, 0, 0, 0, 0, 0, 0, 0, 0, 0, 0, 0, 0,\\n        0, 0, 0, 0, 0, 0, 0, 0, 0, 0, 0, 0, 0, 0, 0, 0, 0, 0, 0, 0, 0, 0, 0, 0,\\n        0, 0, 0, 0, 0, 0, 0, 0, 0, 0, 0, 0, 0, 0, 0, 0, 0, 0, 0, 0, 0, 0, 0, 0,\\n        0, 0, 0, 0, 0, 0, 0, 0, 0, 0, 0, 0, 0, 0, 0, 0])',\n",
            "       b'tensor([1, 1, 1, 1, 1, 1, 1, 1, 1, 1, 1, 1, 1, 1, 1, 1, 1, 1, 1, 1, 1, 1, 1, 1,\\n        1, 1, 1, 1, 1, 1, 0, 0, 0, 0, 0, 0, 0, 0, 0, 0, 0, 0, 0, 0, 0, 0, 0, 0,\\n        0, 0, 0, 0, 0, 0, 0, 0, 0, 0, 0, 0, 0, 0, 0, 0, 0, 0, 0, 0, 0, 0, 0, 0,\\n        0, 0, 0, 0, 0, 0, 0, 0, 0, 0, 0, 0, 0, 0, 0, 0, 0, 0, 0, 0, 0, 0, 0, 0,\\n        0, 0, 0, 0, 0, 0, 0, 0, 0, 0, 0, 0, 0, 0, 0, 0, 0, 0, 0, 0, 0, 0, 0, 0,\\n        0, 0, 0, 0, 0, 0, 0, 0, 0, 0, 0, 0, 0, 0, 0, 0, 0, 0, 0, 0, 0, 0, 0, 0,\\n        0, 0, 0, 0, 0, 0, 0, 0, 0, 0, 0, 0, 0, 0, 0, 0, 0, 0, 0, 0, 0, 0, 0, 0,\\n        0, 0, 0, 0, 0, 0, 0, 0, 0, 0, 0, 0, 0, 0, 0, 0, 0, 0, 0, 0, 0, 0, 0, 0,\\n        0, 0, 0, 0, 0, 0, 0, 0, 0, 0, 0, 0, 0, 0, 0, 0, 0, 0, 0, 0, 0, 0, 0, 0,\\n        0, 0, 0, 0, 0, 0, 0, 0, 0, 0, 0, 0, 0, 0, 0, 0, 0, 0, 0, 0, 0, 0, 0, 0,\\n        0, 0, 0, 0, 0, 0, 0, 0, 0, 0, 0, 0, 0, 0, 0, 0])',\n",
            "       b'tensor([1, 1, 1, 1, 1, 1, 1, 1, 1, 1, 1, 1, 1, 1, 1, 1, 1, 1, 1, 0, 0, 0, 0, 0,\\n        0, 0, 0, 0, 0, 0, 0, 0, 0, 0, 0, 0, 0, 0, 0, 0, 0, 0, 0, 0, 0, 0, 0, 0,\\n        0, 0, 0, 0, 0, 0, 0, 0, 0, 0, 0, 0, 0, 0, 0, 0, 0, 0, 0, 0, 0, 0, 0, 0,\\n        0, 0, 0, 0, 0, 0, 0, 0, 0, 0, 0, 0, 0, 0, 0, 0, 0, 0, 0, 0, 0, 0, 0, 0,\\n        0, 0, 0, 0, 0, 0, 0, 0, 0, 0, 0, 0, 0, 0, 0, 0, 0, 0, 0, 0, 0, 0, 0, 0,\\n        0, 0, 0, 0, 0, 0, 0, 0, 0, 0, 0, 0, 0, 0, 0, 0, 0, 0, 0, 0, 0, 0, 0, 0,\\n        0, 0, 0, 0, 0, 0, 0, 0, 0, 0, 0, 0, 0, 0, 0, 0, 0, 0, 0, 0, 0, 0, 0, 0,\\n        0, 0, 0, 0, 0, 0, 0, 0, 0, 0, 0, 0, 0, 0, 0, 0, 0, 0, 0, 0, 0, 0, 0, 0,\\n        0, 0, 0, 0, 0, 0, 0, 0, 0, 0, 0, 0, 0, 0, 0, 0, 0, 0, 0, 0, 0, 0, 0, 0,\\n        0, 0, 0, 0, 0, 0, 0, 0, 0, 0, 0, 0, 0, 0, 0, 0, 0, 0, 0, 0, 0, 0, 0, 0,\\n        0, 0, 0, 0, 0, 0, 0, 0, 0, 0, 0, 0, 0, 0, 0, 0])',\n",
            "       b'tensor([1, 1, 1, 1, 1, 1, 1, 1, 1, 1, 1, 1, 1, 1, 1, 1, 1, 1, 0, 0, 0, 0, 0, 0,\\n        0, 0, 0, 0, 0, 0, 0, 0, 0, 0, 0, 0, 0, 0, 0, 0, 0, 0, 0, 0, 0, 0, 0, 0,\\n        0, 0, 0, 0, 0, 0, 0, 0, 0, 0, 0, 0, 0, 0, 0, 0, 0, 0, 0, 0, 0, 0, 0, 0,\\n        0, 0, 0, 0, 0, 0, 0, 0, 0, 0, 0, 0, 0, 0, 0, 0, 0, 0, 0, 0, 0, 0, 0, 0,\\n        0, 0, 0, 0, 0, 0, 0, 0, 0, 0, 0, 0, 0, 0, 0, 0, 0, 0, 0, 0, 0, 0, 0, 0,\\n        0, 0, 0, 0, 0, 0, 0, 0, 0, 0, 0, 0, 0, 0, 0, 0, 0, 0, 0, 0, 0, 0, 0, 0,\\n        0, 0, 0, 0, 0, 0, 0, 0, 0, 0, 0, 0, 0, 0, 0, 0, 0, 0, 0, 0, 0, 0, 0, 0,\\n        0, 0, 0, 0, 0, 0, 0, 0, 0, 0, 0, 0, 0, 0, 0, 0, 0, 0, 0, 0, 0, 0, 0, 0,\\n        0, 0, 0, 0, 0, 0, 0, 0, 0, 0, 0, 0, 0, 0, 0, 0, 0, 0, 0, 0, 0, 0, 0, 0,\\n        0, 0, 0, 0, 0, 0, 0, 0, 0, 0, 0, 0, 0, 0, 0, 0, 0, 0, 0, 0, 0, 0, 0, 0,\\n        0, 0, 0, 0, 0, 0, 0, 0, 0, 0, 0, 0, 0, 0, 0, 0])',\n",
            "       b'tensor([1, 1, 1, 1, 1, 1, 1, 1, 1, 1, 1, 1, 1, 1, 1, 1, 0, 0, 0, 0, 0, 0, 0, 0,\\n        0, 0, 0, 0, 0, 0, 0, 0, 0, 0, 0, 0, 0, 0, 0, 0, 0, 0, 0, 0, 0, 0, 0, 0,\\n        0, 0, 0, 0, 0, 0, 0, 0, 0, 0, 0, 0, 0, 0, 0, 0, 0, 0, 0, 0, 0, 0, 0, 0,\\n        0, 0, 0, 0, 0, 0, 0, 0, 0, 0, 0, 0, 0, 0, 0, 0, 0, 0, 0, 0, 0, 0, 0, 0,\\n        0, 0, 0, 0, 0, 0, 0, 0, 0, 0, 0, 0, 0, 0, 0, 0, 0, 0, 0, 0, 0, 0, 0, 0,\\n        0, 0, 0, 0, 0, 0, 0, 0, 0, 0, 0, 0, 0, 0, 0, 0, 0, 0, 0, 0, 0, 0, 0, 0,\\n        0, 0, 0, 0, 0, 0, 0, 0, 0, 0, 0, 0, 0, 0, 0, 0, 0, 0, 0, 0, 0, 0, 0, 0,\\n        0, 0, 0, 0, 0, 0, 0, 0, 0, 0, 0, 0, 0, 0, 0, 0, 0, 0, 0, 0, 0, 0, 0, 0,\\n        0, 0, 0, 0, 0, 0, 0, 0, 0, 0, 0, 0, 0, 0, 0, 0, 0, 0, 0, 0, 0, 0, 0, 0,\\n        0, 0, 0, 0, 0, 0, 0, 0, 0, 0, 0, 0, 0, 0, 0, 0, 0, 0, 0, 0, 0, 0, 0, 0,\\n        0, 0, 0, 0, 0, 0, 0, 0, 0, 0, 0, 0, 0, 0, 0, 0])',\n",
            "       b'tensor([1, 1, 1, 1, 1, 1, 1, 1, 1, 1, 1, 1, 1, 1, 1, 1, 1, 0, 0, 0, 0, 0, 0, 0,\\n        0, 0, 0, 0, 0, 0, 0, 0, 0, 0, 0, 0, 0, 0, 0, 0, 0, 0, 0, 0, 0, 0, 0, 0,\\n        0, 0, 0, 0, 0, 0, 0, 0, 0, 0, 0, 0, 0, 0, 0, 0, 0, 0, 0, 0, 0, 0, 0, 0,\\n        0, 0, 0, 0, 0, 0, 0, 0, 0, 0, 0, 0, 0, 0, 0, 0, 0, 0, 0, 0, 0, 0, 0, 0,\\n        0, 0, 0, 0, 0, 0, 0, 0, 0, 0, 0, 0, 0, 0, 0, 0, 0, 0, 0, 0, 0, 0, 0, 0,\\n        0, 0, 0, 0, 0, 0, 0, 0, 0, 0, 0, 0, 0, 0, 0, 0, 0, 0, 0, 0, 0, 0, 0, 0,\\n        0, 0, 0, 0, 0, 0, 0, 0, 0, 0, 0, 0, 0, 0, 0, 0, 0, 0, 0, 0, 0, 0, 0, 0,\\n        0, 0, 0, 0, 0, 0, 0, 0, 0, 0, 0, 0, 0, 0, 0, 0, 0, 0, 0, 0, 0, 0, 0, 0,\\n        0, 0, 0, 0, 0, 0, 0, 0, 0, 0, 0, 0, 0, 0, 0, 0, 0, 0, 0, 0, 0, 0, 0, 0,\\n        0, 0, 0, 0, 0, 0, 0, 0, 0, 0, 0, 0, 0, 0, 0, 0, 0, 0, 0, 0, 0, 0, 0, 0,\\n        0, 0, 0, 0, 0, 0, 0, 0, 0, 0, 0, 0, 0, 0, 0, 0])',\n",
            "       b'tensor([1, 1, 1, 1, 1, 1, 1, 1, 1, 1, 1, 1, 1, 1, 1, 1, 1, 1, 1, 1, 1, 0, 0, 0,\\n        0, 0, 0, 0, 0, 0, 0, 0, 0, 0, 0, 0, 0, 0, 0, 0, 0, 0, 0, 0, 0, 0, 0, 0,\\n        0, 0, 0, 0, 0, 0, 0, 0, 0, 0, 0, 0, 0, 0, 0, 0, 0, 0, 0, 0, 0, 0, 0, 0,\\n        0, 0, 0, 0, 0, 0, 0, 0, 0, 0, 0, 0, 0, 0, 0, 0, 0, 0, 0, 0, 0, 0, 0, 0,\\n        0, 0, 0, 0, 0, 0, 0, 0, 0, 0, 0, 0, 0, 0, 0, 0, 0, 0, 0, 0, 0, 0, 0, 0,\\n        0, 0, 0, 0, 0, 0, 0, 0, 0, 0, 0, 0, 0, 0, 0, 0, 0, 0, 0, 0, 0, 0, 0, 0,\\n        0, 0, 0, 0, 0, 0, 0, 0, 0, 0, 0, 0, 0, 0, 0, 0, 0, 0, 0, 0, 0, 0, 0, 0,\\n        0, 0, 0, 0, 0, 0, 0, 0, 0, 0, 0, 0, 0, 0, 0, 0, 0, 0, 0, 0, 0, 0, 0, 0,\\n        0, 0, 0, 0, 0, 0, 0, 0, 0, 0, 0, 0, 0, 0, 0, 0, 0, 0, 0, 0, 0, 0, 0, 0,\\n        0, 0, 0, 0, 0, 0, 0, 0, 0, 0, 0, 0, 0, 0, 0, 0, 0, 0, 0, 0, 0, 0, 0, 0,\\n        0, 0, 0, 0, 0, 0, 0, 0, 0, 0, 0, 0, 0, 0, 0, 0])',\n",
            "       b'tensor([1, 1, 1, 1, 1, 1, 1, 1, 1, 1, 1, 1, 1, 1, 1, 1, 1, 1, 1, 1, 1, 1, 0, 0,\\n        0, 0, 0, 0, 0, 0, 0, 0, 0, 0, 0, 0, 0, 0, 0, 0, 0, 0, 0, 0, 0, 0, 0, 0,\\n        0, 0, 0, 0, 0, 0, 0, 0, 0, 0, 0, 0, 0, 0, 0, 0, 0, 0, 0, 0, 0, 0, 0, 0,\\n        0, 0, 0, 0, 0, 0, 0, 0, 0, 0, 0, 0, 0, 0, 0, 0, 0, 0, 0, 0, 0, 0, 0, 0,\\n        0, 0, 0, 0, 0, 0, 0, 0, 0, 0, 0, 0, 0, 0, 0, 0, 0, 0, 0, 0, 0, 0, 0, 0,\\n        0, 0, 0, 0, 0, 0, 0, 0, 0, 0, 0, 0, 0, 0, 0, 0, 0, 0, 0, 0, 0, 0, 0, 0,\\n        0, 0, 0, 0, 0, 0, 0, 0, 0, 0, 0, 0, 0, 0, 0, 0, 0, 0, 0, 0, 0, 0, 0, 0,\\n        0, 0, 0, 0, 0, 0, 0, 0, 0, 0, 0, 0, 0, 0, 0, 0, 0, 0, 0, 0, 0, 0, 0, 0,\\n        0, 0, 0, 0, 0, 0, 0, 0, 0, 0, 0, 0, 0, 0, 0, 0, 0, 0, 0, 0, 0, 0, 0, 0,\\n        0, 0, 0, 0, 0, 0, 0, 0, 0, 0, 0, 0, 0, 0, 0, 0, 0, 0, 0, 0, 0, 0, 0, 0,\\n        0, 0, 0, 0, 0, 0, 0, 0, 0, 0, 0, 0, 0, 0, 0, 0])',\n",
            "       b'tensor([1, 1, 1, 1, 1, 1, 1, 1, 1, 1, 1, 1, 1, 1, 1, 1, 1, 1, 1, 1, 0, 0, 0, 0,\\n        0, 0, 0, 0, 0, 0, 0, 0, 0, 0, 0, 0, 0, 0, 0, 0, 0, 0, 0, 0, 0, 0, 0, 0,\\n        0, 0, 0, 0, 0, 0, 0, 0, 0, 0, 0, 0, 0, 0, 0, 0, 0, 0, 0, 0, 0, 0, 0, 0,\\n        0, 0, 0, 0, 0, 0, 0, 0, 0, 0, 0, 0, 0, 0, 0, 0, 0, 0, 0, 0, 0, 0, 0, 0,\\n        0, 0, 0, 0, 0, 0, 0, 0, 0, 0, 0, 0, 0, 0, 0, 0, 0, 0, 0, 0, 0, 0, 0, 0,\\n        0, 0, 0, 0, 0, 0, 0, 0, 0, 0, 0, 0, 0, 0, 0, 0, 0, 0, 0, 0, 0, 0, 0, 0,\\n        0, 0, 0, 0, 0, 0, 0, 0, 0, 0, 0, 0, 0, 0, 0, 0, 0, 0, 0, 0, 0, 0, 0, 0,\\n        0, 0, 0, 0, 0, 0, 0, 0, 0, 0, 0, 0, 0, 0, 0, 0, 0, 0, 0, 0, 0, 0, 0, 0,\\n        0, 0, 0, 0, 0, 0, 0, 0, 0, 0, 0, 0, 0, 0, 0, 0, 0, 0, 0, 0, 0, 0, 0, 0,\\n        0, 0, 0, 0, 0, 0, 0, 0, 0, 0, 0, 0, 0, 0, 0, 0, 0, 0, 0, 0, 0, 0, 0, 0,\\n        0, 0, 0, 0, 0, 0, 0, 0, 0, 0, 0, 0, 0, 0, 0, 0])',\n",
            "       b'tensor([1, 1, 1, 1, 1, 1, 1, 1, 1, 1, 1, 1, 1, 1, 1, 1, 1, 1, 1, 1, 1, 1, 1, 1,\\n        1, 1, 1, 1, 1, 1, 1, 1, 1, 0, 0, 0, 0, 0, 0, 0, 0, 0, 0, 0, 0, 0, 0, 0,\\n        0, 0, 0, 0, 0, 0, 0, 0, 0, 0, 0, 0, 0, 0, 0, 0, 0, 0, 0, 0, 0, 0, 0, 0,\\n        0, 0, 0, 0, 0, 0, 0, 0, 0, 0, 0, 0, 0, 0, 0, 0, 0, 0, 0, 0, 0, 0, 0, 0,\\n        0, 0, 0, 0, 0, 0, 0, 0, 0, 0, 0, 0, 0, 0, 0, 0, 0, 0, 0, 0, 0, 0, 0, 0,\\n        0, 0, 0, 0, 0, 0, 0, 0, 0, 0, 0, 0, 0, 0, 0, 0, 0, 0, 0, 0, 0, 0, 0, 0,\\n        0, 0, 0, 0, 0, 0, 0, 0, 0, 0, 0, 0, 0, 0, 0, 0, 0, 0, 0, 0, 0, 0, 0, 0,\\n        0, 0, 0, 0, 0, 0, 0, 0, 0, 0, 0, 0, 0, 0, 0, 0, 0, 0, 0, 0, 0, 0, 0, 0,\\n        0, 0, 0, 0, 0, 0, 0, 0, 0, 0, 0, 0, 0, 0, 0, 0, 0, 0, 0, 0, 0, 0, 0, 0,\\n        0, 0, 0, 0, 0, 0, 0, 0, 0, 0, 0, 0, 0, 0, 0, 0, 0, 0, 0, 0, 0, 0, 0, 0,\\n        0, 0, 0, 0, 0, 0, 0, 0, 0, 0, 0, 0, 0, 0, 0, 0])',\n",
            "       b'tensor([1, 1, 1, 1, 1, 1, 1, 1, 1, 1, 1, 1, 1, 1, 1, 1, 1, 1, 1, 1, 1, 1, 1, 1,\\n        1, 1, 1, 1, 0, 0, 0, 0, 0, 0, 0, 0, 0, 0, 0, 0, 0, 0, 0, 0, 0, 0, 0, 0,\\n        0, 0, 0, 0, 0, 0, 0, 0, 0, 0, 0, 0, 0, 0, 0, 0, 0, 0, 0, 0, 0, 0, 0, 0,\\n        0, 0, 0, 0, 0, 0, 0, 0, 0, 0, 0, 0, 0, 0, 0, 0, 0, 0, 0, 0, 0, 0, 0, 0,\\n        0, 0, 0, 0, 0, 0, 0, 0, 0, 0, 0, 0, 0, 0, 0, 0, 0, 0, 0, 0, 0, 0, 0, 0,\\n        0, 0, 0, 0, 0, 0, 0, 0, 0, 0, 0, 0, 0, 0, 0, 0, 0, 0, 0, 0, 0, 0, 0, 0,\\n        0, 0, 0, 0, 0, 0, 0, 0, 0, 0, 0, 0, 0, 0, 0, 0, 0, 0, 0, 0, 0, 0, 0, 0,\\n        0, 0, 0, 0, 0, 0, 0, 0, 0, 0, 0, 0, 0, 0, 0, 0, 0, 0, 0, 0, 0, 0, 0, 0,\\n        0, 0, 0, 0, 0, 0, 0, 0, 0, 0, 0, 0, 0, 0, 0, 0, 0, 0, 0, 0, 0, 0, 0, 0,\\n        0, 0, 0, 0, 0, 0, 0, 0, 0, 0, 0, 0, 0, 0, 0, 0, 0, 0, 0, 0, 0, 0, 0, 0,\\n        0, 0, 0, 0, 0, 0, 0, 0, 0, 0, 0, 0, 0, 0, 0, 0])',\n",
            "       b'tensor([1, 1, 1, 1, 1, 1, 1, 1, 1, 1, 1, 1, 1, 1, 1, 1, 1, 1, 1, 1, 1, 1, 1, 1,\\n        1, 1, 1, 1, 1, 1, 0, 0, 0, 0, 0, 0, 0, 0, 0, 0, 0, 0, 0, 0, 0, 0, 0, 0,\\n        0, 0, 0, 0, 0, 0, 0, 0, 0, 0, 0, 0, 0, 0, 0, 0, 0, 0, 0, 0, 0, 0, 0, 0,\\n        0, 0, 0, 0, 0, 0, 0, 0, 0, 0, 0, 0, 0, 0, 0, 0, 0, 0, 0, 0, 0, 0, 0, 0,\\n        0, 0, 0, 0, 0, 0, 0, 0, 0, 0, 0, 0, 0, 0, 0, 0, 0, 0, 0, 0, 0, 0, 0, 0,\\n        0, 0, 0, 0, 0, 0, 0, 0, 0, 0, 0, 0, 0, 0, 0, 0, 0, 0, 0, 0, 0, 0, 0, 0,\\n        0, 0, 0, 0, 0, 0, 0, 0, 0, 0, 0, 0, 0, 0, 0, 0, 0, 0, 0, 0, 0, 0, 0, 0,\\n        0, 0, 0, 0, 0, 0, 0, 0, 0, 0, 0, 0, 0, 0, 0, 0, 0, 0, 0, 0, 0, 0, 0, 0,\\n        0, 0, 0, 0, 0, 0, 0, 0, 0, 0, 0, 0, 0, 0, 0, 0, 0, 0, 0, 0, 0, 0, 0, 0,\\n        0, 0, 0, 0, 0, 0, 0, 0, 0, 0, 0, 0, 0, 0, 0, 0, 0, 0, 0, 0, 0, 0, 0, 0,\\n        0, 0, 0, 0, 0, 0, 0, 0, 0, 0, 0, 0, 0, 0, 0, 0])',\n",
            "       b'tensor([1, 1, 1, 1, 1, 1, 1, 1, 1, 1, 1, 1, 1, 1, 1, 1, 1, 1, 1, 1, 1, 1, 1, 1,\\n        1, 0, 0, 0, 0, 0, 0, 0, 0, 0, 0, 0, 0, 0, 0, 0, 0, 0, 0, 0, 0, 0, 0, 0,\\n        0, 0, 0, 0, 0, 0, 0, 0, 0, 0, 0, 0, 0, 0, 0, 0, 0, 0, 0, 0, 0, 0, 0, 0,\\n        0, 0, 0, 0, 0, 0, 0, 0, 0, 0, 0, 0, 0, 0, 0, 0, 0, 0, 0, 0, 0, 0, 0, 0,\\n        0, 0, 0, 0, 0, 0, 0, 0, 0, 0, 0, 0, 0, 0, 0, 0, 0, 0, 0, 0, 0, 0, 0, 0,\\n        0, 0, 0, 0, 0, 0, 0, 0, 0, 0, 0, 0, 0, 0, 0, 0, 0, 0, 0, 0, 0, 0, 0, 0,\\n        0, 0, 0, 0, 0, 0, 0, 0, 0, 0, 0, 0, 0, 0, 0, 0, 0, 0, 0, 0, 0, 0, 0, 0,\\n        0, 0, 0, 0, 0, 0, 0, 0, 0, 0, 0, 0, 0, 0, 0, 0, 0, 0, 0, 0, 0, 0, 0, 0,\\n        0, 0, 0, 0, 0, 0, 0, 0, 0, 0, 0, 0, 0, 0, 0, 0, 0, 0, 0, 0, 0, 0, 0, 0,\\n        0, 0, 0, 0, 0, 0, 0, 0, 0, 0, 0, 0, 0, 0, 0, 0, 0, 0, 0, 0, 0, 0, 0, 0,\\n        0, 0, 0, 0, 0, 0, 0, 0, 0, 0, 0, 0, 0, 0, 0, 0])',\n",
            "       b'tensor([1, 1, 1, 1, 1, 1, 1, 1, 1, 1, 1, 1, 1, 1, 1, 1, 1, 0, 0, 0, 0, 0, 0, 0,\\n        0, 0, 0, 0, 0, 0, 0, 0, 0, 0, 0, 0, 0, 0, 0, 0, 0, 0, 0, 0, 0, 0, 0, 0,\\n        0, 0, 0, 0, 0, 0, 0, 0, 0, 0, 0, 0, 0, 0, 0, 0, 0, 0, 0, 0, 0, 0, 0, 0,\\n        0, 0, 0, 0, 0, 0, 0, 0, 0, 0, 0, 0, 0, 0, 0, 0, 0, 0, 0, 0, 0, 0, 0, 0,\\n        0, 0, 0, 0, 0, 0, 0, 0, 0, 0, 0, 0, 0, 0, 0, 0, 0, 0, 0, 0, 0, 0, 0, 0,\\n        0, 0, 0, 0, 0, 0, 0, 0, 0, 0, 0, 0, 0, 0, 0, 0, 0, 0, 0, 0, 0, 0, 0, 0,\\n        0, 0, 0, 0, 0, 0, 0, 0, 0, 0, 0, 0, 0, 0, 0, 0, 0, 0, 0, 0, 0, 0, 0, 0,\\n        0, 0, 0, 0, 0, 0, 0, 0, 0, 0, 0, 0, 0, 0, 0, 0, 0, 0, 0, 0, 0, 0, 0, 0,\\n        0, 0, 0, 0, 0, 0, 0, 0, 0, 0, 0, 0, 0, 0, 0, 0, 0, 0, 0, 0, 0, 0, 0, 0,\\n        0, 0, 0, 0, 0, 0, 0, 0, 0, 0, 0, 0, 0, 0, 0, 0, 0, 0, 0, 0, 0, 0, 0, 0,\\n        0, 0, 0, 0, 0, 0, 0, 0, 0, 0, 0, 0, 0, 0, 0, 0])',\n",
            "       b'tensor([1, 1, 1, 1, 1, 1, 1, 1, 1, 1, 1, 1, 1, 1, 1, 1, 1, 1, 1, 1, 1, 1, 1, 1,\\n        1, 1, 1, 1, 1, 1, 1, 1, 0, 0, 0, 0, 0, 0, 0, 0, 0, 0, 0, 0, 0, 0, 0, 0,\\n        0, 0, 0, 0, 0, 0, 0, 0, 0, 0, 0, 0, 0, 0, 0, 0, 0, 0, 0, 0, 0, 0, 0, 0,\\n        0, 0, 0, 0, 0, 0, 0, 0, 0, 0, 0, 0, 0, 0, 0, 0, 0, 0, 0, 0, 0, 0, 0, 0,\\n        0, 0, 0, 0, 0, 0, 0, 0, 0, 0, 0, 0, 0, 0, 0, 0, 0, 0, 0, 0, 0, 0, 0, 0,\\n        0, 0, 0, 0, 0, 0, 0, 0, 0, 0, 0, 0, 0, 0, 0, 0, 0, 0, 0, 0, 0, 0, 0, 0,\\n        0, 0, 0, 0, 0, 0, 0, 0, 0, 0, 0, 0, 0, 0, 0, 0, 0, 0, 0, 0, 0, 0, 0, 0,\\n        0, 0, 0, 0, 0, 0, 0, 0, 0, 0, 0, 0, 0, 0, 0, 0, 0, 0, 0, 0, 0, 0, 0, 0,\\n        0, 0, 0, 0, 0, 0, 0, 0, 0, 0, 0, 0, 0, 0, 0, 0, 0, 0, 0, 0, 0, 0, 0, 0,\\n        0, 0, 0, 0, 0, 0, 0, 0, 0, 0, 0, 0, 0, 0, 0, 0, 0, 0, 0, 0, 0, 0, 0, 0,\\n        0, 0, 0, 0, 0, 0, 0, 0, 0, 0, 0, 0, 0, 0, 0, 0])',\n",
            "       b'tensor([1, 1, 1, 1, 1, 1, 1, 1, 1, 1, 1, 1, 1, 1, 1, 1, 1, 1, 1, 1, 1, 1, 1, 1,\\n        0, 0, 0, 0, 0, 0, 0, 0, 0, 0, 0, 0, 0, 0, 0, 0, 0, 0, 0, 0, 0, 0, 0, 0,\\n        0, 0, 0, 0, 0, 0, 0, 0, 0, 0, 0, 0, 0, 0, 0, 0, 0, 0, 0, 0, 0, 0, 0, 0,\\n        0, 0, 0, 0, 0, 0, 0, 0, 0, 0, 0, 0, 0, 0, 0, 0, 0, 0, 0, 0, 0, 0, 0, 0,\\n        0, 0, 0, 0, 0, 0, 0, 0, 0, 0, 0, 0, 0, 0, 0, 0, 0, 0, 0, 0, 0, 0, 0, 0,\\n        0, 0, 0, 0, 0, 0, 0, 0, 0, 0, 0, 0, 0, 0, 0, 0, 0, 0, 0, 0, 0, 0, 0, 0,\\n        0, 0, 0, 0, 0, 0, 0, 0, 0, 0, 0, 0, 0, 0, 0, 0, 0, 0, 0, 0, 0, 0, 0, 0,\\n        0, 0, 0, 0, 0, 0, 0, 0, 0, 0, 0, 0, 0, 0, 0, 0, 0, 0, 0, 0, 0, 0, 0, 0,\\n        0, 0, 0, 0, 0, 0, 0, 0, 0, 0, 0, 0, 0, 0, 0, 0, 0, 0, 0, 0, 0, 0, 0, 0,\\n        0, 0, 0, 0, 0, 0, 0, 0, 0, 0, 0, 0, 0, 0, 0, 0, 0, 0, 0, 0, 0, 0, 0, 0,\\n        0, 0, 0, 0, 0, 0, 0, 0, 0, 0, 0, 0, 0, 0, 0, 0])',\n",
            "       b'tensor([1, 1, 1, 1, 1, 1, 1, 1, 1, 1, 1, 1, 1, 1, 1, 1, 1, 1, 1, 1, 1, 1, 1, 1,\\n        1, 1, 1, 1, 1, 1, 0, 0, 0, 0, 0, 0, 0, 0, 0, 0, 0, 0, 0, 0, 0, 0, 0, 0,\\n        0, 0, 0, 0, 0, 0, 0, 0, 0, 0, 0, 0, 0, 0, 0, 0, 0, 0, 0, 0, 0, 0, 0, 0,\\n        0, 0, 0, 0, 0, 0, 0, 0, 0, 0, 0, 0, 0, 0, 0, 0, 0, 0, 0, 0, 0, 0, 0, 0,\\n        0, 0, 0, 0, 0, 0, 0, 0, 0, 0, 0, 0, 0, 0, 0, 0, 0, 0, 0, 0, 0, 0, 0, 0,\\n        0, 0, 0, 0, 0, 0, 0, 0, 0, 0, 0, 0, 0, 0, 0, 0, 0, 0, 0, 0, 0, 0, 0, 0,\\n        0, 0, 0, 0, 0, 0, 0, 0, 0, 0, 0, 0, 0, 0, 0, 0, 0, 0, 0, 0, 0, 0, 0, 0,\\n        0, 0, 0, 0, 0, 0, 0, 0, 0, 0, 0, 0, 0, 0, 0, 0, 0, 0, 0, 0, 0, 0, 0, 0,\\n        0, 0, 0, 0, 0, 0, 0, 0, 0, 0, 0, 0, 0, 0, 0, 0, 0, 0, 0, 0, 0, 0, 0, 0,\\n        0, 0, 0, 0, 0, 0, 0, 0, 0, 0, 0, 0, 0, 0, 0, 0, 0, 0, 0, 0, 0, 0, 0, 0,\\n        0, 0, 0, 0, 0, 0, 0, 0, 0, 0, 0, 0, 0, 0, 0, 0])',\n",
            "       b'tensor([1, 1, 1, 1, 1, 1, 1, 1, 1, 1, 1, 1, 1, 1, 1, 1, 1, 1, 1, 1, 1, 1, 0, 0,\\n        0, 0, 0, 0, 0, 0, 0, 0, 0, 0, 0, 0, 0, 0, 0, 0, 0, 0, 0, 0, 0, 0, 0, 0,\\n        0, 0, 0, 0, 0, 0, 0, 0, 0, 0, 0, 0, 0, 0, 0, 0, 0, 0, 0, 0, 0, 0, 0, 0,\\n        0, 0, 0, 0, 0, 0, 0, 0, 0, 0, 0, 0, 0, 0, 0, 0, 0, 0, 0, 0, 0, 0, 0, 0,\\n        0, 0, 0, 0, 0, 0, 0, 0, 0, 0, 0, 0, 0, 0, 0, 0, 0, 0, 0, 0, 0, 0, 0, 0,\\n        0, 0, 0, 0, 0, 0, 0, 0, 0, 0, 0, 0, 0, 0, 0, 0, 0, 0, 0, 0, 0, 0, 0, 0,\\n        0, 0, 0, 0, 0, 0, 0, 0, 0, 0, 0, 0, 0, 0, 0, 0, 0, 0, 0, 0, 0, 0, 0, 0,\\n        0, 0, 0, 0, 0, 0, 0, 0, 0, 0, 0, 0, 0, 0, 0, 0, 0, 0, 0, 0, 0, 0, 0, 0,\\n        0, 0, 0, 0, 0, 0, 0, 0, 0, 0, 0, 0, 0, 0, 0, 0, 0, 0, 0, 0, 0, 0, 0, 0,\\n        0, 0, 0, 0, 0, 0, 0, 0, 0, 0, 0, 0, 0, 0, 0, 0, 0, 0, 0, 0, 0, 0, 0, 0,\\n        0, 0, 0, 0, 0, 0, 0, 0, 0, 0, 0, 0, 0, 0, 0, 0])',\n",
            "       b'tensor([1, 1, 1, 1, 1, 1, 1, 1, 1, 1, 1, 1, 1, 1, 1, 1, 1, 1, 1, 1, 1, 1, 1, 1,\\n        0, 0, 0, 0, 0, 0, 0, 0, 0, 0, 0, 0, 0, 0, 0, 0, 0, 0, 0, 0, 0, 0, 0, 0,\\n        0, 0, 0, 0, 0, 0, 0, 0, 0, 0, 0, 0, 0, 0, 0, 0, 0, 0, 0, 0, 0, 0, 0, 0,\\n        0, 0, 0, 0, 0, 0, 0, 0, 0, 0, 0, 0, 0, 0, 0, 0, 0, 0, 0, 0, 0, 0, 0, 0,\\n        0, 0, 0, 0, 0, 0, 0, 0, 0, 0, 0, 0, 0, 0, 0, 0, 0, 0, 0, 0, 0, 0, 0, 0,\\n        0, 0, 0, 0, 0, 0, 0, 0, 0, 0, 0, 0, 0, 0, 0, 0, 0, 0, 0, 0, 0, 0, 0, 0,\\n        0, 0, 0, 0, 0, 0, 0, 0, 0, 0, 0, 0, 0, 0, 0, 0, 0, 0, 0, 0, 0, 0, 0, 0,\\n        0, 0, 0, 0, 0, 0, 0, 0, 0, 0, 0, 0, 0, 0, 0, 0, 0, 0, 0, 0, 0, 0, 0, 0,\\n        0, 0, 0, 0, 0, 0, 0, 0, 0, 0, 0, 0, 0, 0, 0, 0, 0, 0, 0, 0, 0, 0, 0, 0,\\n        0, 0, 0, 0, 0, 0, 0, 0, 0, 0, 0, 0, 0, 0, 0, 0, 0, 0, 0, 0, 0, 0, 0, 0,\\n        0, 0, 0, 0, 0, 0, 0, 0, 0, 0, 0, 0, 0, 0, 0, 0])',\n",
            "       b'tensor([1, 1, 1, 1, 1, 1, 1, 1, 1, 1, 1, 1, 1, 1, 1, 1, 1, 1, 1, 1, 1, 1, 1, 1,\\n        1, 1, 1, 0, 0, 0, 0, 0, 0, 0, 0, 0, 0, 0, 0, 0, 0, 0, 0, 0, 0, 0, 0, 0,\\n        0, 0, 0, 0, 0, 0, 0, 0, 0, 0, 0, 0, 0, 0, 0, 0, 0, 0, 0, 0, 0, 0, 0, 0,\\n        0, 0, 0, 0, 0, 0, 0, 0, 0, 0, 0, 0, 0, 0, 0, 0, 0, 0, 0, 0, 0, 0, 0, 0,\\n        0, 0, 0, 0, 0, 0, 0, 0, 0, 0, 0, 0, 0, 0, 0, 0, 0, 0, 0, 0, 0, 0, 0, 0,\\n        0, 0, 0, 0, 0, 0, 0, 0, 0, 0, 0, 0, 0, 0, 0, 0, 0, 0, 0, 0, 0, 0, 0, 0,\\n        0, 0, 0, 0, 0, 0, 0, 0, 0, 0, 0, 0, 0, 0, 0, 0, 0, 0, 0, 0, 0, 0, 0, 0,\\n        0, 0, 0, 0, 0, 0, 0, 0, 0, 0, 0, 0, 0, 0, 0, 0, 0, 0, 0, 0, 0, 0, 0, 0,\\n        0, 0, 0, 0, 0, 0, 0, 0, 0, 0, 0, 0, 0, 0, 0, 0, 0, 0, 0, 0, 0, 0, 0, 0,\\n        0, 0, 0, 0, 0, 0, 0, 0, 0, 0, 0, 0, 0, 0, 0, 0, 0, 0, 0, 0, 0, 0, 0, 0,\\n        0, 0, 0, 0, 0, 0, 0, 0, 0, 0, 0, 0, 0, 0, 0, 0])',\n",
            "       b'tensor([1, 1, 1, 1, 1, 1, 1, 1, 1, 1, 1, 1, 1, 1, 0, 0, 0, 0, 0, 0, 0, 0, 0, 0,\\n        0, 0, 0, 0, 0, 0, 0, 0, 0, 0, 0, 0, 0, 0, 0, 0, 0, 0, 0, 0, 0, 0, 0, 0,\\n        0, 0, 0, 0, 0, 0, 0, 0, 0, 0, 0, 0, 0, 0, 0, 0, 0, 0, 0, 0, 0, 0, 0, 0,\\n        0, 0, 0, 0, 0, 0, 0, 0, 0, 0, 0, 0, 0, 0, 0, 0, 0, 0, 0, 0, 0, 0, 0, 0,\\n        0, 0, 0, 0, 0, 0, 0, 0, 0, 0, 0, 0, 0, 0, 0, 0, 0, 0, 0, 0, 0, 0, 0, 0,\\n        0, 0, 0, 0, 0, 0, 0, 0, 0, 0, 0, 0, 0, 0, 0, 0, 0, 0, 0, 0, 0, 0, 0, 0,\\n        0, 0, 0, 0, 0, 0, 0, 0, 0, 0, 0, 0, 0, 0, 0, 0, 0, 0, 0, 0, 0, 0, 0, 0,\\n        0, 0, 0, 0, 0, 0, 0, 0, 0, 0, 0, 0, 0, 0, 0, 0, 0, 0, 0, 0, 0, 0, 0, 0,\\n        0, 0, 0, 0, 0, 0, 0, 0, 0, 0, 0, 0, 0, 0, 0, 0, 0, 0, 0, 0, 0, 0, 0, 0,\\n        0, 0, 0, 0, 0, 0, 0, 0, 0, 0, 0, 0, 0, 0, 0, 0, 0, 0, 0, 0, 0, 0, 0, 0,\\n        0, 0, 0, 0, 0, 0, 0, 0, 0, 0, 0, 0, 0, 0, 0, 0])',\n",
            "       b'tensor([1, 1, 1, 1, 1, 1, 1, 1, 1, 1, 1, 1, 1, 1, 1, 1, 1, 1, 1, 1, 1, 1, 1, 1,\\n        1, 1, 1, 1, 0, 0, 0, 0, 0, 0, 0, 0, 0, 0, 0, 0, 0, 0, 0, 0, 0, 0, 0, 0,\\n        0, 0, 0, 0, 0, 0, 0, 0, 0, 0, 0, 0, 0, 0, 0, 0, 0, 0, 0, 0, 0, 0, 0, 0,\\n        0, 0, 0, 0, 0, 0, 0, 0, 0, 0, 0, 0, 0, 0, 0, 0, 0, 0, 0, 0, 0, 0, 0, 0,\\n        0, 0, 0, 0, 0, 0, 0, 0, 0, 0, 0, 0, 0, 0, 0, 0, 0, 0, 0, 0, 0, 0, 0, 0,\\n        0, 0, 0, 0, 0, 0, 0, 0, 0, 0, 0, 0, 0, 0, 0, 0, 0, 0, 0, 0, 0, 0, 0, 0,\\n        0, 0, 0, 0, 0, 0, 0, 0, 0, 0, 0, 0, 0, 0, 0, 0, 0, 0, 0, 0, 0, 0, 0, 0,\\n        0, 0, 0, 0, 0, 0, 0, 0, 0, 0, 0, 0, 0, 0, 0, 0, 0, 0, 0, 0, 0, 0, 0, 0,\\n        0, 0, 0, 0, 0, 0, 0, 0, 0, 0, 0, 0, 0, 0, 0, 0, 0, 0, 0, 0, 0, 0, 0, 0,\\n        0, 0, 0, 0, 0, 0, 0, 0, 0, 0, 0, 0, 0, 0, 0, 0, 0, 0, 0, 0, 0, 0, 0, 0,\\n        0, 0, 0, 0, 0, 0, 0, 0, 0, 0, 0, 0, 0, 0, 0, 0])',\n",
            "       b'tensor([1, 1, 1, 1, 1, 1, 1, 1, 1, 1, 1, 1, 1, 1, 1, 1, 1, 1, 1, 1, 1, 1, 1, 1,\\n        1, 0, 0, 0, 0, 0, 0, 0, 0, 0, 0, 0, 0, 0, 0, 0, 0, 0, 0, 0, 0, 0, 0, 0,\\n        0, 0, 0, 0, 0, 0, 0, 0, 0, 0, 0, 0, 0, 0, 0, 0, 0, 0, 0, 0, 0, 0, 0, 0,\\n        0, 0, 0, 0, 0, 0, 0, 0, 0, 0, 0, 0, 0, 0, 0, 0, 0, 0, 0, 0, 0, 0, 0, 0,\\n        0, 0, 0, 0, 0, 0, 0, 0, 0, 0, 0, 0, 0, 0, 0, 0, 0, 0, 0, 0, 0, 0, 0, 0,\\n        0, 0, 0, 0, 0, 0, 0, 0, 0, 0, 0, 0, 0, 0, 0, 0, 0, 0, 0, 0, 0, 0, 0, 0,\\n        0, 0, 0, 0, 0, 0, 0, 0, 0, 0, 0, 0, 0, 0, 0, 0, 0, 0, 0, 0, 0, 0, 0, 0,\\n        0, 0, 0, 0, 0, 0, 0, 0, 0, 0, 0, 0, 0, 0, 0, 0, 0, 0, 0, 0, 0, 0, 0, 0,\\n        0, 0, 0, 0, 0, 0, 0, 0, 0, 0, 0, 0, 0, 0, 0, 0, 0, 0, 0, 0, 0, 0, 0, 0,\\n        0, 0, 0, 0, 0, 0, 0, 0, 0, 0, 0, 0, 0, 0, 0, 0, 0, 0, 0, 0, 0, 0, 0, 0,\\n        0, 0, 0, 0, 0, 0, 0, 0, 0, 0, 0, 0, 0, 0, 0, 0])',\n",
            "       b'tensor([1, 1, 1, 1, 1, 1, 1, 1, 1, 1, 1, 1, 1, 1, 1, 1, 1, 1, 1, 0, 0, 0, 0, 0,\\n        0, 0, 0, 0, 0, 0, 0, 0, 0, 0, 0, 0, 0, 0, 0, 0, 0, 0, 0, 0, 0, 0, 0, 0,\\n        0, 0, 0, 0, 0, 0, 0, 0, 0, 0, 0, 0, 0, 0, 0, 0, 0, 0, 0, 0, 0, 0, 0, 0,\\n        0, 0, 0, 0, 0, 0, 0, 0, 0, 0, 0, 0, 0, 0, 0, 0, 0, 0, 0, 0, 0, 0, 0, 0,\\n        0, 0, 0, 0, 0, 0, 0, 0, 0, 0, 0, 0, 0, 0, 0, 0, 0, 0, 0, 0, 0, 0, 0, 0,\\n        0, 0, 0, 0, 0, 0, 0, 0, 0, 0, 0, 0, 0, 0, 0, 0, 0, 0, 0, 0, 0, 0, 0, 0,\\n        0, 0, 0, 0, 0, 0, 0, 0, 0, 0, 0, 0, 0, 0, 0, 0, 0, 0, 0, 0, 0, 0, 0, 0,\\n        0, 0, 0, 0, 0, 0, 0, 0, 0, 0, 0, 0, 0, 0, 0, 0, 0, 0, 0, 0, 0, 0, 0, 0,\\n        0, 0, 0, 0, 0, 0, 0, 0, 0, 0, 0, 0, 0, 0, 0, 0, 0, 0, 0, 0, 0, 0, 0, 0,\\n        0, 0, 0, 0, 0, 0, 0, 0, 0, 0, 0, 0, 0, 0, 0, 0, 0, 0, 0, 0, 0, 0, 0, 0,\\n        0, 0, 0, 0, 0, 0, 0, 0, 0, 0, 0, 0, 0, 0, 0, 0])',\n",
            "       b'tensor([1, 1, 1, 1, 1, 1, 1, 1, 1, 1, 1, 1, 1, 1, 1, 1, 1, 0, 0, 0, 0, 0, 0, 0,\\n        0, 0, 0, 0, 0, 0, 0, 0, 0, 0, 0, 0, 0, 0, 0, 0, 0, 0, 0, 0, 0, 0, 0, 0,\\n        0, 0, 0, 0, 0, 0, 0, 0, 0, 0, 0, 0, 0, 0, 0, 0, 0, 0, 0, 0, 0, 0, 0, 0,\\n        0, 0, 0, 0, 0, 0, 0, 0, 0, 0, 0, 0, 0, 0, 0, 0, 0, 0, 0, 0, 0, 0, 0, 0,\\n        0, 0, 0, 0, 0, 0, 0, 0, 0, 0, 0, 0, 0, 0, 0, 0, 0, 0, 0, 0, 0, 0, 0, 0,\\n        0, 0, 0, 0, 0, 0, 0, 0, 0, 0, 0, 0, 0, 0, 0, 0, 0, 0, 0, 0, 0, 0, 0, 0,\\n        0, 0, 0, 0, 0, 0, 0, 0, 0, 0, 0, 0, 0, 0, 0, 0, 0, 0, 0, 0, 0, 0, 0, 0,\\n        0, 0, 0, 0, 0, 0, 0, 0, 0, 0, 0, 0, 0, 0, 0, 0, 0, 0, 0, 0, 0, 0, 0, 0,\\n        0, 0, 0, 0, 0, 0, 0, 0, 0, 0, 0, 0, 0, 0, 0, 0, 0, 0, 0, 0, 0, 0, 0, 0,\\n        0, 0, 0, 0, 0, 0, 0, 0, 0, 0, 0, 0, 0, 0, 0, 0, 0, 0, 0, 0, 0, 0, 0, 0,\\n        0, 0, 0, 0, 0, 0, 0, 0, 0, 0, 0, 0, 0, 0, 0, 0])',\n",
            "       b'tensor([1, 1, 1, 1, 1, 1, 1, 1, 1, 1, 1, 1, 1, 1, 1, 1, 1, 1, 0, 0, 0, 0, 0, 0,\\n        0, 0, 0, 0, 0, 0, 0, 0, 0, 0, 0, 0, 0, 0, 0, 0, 0, 0, 0, 0, 0, 0, 0, 0,\\n        0, 0, 0, 0, 0, 0, 0, 0, 0, 0, 0, 0, 0, 0, 0, 0, 0, 0, 0, 0, 0, 0, 0, 0,\\n        0, 0, 0, 0, 0, 0, 0, 0, 0, 0, 0, 0, 0, 0, 0, 0, 0, 0, 0, 0, 0, 0, 0, 0,\\n        0, 0, 0, 0, 0, 0, 0, 0, 0, 0, 0, 0, 0, 0, 0, 0, 0, 0, 0, 0, 0, 0, 0, 0,\\n        0, 0, 0, 0, 0, 0, 0, 0, 0, 0, 0, 0, 0, 0, 0, 0, 0, 0, 0, 0, 0, 0, 0, 0,\\n        0, 0, 0, 0, 0, 0, 0, 0, 0, 0, 0, 0, 0, 0, 0, 0, 0, 0, 0, 0, 0, 0, 0, 0,\\n        0, 0, 0, 0, 0, 0, 0, 0, 0, 0, 0, 0, 0, 0, 0, 0, 0, 0, 0, 0, 0, 0, 0, 0,\\n        0, 0, 0, 0, 0, 0, 0, 0, 0, 0, 0, 0, 0, 0, 0, 0, 0, 0, 0, 0, 0, 0, 0, 0,\\n        0, 0, 0, 0, 0, 0, 0, 0, 0, 0, 0, 0, 0, 0, 0, 0, 0, 0, 0, 0, 0, 0, 0, 0,\\n        0, 0, 0, 0, 0, 0, 0, 0, 0, 0, 0, 0, 0, 0, 0, 0])',\n",
            "       b'tensor([1, 1, 1, 1, 1, 1, 1, 1, 1, 1, 1, 1, 1, 1, 1, 1, 0, 0, 0, 0, 0, 0, 0, 0,\\n        0, 0, 0, 0, 0, 0, 0, 0, 0, 0, 0, 0, 0, 0, 0, 0, 0, 0, 0, 0, 0, 0, 0, 0,\\n        0, 0, 0, 0, 0, 0, 0, 0, 0, 0, 0, 0, 0, 0, 0, 0, 0, 0, 0, 0, 0, 0, 0, 0,\\n        0, 0, 0, 0, 0, 0, 0, 0, 0, 0, 0, 0, 0, 0, 0, 0, 0, 0, 0, 0, 0, 0, 0, 0,\\n        0, 0, 0, 0, 0, 0, 0, 0, 0, 0, 0, 0, 0, 0, 0, 0, 0, 0, 0, 0, 0, 0, 0, 0,\\n        0, 0, 0, 0, 0, 0, 0, 0, 0, 0, 0, 0, 0, 0, 0, 0, 0, 0, 0, 0, 0, 0, 0, 0,\\n        0, 0, 0, 0, 0, 0, 0, 0, 0, 0, 0, 0, 0, 0, 0, 0, 0, 0, 0, 0, 0, 0, 0, 0,\\n        0, 0, 0, 0, 0, 0, 0, 0, 0, 0, 0, 0, 0, 0, 0, 0, 0, 0, 0, 0, 0, 0, 0, 0,\\n        0, 0, 0, 0, 0, 0, 0, 0, 0, 0, 0, 0, 0, 0, 0, 0, 0, 0, 0, 0, 0, 0, 0, 0,\\n        0, 0, 0, 0, 0, 0, 0, 0, 0, 0, 0, 0, 0, 0, 0, 0, 0, 0, 0, 0, 0, 0, 0, 0,\\n        0, 0, 0, 0, 0, 0, 0, 0, 0, 0, 0, 0, 0, 0, 0, 0])',\n",
            "       b'tensor([1, 1, 1, 1, 1, 1, 1, 1, 1, 1, 1, 1, 1, 1, 1, 1, 1, 1, 1, 1, 1, 1, 1, 1,\\n        1, 1, 1, 1, 0, 0, 0, 0, 0, 0, 0, 0, 0, 0, 0, 0, 0, 0, 0, 0, 0, 0, 0, 0,\\n        0, 0, 0, 0, 0, 0, 0, 0, 0, 0, 0, 0, 0, 0, 0, 0, 0, 0, 0, 0, 0, 0, 0, 0,\\n        0, 0, 0, 0, 0, 0, 0, 0, 0, 0, 0, 0, 0, 0, 0, 0, 0, 0, 0, 0, 0, 0, 0, 0,\\n        0, 0, 0, 0, 0, 0, 0, 0, 0, 0, 0, 0, 0, 0, 0, 0, 0, 0, 0, 0, 0, 0, 0, 0,\\n        0, 0, 0, 0, 0, 0, 0, 0, 0, 0, 0, 0, 0, 0, 0, 0, 0, 0, 0, 0, 0, 0, 0, 0,\\n        0, 0, 0, 0, 0, 0, 0, 0, 0, 0, 0, 0, 0, 0, 0, 0, 0, 0, 0, 0, 0, 0, 0, 0,\\n        0, 0, 0, 0, 0, 0, 0, 0, 0, 0, 0, 0, 0, 0, 0, 0, 0, 0, 0, 0, 0, 0, 0, 0,\\n        0, 0, 0, 0, 0, 0, 0, 0, 0, 0, 0, 0, 0, 0, 0, 0, 0, 0, 0, 0, 0, 0, 0, 0,\\n        0, 0, 0, 0, 0, 0, 0, 0, 0, 0, 0, 0, 0, 0, 0, 0, 0, 0, 0, 0, 0, 0, 0, 0,\\n        0, 0, 0, 0, 0, 0, 0, 0, 0, 0, 0, 0, 0, 0, 0, 0])',\n",
            "       b'tensor([1, 1, 1, 1, 1, 1, 1, 1, 1, 1, 1, 1, 1, 1, 1, 1, 1, 1, 1, 1, 0, 0, 0, 0,\\n        0, 0, 0, 0, 0, 0, 0, 0, 0, 0, 0, 0, 0, 0, 0, 0, 0, 0, 0, 0, 0, 0, 0, 0,\\n        0, 0, 0, 0, 0, 0, 0, 0, 0, 0, 0, 0, 0, 0, 0, 0, 0, 0, 0, 0, 0, 0, 0, 0,\\n        0, 0, 0, 0, 0, 0, 0, 0, 0, 0, 0, 0, 0, 0, 0, 0, 0, 0, 0, 0, 0, 0, 0, 0,\\n        0, 0, 0, 0, 0, 0, 0, 0, 0, 0, 0, 0, 0, 0, 0, 0, 0, 0, 0, 0, 0, 0, 0, 0,\\n        0, 0, 0, 0, 0, 0, 0, 0, 0, 0, 0, 0, 0, 0, 0, 0, 0, 0, 0, 0, 0, 0, 0, 0,\\n        0, 0, 0, 0, 0, 0, 0, 0, 0, 0, 0, 0, 0, 0, 0, 0, 0, 0, 0, 0, 0, 0, 0, 0,\\n        0, 0, 0, 0, 0, 0, 0, 0, 0, 0, 0, 0, 0, 0, 0, 0, 0, 0, 0, 0, 0, 0, 0, 0,\\n        0, 0, 0, 0, 0, 0, 0, 0, 0, 0, 0, 0, 0, 0, 0, 0, 0, 0, 0, 0, 0, 0, 0, 0,\\n        0, 0, 0, 0, 0, 0, 0, 0, 0, 0, 0, 0, 0, 0, 0, 0, 0, 0, 0, 0, 0, 0, 0, 0,\\n        0, 0, 0, 0, 0, 0, 0, 0, 0, 0, 0, 0, 0, 0, 0, 0])',\n",
            "       b'tensor([1, 1, 1, 1, 1, 1, 1, 1, 1, 1, 1, 1, 1, 1, 1, 0, 0, 0, 0, 0, 0, 0, 0, 0,\\n        0, 0, 0, 0, 0, 0, 0, 0, 0, 0, 0, 0, 0, 0, 0, 0, 0, 0, 0, 0, 0, 0, 0, 0,\\n        0, 0, 0, 0, 0, 0, 0, 0, 0, 0, 0, 0, 0, 0, 0, 0, 0, 0, 0, 0, 0, 0, 0, 0,\\n        0, 0, 0, 0, 0, 0, 0, 0, 0, 0, 0, 0, 0, 0, 0, 0, 0, 0, 0, 0, 0, 0, 0, 0,\\n        0, 0, 0, 0, 0, 0, 0, 0, 0, 0, 0, 0, 0, 0, 0, 0, 0, 0, 0, 0, 0, 0, 0, 0,\\n        0, 0, 0, 0, 0, 0, 0, 0, 0, 0, 0, 0, 0, 0, 0, 0, 0, 0, 0, 0, 0, 0, 0, 0,\\n        0, 0, 0, 0, 0, 0, 0, 0, 0, 0, 0, 0, 0, 0, 0, 0, 0, 0, 0, 0, 0, 0, 0, 0,\\n        0, 0, 0, 0, 0, 0, 0, 0, 0, 0, 0, 0, 0, 0, 0, 0, 0, 0, 0, 0, 0, 0, 0, 0,\\n        0, 0, 0, 0, 0, 0, 0, 0, 0, 0, 0, 0, 0, 0, 0, 0, 0, 0, 0, 0, 0, 0, 0, 0,\\n        0, 0, 0, 0, 0, 0, 0, 0, 0, 0, 0, 0, 0, 0, 0, 0, 0, 0, 0, 0, 0, 0, 0, 0,\\n        0, 0, 0, 0, 0, 0, 0, 0, 0, 0, 0, 0, 0, 0, 0, 0])',\n",
            "       b'tensor([1, 1, 1, 1, 1, 1, 1, 1, 1, 1, 0, 0, 0, 0, 0, 0, 0, 0, 0, 0, 0, 0, 0, 0,\\n        0, 0, 0, 0, 0, 0, 0, 0, 0, 0, 0, 0, 0, 0, 0, 0, 0, 0, 0, 0, 0, 0, 0, 0,\\n        0, 0, 0, 0, 0, 0, 0, 0, 0, 0, 0, 0, 0, 0, 0, 0, 0, 0, 0, 0, 0, 0, 0, 0,\\n        0, 0, 0, 0, 0, 0, 0, 0, 0, 0, 0, 0, 0, 0, 0, 0, 0, 0, 0, 0, 0, 0, 0, 0,\\n        0, 0, 0, 0, 0, 0, 0, 0, 0, 0, 0, 0, 0, 0, 0, 0, 0, 0, 0, 0, 0, 0, 0, 0,\\n        0, 0, 0, 0, 0, 0, 0, 0, 0, 0, 0, 0, 0, 0, 0, 0, 0, 0, 0, 0, 0, 0, 0, 0,\\n        0, 0, 0, 0, 0, 0, 0, 0, 0, 0, 0, 0, 0, 0, 0, 0, 0, 0, 0, 0, 0, 0, 0, 0,\\n        0, 0, 0, 0, 0, 0, 0, 0, 0, 0, 0, 0, 0, 0, 0, 0, 0, 0, 0, 0, 0, 0, 0, 0,\\n        0, 0, 0, 0, 0, 0, 0, 0, 0, 0, 0, 0, 0, 0, 0, 0, 0, 0, 0, 0, 0, 0, 0, 0,\\n        0, 0, 0, 0, 0, 0, 0, 0, 0, 0, 0, 0, 0, 0, 0, 0, 0, 0, 0, 0, 0, 0, 0, 0,\\n        0, 0, 0, 0, 0, 0, 0, 0, 0, 0, 0, 0, 0, 0, 0, 0])',\n",
            "       b'tensor([1, 1, 1, 1, 1, 1, 1, 1, 1, 1, 1, 1, 1, 1, 1, 1, 1, 1, 1, 1, 1, 1, 1, 1,\\n        1, 1, 1, 1, 1, 1, 1, 1, 0, 0, 0, 0, 0, 0, 0, 0, 0, 0, 0, 0, 0, 0, 0, 0,\\n        0, 0, 0, 0, 0, 0, 0, 0, 0, 0, 0, 0, 0, 0, 0, 0, 0, 0, 0, 0, 0, 0, 0, 0,\\n        0, 0, 0, 0, 0, 0, 0, 0, 0, 0, 0, 0, 0, 0, 0, 0, 0, 0, 0, 0, 0, 0, 0, 0,\\n        0, 0, 0, 0, 0, 0, 0, 0, 0, 0, 0, 0, 0, 0, 0, 0, 0, 0, 0, 0, 0, 0, 0, 0,\\n        0, 0, 0, 0, 0, 0, 0, 0, 0, 0, 0, 0, 0, 0, 0, 0, 0, 0, 0, 0, 0, 0, 0, 0,\\n        0, 0, 0, 0, 0, 0, 0, 0, 0, 0, 0, 0, 0, 0, 0, 0, 0, 0, 0, 0, 0, 0, 0, 0,\\n        0, 0, 0, 0, 0, 0, 0, 0, 0, 0, 0, 0, 0, 0, 0, 0, 0, 0, 0, 0, 0, 0, 0, 0,\\n        0, 0, 0, 0, 0, 0, 0, 0, 0, 0, 0, 0, 0, 0, 0, 0, 0, 0, 0, 0, 0, 0, 0, 0,\\n        0, 0, 0, 0, 0, 0, 0, 0, 0, 0, 0, 0, 0, 0, 0, 0, 0, 0, 0, 0, 0, 0, 0, 0,\\n        0, 0, 0, 0, 0, 0, 0, 0, 0, 0, 0, 0, 0, 0, 0, 0])',\n",
            "       b'tensor([1, 1, 1, 1, 1, 1, 1, 1, 1, 1, 1, 1, 1, 1, 1, 1, 1, 1, 1, 1, 1, 1, 1, 1,\\n        0, 0, 0, 0, 0, 0, 0, 0, 0, 0, 0, 0, 0, 0, 0, 0, 0, 0, 0, 0, 0, 0, 0, 0,\\n        0, 0, 0, 0, 0, 0, 0, 0, 0, 0, 0, 0, 0, 0, 0, 0, 0, 0, 0, 0, 0, 0, 0, 0,\\n        0, 0, 0, 0, 0, 0, 0, 0, 0, 0, 0, 0, 0, 0, 0, 0, 0, 0, 0, 0, 0, 0, 0, 0,\\n        0, 0, 0, 0, 0, 0, 0, 0, 0, 0, 0, 0, 0, 0, 0, 0, 0, 0, 0, 0, 0, 0, 0, 0,\\n        0, 0, 0, 0, 0, 0, 0, 0, 0, 0, 0, 0, 0, 0, 0, 0, 0, 0, 0, 0, 0, 0, 0, 0,\\n        0, 0, 0, 0, 0, 0, 0, 0, 0, 0, 0, 0, 0, 0, 0, 0, 0, 0, 0, 0, 0, 0, 0, 0,\\n        0, 0, 0, 0, 0, 0, 0, 0, 0, 0, 0, 0, 0, 0, 0, 0, 0, 0, 0, 0, 0, 0, 0, 0,\\n        0, 0, 0, 0, 0, 0, 0, 0, 0, 0, 0, 0, 0, 0, 0, 0, 0, 0, 0, 0, 0, 0, 0, 0,\\n        0, 0, 0, 0, 0, 0, 0, 0, 0, 0, 0, 0, 0, 0, 0, 0, 0, 0, 0, 0, 0, 0, 0, 0,\\n        0, 0, 0, 0, 0, 0, 0, 0, 0, 0, 0, 0, 0, 0, 0, 0])',\n",
            "       b'tensor([1, 1, 1, 1, 1, 1, 1, 1, 1, 1, 0, 0, 0, 0, 0, 0, 0, 0, 0, 0, 0, 0, 0, 0,\\n        0, 0, 0, 0, 0, 0, 0, 0, 0, 0, 0, 0, 0, 0, 0, 0, 0, 0, 0, 0, 0, 0, 0, 0,\\n        0, 0, 0, 0, 0, 0, 0, 0, 0, 0, 0, 0, 0, 0, 0, 0, 0, 0, 0, 0, 0, 0, 0, 0,\\n        0, 0, 0, 0, 0, 0, 0, 0, 0, 0, 0, 0, 0, 0, 0, 0, 0, 0, 0, 0, 0, 0, 0, 0,\\n        0, 0, 0, 0, 0, 0, 0, 0, 0, 0, 0, 0, 0, 0, 0, 0, 0, 0, 0, 0, 0, 0, 0, 0,\\n        0, 0, 0, 0, 0, 0, 0, 0, 0, 0, 0, 0, 0, 0, 0, 0, 0, 0, 0, 0, 0, 0, 0, 0,\\n        0, 0, 0, 0, 0, 0, 0, 0, 0, 0, 0, 0, 0, 0, 0, 0, 0, 0, 0, 0, 0, 0, 0, 0,\\n        0, 0, 0, 0, 0, 0, 0, 0, 0, 0, 0, 0, 0, 0, 0, 0, 0, 0, 0, 0, 0, 0, 0, 0,\\n        0, 0, 0, 0, 0, 0, 0, 0, 0, 0, 0, 0, 0, 0, 0, 0, 0, 0, 0, 0, 0, 0, 0, 0,\\n        0, 0, 0, 0, 0, 0, 0, 0, 0, 0, 0, 0, 0, 0, 0, 0, 0, 0, 0, 0, 0, 0, 0, 0,\\n        0, 0, 0, 0, 0, 0, 0, 0, 0, 0, 0, 0, 0, 0, 0, 0])',\n",
            "       b'tensor([1, 1, 1, 1, 1, 1, 1, 1, 1, 1, 1, 1, 1, 1, 1, 1, 1, 1, 1, 1, 1, 0, 0, 0,\\n        0, 0, 0, 0, 0, 0, 0, 0, 0, 0, 0, 0, 0, 0, 0, 0, 0, 0, 0, 0, 0, 0, 0, 0,\\n        0, 0, 0, 0, 0, 0, 0, 0, 0, 0, 0, 0, 0, 0, 0, 0, 0, 0, 0, 0, 0, 0, 0, 0,\\n        0, 0, 0, 0, 0, 0, 0, 0, 0, 0, 0, 0, 0, 0, 0, 0, 0, 0, 0, 0, 0, 0, 0, 0,\\n        0, 0, 0, 0, 0, 0, 0, 0, 0, 0, 0, 0, 0, 0, 0, 0, 0, 0, 0, 0, 0, 0, 0, 0,\\n        0, 0, 0, 0, 0, 0, 0, 0, 0, 0, 0, 0, 0, 0, 0, 0, 0, 0, 0, 0, 0, 0, 0, 0,\\n        0, 0, 0, 0, 0, 0, 0, 0, 0, 0, 0, 0, 0, 0, 0, 0, 0, 0, 0, 0, 0, 0, 0, 0,\\n        0, 0, 0, 0, 0, 0, 0, 0, 0, 0, 0, 0, 0, 0, 0, 0, 0, 0, 0, 0, 0, 0, 0, 0,\\n        0, 0, 0, 0, 0, 0, 0, 0, 0, 0, 0, 0, 0, 0, 0, 0, 0, 0, 0, 0, 0, 0, 0, 0,\\n        0, 0, 0, 0, 0, 0, 0, 0, 0, 0, 0, 0, 0, 0, 0, 0, 0, 0, 0, 0, 0, 0, 0, 0,\\n        0, 0, 0, 0, 0, 0, 0, 0, 0, 0, 0, 0, 0, 0, 0, 0])',\n",
            "       b'tensor([1, 1, 1, 1, 1, 1, 1, 1, 1, 1, 1, 1, 1, 1, 1, 1, 1, 1, 1, 1, 1, 1, 1, 1,\\n        1, 1, 0, 0, 0, 0, 0, 0, 0, 0, 0, 0, 0, 0, 0, 0, 0, 0, 0, 0, 0, 0, 0, 0,\\n        0, 0, 0, 0, 0, 0, 0, 0, 0, 0, 0, 0, 0, 0, 0, 0, 0, 0, 0, 0, 0, 0, 0, 0,\\n        0, 0, 0, 0, 0, 0, 0, 0, 0, 0, 0, 0, 0, 0, 0, 0, 0, 0, 0, 0, 0, 0, 0, 0,\\n        0, 0, 0, 0, 0, 0, 0, 0, 0, 0, 0, 0, 0, 0, 0, 0, 0, 0, 0, 0, 0, 0, 0, 0,\\n        0, 0, 0, 0, 0, 0, 0, 0, 0, 0, 0, 0, 0, 0, 0, 0, 0, 0, 0, 0, 0, 0, 0, 0,\\n        0, 0, 0, 0, 0, 0, 0, 0, 0, 0, 0, 0, 0, 0, 0, 0, 0, 0, 0, 0, 0, 0, 0, 0,\\n        0, 0, 0, 0, 0, 0, 0, 0, 0, 0, 0, 0, 0, 0, 0, 0, 0, 0, 0, 0, 0, 0, 0, 0,\\n        0, 0, 0, 0, 0, 0, 0, 0, 0, 0, 0, 0, 0, 0, 0, 0, 0, 0, 0, 0, 0, 0, 0, 0,\\n        0, 0, 0, 0, 0, 0, 0, 0, 0, 0, 0, 0, 0, 0, 0, 0, 0, 0, 0, 0, 0, 0, 0, 0,\\n        0, 0, 0, 0, 0, 0, 0, 0, 0, 0, 0, 0, 0, 0, 0, 0])',\n",
            "       b'tensor([1, 1, 1, 1, 1, 1, 1, 1, 1, 1, 1, 1, 1, 1, 1, 1, 1, 1, 1, 1, 1, 1, 1, 1,\\n        0, 0, 0, 0, 0, 0, 0, 0, 0, 0, 0, 0, 0, 0, 0, 0, 0, 0, 0, 0, 0, 0, 0, 0,\\n        0, 0, 0, 0, 0, 0, 0, 0, 0, 0, 0, 0, 0, 0, 0, 0, 0, 0, 0, 0, 0, 0, 0, 0,\\n        0, 0, 0, 0, 0, 0, 0, 0, 0, 0, 0, 0, 0, 0, 0, 0, 0, 0, 0, 0, 0, 0, 0, 0,\\n        0, 0, 0, 0, 0, 0, 0, 0, 0, 0, 0, 0, 0, 0, 0, 0, 0, 0, 0, 0, 0, 0, 0, 0,\\n        0, 0, 0, 0, 0, 0, 0, 0, 0, 0, 0, 0, 0, 0, 0, 0, 0, 0, 0, 0, 0, 0, 0, 0,\\n        0, 0, 0, 0, 0, 0, 0, 0, 0, 0, 0, 0, 0, 0, 0, 0, 0, 0, 0, 0, 0, 0, 0, 0,\\n        0, 0, 0, 0, 0, 0, 0, 0, 0, 0, 0, 0, 0, 0, 0, 0, 0, 0, 0, 0, 0, 0, 0, 0,\\n        0, 0, 0, 0, 0, 0, 0, 0, 0, 0, 0, 0, 0, 0, 0, 0, 0, 0, 0, 0, 0, 0, 0, 0,\\n        0, 0, 0, 0, 0, 0, 0, 0, 0, 0, 0, 0, 0, 0, 0, 0, 0, 0, 0, 0, 0, 0, 0, 0,\\n        0, 0, 0, 0, 0, 0, 0, 0, 0, 0, 0, 0, 0, 0, 0, 0])',\n",
            "       b'tensor([1, 1, 1, 1, 1, 1, 1, 1, 1, 1, 1, 1, 1, 1, 1, 1, 0, 0, 0, 0, 0, 0, 0, 0,\\n        0, 0, 0, 0, 0, 0, 0, 0, 0, 0, 0, 0, 0, 0, 0, 0, 0, 0, 0, 0, 0, 0, 0, 0,\\n        0, 0, 0, 0, 0, 0, 0, 0, 0, 0, 0, 0, 0, 0, 0, 0, 0, 0, 0, 0, 0, 0, 0, 0,\\n        0, 0, 0, 0, 0, 0, 0, 0, 0, 0, 0, 0, 0, 0, 0, 0, 0, 0, 0, 0, 0, 0, 0, 0,\\n        0, 0, 0, 0, 0, 0, 0, 0, 0, 0, 0, 0, 0, 0, 0, 0, 0, 0, 0, 0, 0, 0, 0, 0,\\n        0, 0, 0, 0, 0, 0, 0, 0, 0, 0, 0, 0, 0, 0, 0, 0, 0, 0, 0, 0, 0, 0, 0, 0,\\n        0, 0, 0, 0, 0, 0, 0, 0, 0, 0, 0, 0, 0, 0, 0, 0, 0, 0, 0, 0, 0, 0, 0, 0,\\n        0, 0, 0, 0, 0, 0, 0, 0, 0, 0, 0, 0, 0, 0, 0, 0, 0, 0, 0, 0, 0, 0, 0, 0,\\n        0, 0, 0, 0, 0, 0, 0, 0, 0, 0, 0, 0, 0, 0, 0, 0, 0, 0, 0, 0, 0, 0, 0, 0,\\n        0, 0, 0, 0, 0, 0, 0, 0, 0, 0, 0, 0, 0, 0, 0, 0, 0, 0, 0, 0, 0, 0, 0, 0,\\n        0, 0, 0, 0, 0, 0, 0, 0, 0, 0, 0, 0, 0, 0, 0, 0])',\n",
            "       b'tensor([1, 1, 1, 1, 1, 1, 1, 1, 1, 1, 1, 1, 1, 1, 1, 1, 1, 1, 1, 1, 0, 0, 0, 0,\\n        0, 0, 0, 0, 0, 0, 0, 0, 0, 0, 0, 0, 0, 0, 0, 0, 0, 0, 0, 0, 0, 0, 0, 0,\\n        0, 0, 0, 0, 0, 0, 0, 0, 0, 0, 0, 0, 0, 0, 0, 0, 0, 0, 0, 0, 0, 0, 0, 0,\\n        0, 0, 0, 0, 0, 0, 0, 0, 0, 0, 0, 0, 0, 0, 0, 0, 0, 0, 0, 0, 0, 0, 0, 0,\\n        0, 0, 0, 0, 0, 0, 0, 0, 0, 0, 0, 0, 0, 0, 0, 0, 0, 0, 0, 0, 0, 0, 0, 0,\\n        0, 0, 0, 0, 0, 0, 0, 0, 0, 0, 0, 0, 0, 0, 0, 0, 0, 0, 0, 0, 0, 0, 0, 0,\\n        0, 0, 0, 0, 0, 0, 0, 0, 0, 0, 0, 0, 0, 0, 0, 0, 0, 0, 0, 0, 0, 0, 0, 0,\\n        0, 0, 0, 0, 0, 0, 0, 0, 0, 0, 0, 0, 0, 0, 0, 0, 0, 0, 0, 0, 0, 0, 0, 0,\\n        0, 0, 0, 0, 0, 0, 0, 0, 0, 0, 0, 0, 0, 0, 0, 0, 0, 0, 0, 0, 0, 0, 0, 0,\\n        0, 0, 0, 0, 0, 0, 0, 0, 0, 0, 0, 0, 0, 0, 0, 0, 0, 0, 0, 0, 0, 0, 0, 0,\\n        0, 0, 0, 0, 0, 0, 0, 0, 0, 0, 0, 0, 0, 0, 0, 0])',\n",
            "       b'tensor([1, 1, 1, 1, 1, 1, 1, 1, 1, 1, 1, 1, 1, 1, 1, 1, 1, 1, 1, 1, 1, 1, 1, 1,\\n        1, 1, 1, 1, 1, 1, 1, 0, 0, 0, 0, 0, 0, 0, 0, 0, 0, 0, 0, 0, 0, 0, 0, 0,\\n        0, 0, 0, 0, 0, 0, 0, 0, 0, 0, 0, 0, 0, 0, 0, 0, 0, 0, 0, 0, 0, 0, 0, 0,\\n        0, 0, 0, 0, 0, 0, 0, 0, 0, 0, 0, 0, 0, 0, 0, 0, 0, 0, 0, 0, 0, 0, 0, 0,\\n        0, 0, 0, 0, 0, 0, 0, 0, 0, 0, 0, 0, 0, 0, 0, 0, 0, 0, 0, 0, 0, 0, 0, 0,\\n        0, 0, 0, 0, 0, 0, 0, 0, 0, 0, 0, 0, 0, 0, 0, 0, 0, 0, 0, 0, 0, 0, 0, 0,\\n        0, 0, 0, 0, 0, 0, 0, 0, 0, 0, 0, 0, 0, 0, 0, 0, 0, 0, 0, 0, 0, 0, 0, 0,\\n        0, 0, 0, 0, 0, 0, 0, 0, 0, 0, 0, 0, 0, 0, 0, 0, 0, 0, 0, 0, 0, 0, 0, 0,\\n        0, 0, 0, 0, 0, 0, 0, 0, 0, 0, 0, 0, 0, 0, 0, 0, 0, 0, 0, 0, 0, 0, 0, 0,\\n        0, 0, 0, 0, 0, 0, 0, 0, 0, 0, 0, 0, 0, 0, 0, 0, 0, 0, 0, 0, 0, 0, 0, 0,\\n        0, 0, 0, 0, 0, 0, 0, 0, 0, 0, 0, 0, 0, 0, 0, 0])',\n",
            "       b'tensor([1, 1, 1, 1, 1, 1, 1, 1, 1, 1, 1, 1, 1, 1, 1, 1, 0, 0, 0, 0, 0, 0, 0, 0,\\n        0, 0, 0, 0, 0, 0, 0, 0, 0, 0, 0, 0, 0, 0, 0, 0, 0, 0, 0, 0, 0, 0, 0, 0,\\n        0, 0, 0, 0, 0, 0, 0, 0, 0, 0, 0, 0, 0, 0, 0, 0, 0, 0, 0, 0, 0, 0, 0, 0,\\n        0, 0, 0, 0, 0, 0, 0, 0, 0, 0, 0, 0, 0, 0, 0, 0, 0, 0, 0, 0, 0, 0, 0, 0,\\n        0, 0, 0, 0, 0, 0, 0, 0, 0, 0, 0, 0, 0, 0, 0, 0, 0, 0, 0, 0, 0, 0, 0, 0,\\n        0, 0, 0, 0, 0, 0, 0, 0, 0, 0, 0, 0, 0, 0, 0, 0, 0, 0, 0, 0, 0, 0, 0, 0,\\n        0, 0, 0, 0, 0, 0, 0, 0, 0, 0, 0, 0, 0, 0, 0, 0, 0, 0, 0, 0, 0, 0, 0, 0,\\n        0, 0, 0, 0, 0, 0, 0, 0, 0, 0, 0, 0, 0, 0, 0, 0, 0, 0, 0, 0, 0, 0, 0, 0,\\n        0, 0, 0, 0, 0, 0, 0, 0, 0, 0, 0, 0, 0, 0, 0, 0, 0, 0, 0, 0, 0, 0, 0, 0,\\n        0, 0, 0, 0, 0, 0, 0, 0, 0, 0, 0, 0, 0, 0, 0, 0, 0, 0, 0, 0, 0, 0, 0, 0,\\n        0, 0, 0, 0, 0, 0, 0, 0, 0, 0, 0, 0, 0, 0, 0, 0])',\n",
            "       b'tensor([1, 1, 1, 1, 1, 1, 1, 1, 1, 1, 1, 1, 1, 1, 1, 1, 1, 1, 0, 0, 0, 0, 0, 0,\\n        0, 0, 0, 0, 0, 0, 0, 0, 0, 0, 0, 0, 0, 0, 0, 0, 0, 0, 0, 0, 0, 0, 0, 0,\\n        0, 0, 0, 0, 0, 0, 0, 0, 0, 0, 0, 0, 0, 0, 0, 0, 0, 0, 0, 0, 0, 0, 0, 0,\\n        0, 0, 0, 0, 0, 0, 0, 0, 0, 0, 0, 0, 0, 0, 0, 0, 0, 0, 0, 0, 0, 0, 0, 0,\\n        0, 0, 0, 0, 0, 0, 0, 0, 0, 0, 0, 0, 0, 0, 0, 0, 0, 0, 0, 0, 0, 0, 0, 0,\\n        0, 0, 0, 0, 0, 0, 0, 0, 0, 0, 0, 0, 0, 0, 0, 0, 0, 0, 0, 0, 0, 0, 0, 0,\\n        0, 0, 0, 0, 0, 0, 0, 0, 0, 0, 0, 0, 0, 0, 0, 0, 0, 0, 0, 0, 0, 0, 0, 0,\\n        0, 0, 0, 0, 0, 0, 0, 0, 0, 0, 0, 0, 0, 0, 0, 0, 0, 0, 0, 0, 0, 0, 0, 0,\\n        0, 0, 0, 0, 0, 0, 0, 0, 0, 0, 0, 0, 0, 0, 0, 0, 0, 0, 0, 0, 0, 0, 0, 0,\\n        0, 0, 0, 0, 0, 0, 0, 0, 0, 0, 0, 0, 0, 0, 0, 0, 0, 0, 0, 0, 0, 0, 0, 0,\\n        0, 0, 0, 0, 0, 0, 0, 0, 0, 0, 0, 0, 0, 0, 0, 0])',\n",
            "       b'tensor([1, 1, 1, 1, 1, 1, 1, 1, 1, 1, 0, 0, 0, 0, 0, 0, 0, 0, 0, 0, 0, 0, 0, 0,\\n        0, 0, 0, 0, 0, 0, 0, 0, 0, 0, 0, 0, 0, 0, 0, 0, 0, 0, 0, 0, 0, 0, 0, 0,\\n        0, 0, 0, 0, 0, 0, 0, 0, 0, 0, 0, 0, 0, 0, 0, 0, 0, 0, 0, 0, 0, 0, 0, 0,\\n        0, 0, 0, 0, 0, 0, 0, 0, 0, 0, 0, 0, 0, 0, 0, 0, 0, 0, 0, 0, 0, 0, 0, 0,\\n        0, 0, 0, 0, 0, 0, 0, 0, 0, 0, 0, 0, 0, 0, 0, 0, 0, 0, 0, 0, 0, 0, 0, 0,\\n        0, 0, 0, 0, 0, 0, 0, 0, 0, 0, 0, 0, 0, 0, 0, 0, 0, 0, 0, 0, 0, 0, 0, 0,\\n        0, 0, 0, 0, 0, 0, 0, 0, 0, 0, 0, 0, 0, 0, 0, 0, 0, 0, 0, 0, 0, 0, 0, 0,\\n        0, 0, 0, 0, 0, 0, 0, 0, 0, 0, 0, 0, 0, 0, 0, 0, 0, 0, 0, 0, 0, 0, 0, 0,\\n        0, 0, 0, 0, 0, 0, 0, 0, 0, 0, 0, 0, 0, 0, 0, 0, 0, 0, 0, 0, 0, 0, 0, 0,\\n        0, 0, 0, 0, 0, 0, 0, 0, 0, 0, 0, 0, 0, 0, 0, 0, 0, 0, 0, 0, 0, 0, 0, 0,\\n        0, 0, 0, 0, 0, 0, 0, 0, 0, 0, 0, 0, 0, 0, 0, 0])',\n",
            "       b'tensor([1, 1, 1, 1, 1, 1, 1, 1, 1, 1, 1, 1, 1, 1, 1, 1, 1, 1, 1, 1, 1, 1, 1, 1,\\n        1, 0, 0, 0, 0, 0, 0, 0, 0, 0, 0, 0, 0, 0, 0, 0, 0, 0, 0, 0, 0, 0, 0, 0,\\n        0, 0, 0, 0, 0, 0, 0, 0, 0, 0, 0, 0, 0, 0, 0, 0, 0, 0, 0, 0, 0, 0, 0, 0,\\n        0, 0, 0, 0, 0, 0, 0, 0, 0, 0, 0, 0, 0, 0, 0, 0, 0, 0, 0, 0, 0, 0, 0, 0,\\n        0, 0, 0, 0, 0, 0, 0, 0, 0, 0, 0, 0, 0, 0, 0, 0, 0, 0, 0, 0, 0, 0, 0, 0,\\n        0, 0, 0, 0, 0, 0, 0, 0, 0, 0, 0, 0, 0, 0, 0, 0, 0, 0, 0, 0, 0, 0, 0, 0,\\n        0, 0, 0, 0, 0, 0, 0, 0, 0, 0, 0, 0, 0, 0, 0, 0, 0, 0, 0, 0, 0, 0, 0, 0,\\n        0, 0, 0, 0, 0, 0, 0, 0, 0, 0, 0, 0, 0, 0, 0, 0, 0, 0, 0, 0, 0, 0, 0, 0,\\n        0, 0, 0, 0, 0, 0, 0, 0, 0, 0, 0, 0, 0, 0, 0, 0, 0, 0, 0, 0, 0, 0, 0, 0,\\n        0, 0, 0, 0, 0, 0, 0, 0, 0, 0, 0, 0, 0, 0, 0, 0, 0, 0, 0, 0, 0, 0, 0, 0,\\n        0, 0, 0, 0, 0, 0, 0, 0, 0, 0, 0, 0, 0, 0, 0, 0])',\n",
            "       b'tensor([1, 1, 1, 1, 1, 1, 1, 1, 1, 1, 1, 1, 1, 1, 1, 1, 1, 1, 0, 0, 0, 0, 0, 0,\\n        0, 0, 0, 0, 0, 0, 0, 0, 0, 0, 0, 0, 0, 0, 0, 0, 0, 0, 0, 0, 0, 0, 0, 0,\\n        0, 0, 0, 0, 0, 0, 0, 0, 0, 0, 0, 0, 0, 0, 0, 0, 0, 0, 0, 0, 0, 0, 0, 0,\\n        0, 0, 0, 0, 0, 0, 0, 0, 0, 0, 0, 0, 0, 0, 0, 0, 0, 0, 0, 0, 0, 0, 0, 0,\\n        0, 0, 0, 0, 0, 0, 0, 0, 0, 0, 0, 0, 0, 0, 0, 0, 0, 0, 0, 0, 0, 0, 0, 0,\\n        0, 0, 0, 0, 0, 0, 0, 0, 0, 0, 0, 0, 0, 0, 0, 0, 0, 0, 0, 0, 0, 0, 0, 0,\\n        0, 0, 0, 0, 0, 0, 0, 0, 0, 0, 0, 0, 0, 0, 0, 0, 0, 0, 0, 0, 0, 0, 0, 0,\\n        0, 0, 0, 0, 0, 0, 0, 0, 0, 0, 0, 0, 0, 0, 0, 0, 0, 0, 0, 0, 0, 0, 0, 0,\\n        0, 0, 0, 0, 0, 0, 0, 0, 0, 0, 0, 0, 0, 0, 0, 0, 0, 0, 0, 0, 0, 0, 0, 0,\\n        0, 0, 0, 0, 0, 0, 0, 0, 0, 0, 0, 0, 0, 0, 0, 0, 0, 0, 0, 0, 0, 0, 0, 0,\\n        0, 0, 0, 0, 0, 0, 0, 0, 0, 0, 0, 0, 0, 0, 0, 0])',\n",
            "       b'tensor([1, 1, 1, 1, 1, 1, 1, 1, 1, 1, 1, 1, 1, 1, 1, 1, 1, 1, 1, 1, 1, 1, 1, 1,\\n        1, 1, 1, 1, 0, 0, 0, 0, 0, 0, 0, 0, 0, 0, 0, 0, 0, 0, 0, 0, 0, 0, 0, 0,\\n        0, 0, 0, 0, 0, 0, 0, 0, 0, 0, 0, 0, 0, 0, 0, 0, 0, 0, 0, 0, 0, 0, 0, 0,\\n        0, 0, 0, 0, 0, 0, 0, 0, 0, 0, 0, 0, 0, 0, 0, 0, 0, 0, 0, 0, 0, 0, 0, 0,\\n        0, 0, 0, 0, 0, 0, 0, 0, 0, 0, 0, 0, 0, 0, 0, 0, 0, 0, 0, 0, 0, 0, 0, 0,\\n        0, 0, 0, 0, 0, 0, 0, 0, 0, 0, 0, 0, 0, 0, 0, 0, 0, 0, 0, 0, 0, 0, 0, 0,\\n        0, 0, 0, 0, 0, 0, 0, 0, 0, 0, 0, 0, 0, 0, 0, 0, 0, 0, 0, 0, 0, 0, 0, 0,\\n        0, 0, 0, 0, 0, 0, 0, 0, 0, 0, 0, 0, 0, 0, 0, 0, 0, 0, 0, 0, 0, 0, 0, 0,\\n        0, 0, 0, 0, 0, 0, 0, 0, 0, 0, 0, 0, 0, 0, 0, 0, 0, 0, 0, 0, 0, 0, 0, 0,\\n        0, 0, 0, 0, 0, 0, 0, 0, 0, 0, 0, 0, 0, 0, 0, 0, 0, 0, 0, 0, 0, 0, 0, 0,\\n        0, 0, 0, 0, 0, 0, 0, 0, 0, 0, 0, 0, 0, 0, 0, 0])',\n",
            "       b'tensor([1, 1, 1, 1, 1, 1, 1, 1, 1, 1, 1, 1, 1, 1, 1, 1, 1, 1, 1, 1, 1, 1, 1, 1,\\n        1, 1, 1, 1, 1, 1, 0, 0, 0, 0, 0, 0, 0, 0, 0, 0, 0, 0, 0, 0, 0, 0, 0, 0,\\n        0, 0, 0, 0, 0, 0, 0, 0, 0, 0, 0, 0, 0, 0, 0, 0, 0, 0, 0, 0, 0, 0, 0, 0,\\n        0, 0, 0, 0, 0, 0, 0, 0, 0, 0, 0, 0, 0, 0, 0, 0, 0, 0, 0, 0, 0, 0, 0, 0,\\n        0, 0, 0, 0, 0, 0, 0, 0, 0, 0, 0, 0, 0, 0, 0, 0, 0, 0, 0, 0, 0, 0, 0, 0,\\n        0, 0, 0, 0, 0, 0, 0, 0, 0, 0, 0, 0, 0, 0, 0, 0, 0, 0, 0, 0, 0, 0, 0, 0,\\n        0, 0, 0, 0, 0, 0, 0, 0, 0, 0, 0, 0, 0, 0, 0, 0, 0, 0, 0, 0, 0, 0, 0, 0,\\n        0, 0, 0, 0, 0, 0, 0, 0, 0, 0, 0, 0, 0, 0, 0, 0, 0, 0, 0, 0, 0, 0, 0, 0,\\n        0, 0, 0, 0, 0, 0, 0, 0, 0, 0, 0, 0, 0, 0, 0, 0, 0, 0, 0, 0, 0, 0, 0, 0,\\n        0, 0, 0, 0, 0, 0, 0, 0, 0, 0, 0, 0, 0, 0, 0, 0, 0, 0, 0, 0, 0, 0, 0, 0,\\n        0, 0, 0, 0, 0, 0, 0, 0, 0, 0, 0, 0, 0, 0, 0, 0])',\n",
            "       b'tensor([1, 1, 1, 1, 1, 1, 1, 1, 1, 1, 1, 1, 1, 1, 1, 1, 1, 1, 1, 1, 1, 0, 0, 0,\\n        0, 0, 0, 0, 0, 0, 0, 0, 0, 0, 0, 0, 0, 0, 0, 0, 0, 0, 0, 0, 0, 0, 0, 0,\\n        0, 0, 0, 0, 0, 0, 0, 0, 0, 0, 0, 0, 0, 0, 0, 0, 0, 0, 0, 0, 0, 0, 0, 0,\\n        0, 0, 0, 0, 0, 0, 0, 0, 0, 0, 0, 0, 0, 0, 0, 0, 0, 0, 0, 0, 0, 0, 0, 0,\\n        0, 0, 0, 0, 0, 0, 0, 0, 0, 0, 0, 0, 0, 0, 0, 0, 0, 0, 0, 0, 0, 0, 0, 0,\\n        0, 0, 0, 0, 0, 0, 0, 0, 0, 0, 0, 0, 0, 0, 0, 0, 0, 0, 0, 0, 0, 0, 0, 0,\\n        0, 0, 0, 0, 0, 0, 0, 0, 0, 0, 0, 0, 0, 0, 0, 0, 0, 0, 0, 0, 0, 0, 0, 0,\\n        0, 0, 0, 0, 0, 0, 0, 0, 0, 0, 0, 0, 0, 0, 0, 0, 0, 0, 0, 0, 0, 0, 0, 0,\\n        0, 0, 0, 0, 0, 0, 0, 0, 0, 0, 0, 0, 0, 0, 0, 0, 0, 0, 0, 0, 0, 0, 0, 0,\\n        0, 0, 0, 0, 0, 0, 0, 0, 0, 0, 0, 0, 0, 0, 0, 0, 0, 0, 0, 0, 0, 0, 0, 0,\\n        0, 0, 0, 0, 0, 0, 0, 0, 0, 0, 0, 0, 0, 0, 0, 0])',\n",
            "       b'tensor([1, 1, 1, 1, 1, 1, 1, 1, 1, 1, 1, 1, 1, 1, 1, 0, 0, 0, 0, 0, 0, 0, 0, 0,\\n        0, 0, 0, 0, 0, 0, 0, 0, 0, 0, 0, 0, 0, 0, 0, 0, 0, 0, 0, 0, 0, 0, 0, 0,\\n        0, 0, 0, 0, 0, 0, 0, 0, 0, 0, 0, 0, 0, 0, 0, 0, 0, 0, 0, 0, 0, 0, 0, 0,\\n        0, 0, 0, 0, 0, 0, 0, 0, 0, 0, 0, 0, 0, 0, 0, 0, 0, 0, 0, 0, 0, 0, 0, 0,\\n        0, 0, 0, 0, 0, 0, 0, 0, 0, 0, 0, 0, 0, 0, 0, 0, 0, 0, 0, 0, 0, 0, 0, 0,\\n        0, 0, 0, 0, 0, 0, 0, 0, 0, 0, 0, 0, 0, 0, 0, 0, 0, 0, 0, 0, 0, 0, 0, 0,\\n        0, 0, 0, 0, 0, 0, 0, 0, 0, 0, 0, 0, 0, 0, 0, 0, 0, 0, 0, 0, 0, 0, 0, 0,\\n        0, 0, 0, 0, 0, 0, 0, 0, 0, 0, 0, 0, 0, 0, 0, 0, 0, 0, 0, 0, 0, 0, 0, 0,\\n        0, 0, 0, 0, 0, 0, 0, 0, 0, 0, 0, 0, 0, 0, 0, 0, 0, 0, 0, 0, 0, 0, 0, 0,\\n        0, 0, 0, 0, 0, 0, 0, 0, 0, 0, 0, 0, 0, 0, 0, 0, 0, 0, 0, 0, 0, 0, 0, 0,\\n        0, 0, 0, 0, 0, 0, 0, 0, 0, 0, 0, 0, 0, 0, 0, 0])',\n",
            "       b'tensor([1, 1, 1, 1, 1, 1, 1, 1, 1, 1, 1, 1, 1, 1, 1, 1, 1, 1, 1, 1, 1, 1, 0, 0,\\n        0, 0, 0, 0, 0, 0, 0, 0, 0, 0, 0, 0, 0, 0, 0, 0, 0, 0, 0, 0, 0, 0, 0, 0,\\n        0, 0, 0, 0, 0, 0, 0, 0, 0, 0, 0, 0, 0, 0, 0, 0, 0, 0, 0, 0, 0, 0, 0, 0,\\n        0, 0, 0, 0, 0, 0, 0, 0, 0, 0, 0, 0, 0, 0, 0, 0, 0, 0, 0, 0, 0, 0, 0, 0,\\n        0, 0, 0, 0, 0, 0, 0, 0, 0, 0, 0, 0, 0, 0, 0, 0, 0, 0, 0, 0, 0, 0, 0, 0,\\n        0, 0, 0, 0, 0, 0, 0, 0, 0, 0, 0, 0, 0, 0, 0, 0, 0, 0, 0, 0, 0, 0, 0, 0,\\n        0, 0, 0, 0, 0, 0, 0, 0, 0, 0, 0, 0, 0, 0, 0, 0, 0, 0, 0, 0, 0, 0, 0, 0,\\n        0, 0, 0, 0, 0, 0, 0, 0, 0, 0, 0, 0, 0, 0, 0, 0, 0, 0, 0, 0, 0, 0, 0, 0,\\n        0, 0, 0, 0, 0, 0, 0, 0, 0, 0, 0, 0, 0, 0, 0, 0, 0, 0, 0, 0, 0, 0, 0, 0,\\n        0, 0, 0, 0, 0, 0, 0, 0, 0, 0, 0, 0, 0, 0, 0, 0, 0, 0, 0, 0, 0, 0, 0, 0,\\n        0, 0, 0, 0, 0, 0, 0, 0, 0, 0, 0, 0, 0, 0, 0, 0])',\n",
            "       b'tensor([1, 1, 1, 1, 1, 1, 1, 1, 1, 1, 1, 1, 1, 1, 1, 1, 1, 1, 1, 1, 1, 0, 0, 0,\\n        0, 0, 0, 0, 0, 0, 0, 0, 0, 0, 0, 0, 0, 0, 0, 0, 0, 0, 0, 0, 0, 0, 0, 0,\\n        0, 0, 0, 0, 0, 0, 0, 0, 0, 0, 0, 0, 0, 0, 0, 0, 0, 0, 0, 0, 0, 0, 0, 0,\\n        0, 0, 0, 0, 0, 0, 0, 0, 0, 0, 0, 0, 0, 0, 0, 0, 0, 0, 0, 0, 0, 0, 0, 0,\\n        0, 0, 0, 0, 0, 0, 0, 0, 0, 0, 0, 0, 0, 0, 0, 0, 0, 0, 0, 0, 0, 0, 0, 0,\\n        0, 0, 0, 0, 0, 0, 0, 0, 0, 0, 0, 0, 0, 0, 0, 0, 0, 0, 0, 0, 0, 0, 0, 0,\\n        0, 0, 0, 0, 0, 0, 0, 0, 0, 0, 0, 0, 0, 0, 0, 0, 0, 0, 0, 0, 0, 0, 0, 0,\\n        0, 0, 0, 0, 0, 0, 0, 0, 0, 0, 0, 0, 0, 0, 0, 0, 0, 0, 0, 0, 0, 0, 0, 0,\\n        0, 0, 0, 0, 0, 0, 0, 0, 0, 0, 0, 0, 0, 0, 0, 0, 0, 0, 0, 0, 0, 0, 0, 0,\\n        0, 0, 0, 0, 0, 0, 0, 0, 0, 0, 0, 0, 0, 0, 0, 0, 0, 0, 0, 0, 0, 0, 0, 0,\\n        0, 0, 0, 0, 0, 0, 0, 0, 0, 0, 0, 0, 0, 0, 0, 0])',\n",
            "       b'tensor([1, 1, 1, 1, 1, 1, 1, 1, 1, 1, 1, 1, 1, 1, 0, 0, 0, 0, 0, 0, 0, 0, 0, 0,\\n        0, 0, 0, 0, 0, 0, 0, 0, 0, 0, 0, 0, 0, 0, 0, 0, 0, 0, 0, 0, 0, 0, 0, 0,\\n        0, 0, 0, 0, 0, 0, 0, 0, 0, 0, 0, 0, 0, 0, 0, 0, 0, 0, 0, 0, 0, 0, 0, 0,\\n        0, 0, 0, 0, 0, 0, 0, 0, 0, 0, 0, 0, 0, 0, 0, 0, 0, 0, 0, 0, 0, 0, 0, 0,\\n        0, 0, 0, 0, 0, 0, 0, 0, 0, 0, 0, 0, 0, 0, 0, 0, 0, 0, 0, 0, 0, 0, 0, 0,\\n        0, 0, 0, 0, 0, 0, 0, 0, 0, 0, 0, 0, 0, 0, 0, 0, 0, 0, 0, 0, 0, 0, 0, 0,\\n        0, 0, 0, 0, 0, 0, 0, 0, 0, 0, 0, 0, 0, 0, 0, 0, 0, 0, 0, 0, 0, 0, 0, 0,\\n        0, 0, 0, 0, 0, 0, 0, 0, 0, 0, 0, 0, 0, 0, 0, 0, 0, 0, 0, 0, 0, 0, 0, 0,\\n        0, 0, 0, 0, 0, 0, 0, 0, 0, 0, 0, 0, 0, 0, 0, 0, 0, 0, 0, 0, 0, 0, 0, 0,\\n        0, 0, 0, 0, 0, 0, 0, 0, 0, 0, 0, 0, 0, 0, 0, 0, 0, 0, 0, 0, 0, 0, 0, 0,\\n        0, 0, 0, 0, 0, 0, 0, 0, 0, 0, 0, 0, 0, 0, 0, 0])',\n",
            "       b'tensor([1, 1, 1, 1, 1, 1, 1, 1, 1, 1, 1, 1, 1, 1, 1, 1, 1, 1, 1, 1, 1, 1, 1, 1,\\n        1, 1, 0, 0, 0, 0, 0, 0, 0, 0, 0, 0, 0, 0, 0, 0, 0, 0, 0, 0, 0, 0, 0, 0,\\n        0, 0, 0, 0, 0, 0, 0, 0, 0, 0, 0, 0, 0, 0, 0, 0, 0, 0, 0, 0, 0, 0, 0, 0,\\n        0, 0, 0, 0, 0, 0, 0, 0, 0, 0, 0, 0, 0, 0, 0, 0, 0, 0, 0, 0, 0, 0, 0, 0,\\n        0, 0, 0, 0, 0, 0, 0, 0, 0, 0, 0, 0, 0, 0, 0, 0, 0, 0, 0, 0, 0, 0, 0, 0,\\n        0, 0, 0, 0, 0, 0, 0, 0, 0, 0, 0, 0, 0, 0, 0, 0, 0, 0, 0, 0, 0, 0, 0, 0,\\n        0, 0, 0, 0, 0, 0, 0, 0, 0, 0, 0, 0, 0, 0, 0, 0, 0, 0, 0, 0, 0, 0, 0, 0,\\n        0, 0, 0, 0, 0, 0, 0, 0, 0, 0, 0, 0, 0, 0, 0, 0, 0, 0, 0, 0, 0, 0, 0, 0,\\n        0, 0, 0, 0, 0, 0, 0, 0, 0, 0, 0, 0, 0, 0, 0, 0, 0, 0, 0, 0, 0, 0, 0, 0,\\n        0, 0, 0, 0, 0, 0, 0, 0, 0, 0, 0, 0, 0, 0, 0, 0, 0, 0, 0, 0, 0, 0, 0, 0,\\n        0, 0, 0, 0, 0, 0, 0, 0, 0, 0, 0, 0, 0, 0, 0, 0])',\n",
            "       b'tensor([1, 1, 1, 1, 1, 1, 1, 1, 1, 1, 1, 1, 1, 1, 1, 1, 1, 1, 1, 1, 1, 1, 1, 1,\\n        1, 1, 1, 1, 1, 1, 1, 1, 1, 0, 0, 0, 0, 0, 0, 0, 0, 0, 0, 0, 0, 0, 0, 0,\\n        0, 0, 0, 0, 0, 0, 0, 0, 0, 0, 0, 0, 0, 0, 0, 0, 0, 0, 0, 0, 0, 0, 0, 0,\\n        0, 0, 0, 0, 0, 0, 0, 0, 0, 0, 0, 0, 0, 0, 0, 0, 0, 0, 0, 0, 0, 0, 0, 0,\\n        0, 0, 0, 0, 0, 0, 0, 0, 0, 0, 0, 0, 0, 0, 0, 0, 0, 0, 0, 0, 0, 0, 0, 0,\\n        0, 0, 0, 0, 0, 0, 0, 0, 0, 0, 0, 0, 0, 0, 0, 0, 0, 0, 0, 0, 0, 0, 0, 0,\\n        0, 0, 0, 0, 0, 0, 0, 0, 0, 0, 0, 0, 0, 0, 0, 0, 0, 0, 0, 0, 0, 0, 0, 0,\\n        0, 0, 0, 0, 0, 0, 0, 0, 0, 0, 0, 0, 0, 0, 0, 0, 0, 0, 0, 0, 0, 0, 0, 0,\\n        0, 0, 0, 0, 0, 0, 0, 0, 0, 0, 0, 0, 0, 0, 0, 0, 0, 0, 0, 0, 0, 0, 0, 0,\\n        0, 0, 0, 0, 0, 0, 0, 0, 0, 0, 0, 0, 0, 0, 0, 0, 0, 0, 0, 0, 0, 0, 0, 0,\\n        0, 0, 0, 0, 0, 0, 0, 0, 0, 0, 0, 0, 0, 0, 0, 0])',\n",
            "       b'tensor([1, 1, 1, 1, 1, 1, 1, 1, 1, 1, 1, 1, 1, 1, 1, 1, 1, 1, 1, 1, 1, 1, 0, 0,\\n        0, 0, 0, 0, 0, 0, 0, 0, 0, 0, 0, 0, 0, 0, 0, 0, 0, 0, 0, 0, 0, 0, 0, 0,\\n        0, 0, 0, 0, 0, 0, 0, 0, 0, 0, 0, 0, 0, 0, 0, 0, 0, 0, 0, 0, 0, 0, 0, 0,\\n        0, 0, 0, 0, 0, 0, 0, 0, 0, 0, 0, 0, 0, 0, 0, 0, 0, 0, 0, 0, 0, 0, 0, 0,\\n        0, 0, 0, 0, 0, 0, 0, 0, 0, 0, 0, 0, 0, 0, 0, 0, 0, 0, 0, 0, 0, 0, 0, 0,\\n        0, 0, 0, 0, 0, 0, 0, 0, 0, 0, 0, 0, 0, 0, 0, 0, 0, 0, 0, 0, 0, 0, 0, 0,\\n        0, 0, 0, 0, 0, 0, 0, 0, 0, 0, 0, 0, 0, 0, 0, 0, 0, 0, 0, 0, 0, 0, 0, 0,\\n        0, 0, 0, 0, 0, 0, 0, 0, 0, 0, 0, 0, 0, 0, 0, 0, 0, 0, 0, 0, 0, 0, 0, 0,\\n        0, 0, 0, 0, 0, 0, 0, 0, 0, 0, 0, 0, 0, 0, 0, 0, 0, 0, 0, 0, 0, 0, 0, 0,\\n        0, 0, 0, 0, 0, 0, 0, 0, 0, 0, 0, 0, 0, 0, 0, 0, 0, 0, 0, 0, 0, 0, 0, 0,\\n        0, 0, 0, 0, 0, 0, 0, 0, 0, 0, 0, 0, 0, 0, 0, 0])',\n",
            "       b'tensor([1, 1, 1, 1, 1, 1, 1, 1, 1, 1, 1, 1, 1, 1, 1, 0, 0, 0, 0, 0, 0, 0, 0, 0,\\n        0, 0, 0, 0, 0, 0, 0, 0, 0, 0, 0, 0, 0, 0, 0, 0, 0, 0, 0, 0, 0, 0, 0, 0,\\n        0, 0, 0, 0, 0, 0, 0, 0, 0, 0, 0, 0, 0, 0, 0, 0, 0, 0, 0, 0, 0, 0, 0, 0,\\n        0, 0, 0, 0, 0, 0, 0, 0, 0, 0, 0, 0, 0, 0, 0, 0, 0, 0, 0, 0, 0, 0, 0, 0,\\n        0, 0, 0, 0, 0, 0, 0, 0, 0, 0, 0, 0, 0, 0, 0, 0, 0, 0, 0, 0, 0, 0, 0, 0,\\n        0, 0, 0, 0, 0, 0, 0, 0, 0, 0, 0, 0, 0, 0, 0, 0, 0, 0, 0, 0, 0, 0, 0, 0,\\n        0, 0, 0, 0, 0, 0, 0, 0, 0, 0, 0, 0, 0, 0, 0, 0, 0, 0, 0, 0, 0, 0, 0, 0,\\n        0, 0, 0, 0, 0, 0, 0, 0, 0, 0, 0, 0, 0, 0, 0, 0, 0, 0, 0, 0, 0, 0, 0, 0,\\n        0, 0, 0, 0, 0, 0, 0, 0, 0, 0, 0, 0, 0, 0, 0, 0, 0, 0, 0, 0, 0, 0, 0, 0,\\n        0, 0, 0, 0, 0, 0, 0, 0, 0, 0, 0, 0, 0, 0, 0, 0, 0, 0, 0, 0, 0, 0, 0, 0,\\n        0, 0, 0, 0, 0, 0, 0, 0, 0, 0, 0, 0, 0, 0, 0, 0])',\n",
            "       b'tensor([1, 1, 1, 1, 1, 1, 1, 1, 1, 1, 1, 1, 1, 1, 1, 1, 1, 1, 1, 1, 1, 1, 1, 1,\\n        1, 0, 0, 0, 0, 0, 0, 0, 0, 0, 0, 0, 0, 0, 0, 0, 0, 0, 0, 0, 0, 0, 0, 0,\\n        0, 0, 0, 0, 0, 0, 0, 0, 0, 0, 0, 0, 0, 0, 0, 0, 0, 0, 0, 0, 0, 0, 0, 0,\\n        0, 0, 0, 0, 0, 0, 0, 0, 0, 0, 0, 0, 0, 0, 0, 0, 0, 0, 0, 0, 0, 0, 0, 0,\\n        0, 0, 0, 0, 0, 0, 0, 0, 0, 0, 0, 0, 0, 0, 0, 0, 0, 0, 0, 0, 0, 0, 0, 0,\\n        0, 0, 0, 0, 0, 0, 0, 0, 0, 0, 0, 0, 0, 0, 0, 0, 0, 0, 0, 0, 0, 0, 0, 0,\\n        0, 0, 0, 0, 0, 0, 0, 0, 0, 0, 0, 0, 0, 0, 0, 0, 0, 0, 0, 0, 0, 0, 0, 0,\\n        0, 0, 0, 0, 0, 0, 0, 0, 0, 0, 0, 0, 0, 0, 0, 0, 0, 0, 0, 0, 0, 0, 0, 0,\\n        0, 0, 0, 0, 0, 0, 0, 0, 0, 0, 0, 0, 0, 0, 0, 0, 0, 0, 0, 0, 0, 0, 0, 0,\\n        0, 0, 0, 0, 0, 0, 0, 0, 0, 0, 0, 0, 0, 0, 0, 0, 0, 0, 0, 0, 0, 0, 0, 0,\\n        0, 0, 0, 0, 0, 0, 0, 0, 0, 0, 0, 0, 0, 0, 0, 0])',\n",
            "       b'tensor([1, 1, 1, 1, 1, 1, 1, 1, 1, 0, 0, 0, 0, 0, 0, 0, 0, 0, 0, 0, 0, 0, 0, 0,\\n        0, 0, 0, 0, 0, 0, 0, 0, 0, 0, 0, 0, 0, 0, 0, 0, 0, 0, 0, 0, 0, 0, 0, 0,\\n        0, 0, 0, 0, 0, 0, 0, 0, 0, 0, 0, 0, 0, 0, 0, 0, 0, 0, 0, 0, 0, 0, 0, 0,\\n        0, 0, 0, 0, 0, 0, 0, 0, 0, 0, 0, 0, 0, 0, 0, 0, 0, 0, 0, 0, 0, 0, 0, 0,\\n        0, 0, 0, 0, 0, 0, 0, 0, 0, 0, 0, 0, 0, 0, 0, 0, 0, 0, 0, 0, 0, 0, 0, 0,\\n        0, 0, 0, 0, 0, 0, 0, 0, 0, 0, 0, 0, 0, 0, 0, 0, 0, 0, 0, 0, 0, 0, 0, 0,\\n        0, 0, 0, 0, 0, 0, 0, 0, 0, 0, 0, 0, 0, 0, 0, 0, 0, 0, 0, 0, 0, 0, 0, 0,\\n        0, 0, 0, 0, 0, 0, 0, 0, 0, 0, 0, 0, 0, 0, 0, 0, 0, 0, 0, 0, 0, 0, 0, 0,\\n        0, 0, 0, 0, 0, 0, 0, 0, 0, 0, 0, 0, 0, 0, 0, 0, 0, 0, 0, 0, 0, 0, 0, 0,\\n        0, 0, 0, 0, 0, 0, 0, 0, 0, 0, 0, 0, 0, 0, 0, 0, 0, 0, 0, 0, 0, 0, 0, 0,\\n        0, 0, 0, 0, 0, 0, 0, 0, 0, 0, 0, 0, 0, 0, 0, 0])',\n",
            "       b'tensor([1, 1, 1, 1, 1, 1, 1, 1, 1, 1, 1, 1, 1, 1, 1, 1, 1, 1, 1, 1, 1, 1, 1, 1,\\n        1, 1, 1, 1, 1, 1, 1, 1, 0, 0, 0, 0, 0, 0, 0, 0, 0, 0, 0, 0, 0, 0, 0, 0,\\n        0, 0, 0, 0, 0, 0, 0, 0, 0, 0, 0, 0, 0, 0, 0, 0, 0, 0, 0, 0, 0, 0, 0, 0,\\n        0, 0, 0, 0, 0, 0, 0, 0, 0, 0, 0, 0, 0, 0, 0, 0, 0, 0, 0, 0, 0, 0, 0, 0,\\n        0, 0, 0, 0, 0, 0, 0, 0, 0, 0, 0, 0, 0, 0, 0, 0, 0, 0, 0, 0, 0, 0, 0, 0,\\n        0, 0, 0, 0, 0, 0, 0, 0, 0, 0, 0, 0, 0, 0, 0, 0, 0, 0, 0, 0, 0, 0, 0, 0,\\n        0, 0, 0, 0, 0, 0, 0, 0, 0, 0, 0, 0, 0, 0, 0, 0, 0, 0, 0, 0, 0, 0, 0, 0,\\n        0, 0, 0, 0, 0, 0, 0, 0, 0, 0, 0, 0, 0, 0, 0, 0, 0, 0, 0, 0, 0, 0, 0, 0,\\n        0, 0, 0, 0, 0, 0, 0, 0, 0, 0, 0, 0, 0, 0, 0, 0, 0, 0, 0, 0, 0, 0, 0, 0,\\n        0, 0, 0, 0, 0, 0, 0, 0, 0, 0, 0, 0, 0, 0, 0, 0, 0, 0, 0, 0, 0, 0, 0, 0,\\n        0, 0, 0, 0, 0, 0, 0, 0, 0, 0, 0, 0, 0, 0, 0, 0])'],\n",
            "      dtype=object)>) tf.Tensor(\n",
            "[b'[0. 0. 0. 0. 0. 0. 0. 0. 0. 0. 0. 0. 0. 0. 0. 0. 0. 0. 0. 0. 0. 0. 0. 0.\\n 0. 0. 0. 1.]'\n",
            " b'[0. 0. 0. 1. 0. 0. 0. 0. 0. 0. 0. 0. 0. 0. 0. 0. 0. 0. 0. 0. 0. 0. 0. 0.\\n 0. 0. 0. 0.]'\n",
            " b'[0. 0. 0. 0. 0. 0. 0. 0. 0. 0. 0. 0. 0. 0. 0. 0. 0. 0. 0. 0. 1. 0. 0. 0.\\n 0. 0. 0. 0.]'\n",
            " b'[0. 0. 0. 0. 0. 0. 0. 0. 0. 0. 0. 0. 0. 0. 0. 0. 0. 0. 0. 0. 0. 0. 0. 1.\\n 0. 0. 0. 0.]'\n",
            " b'[0. 0. 0. 0. 0. 0. 0. 0. 0. 0. 0. 0. 0. 0. 0. 0. 0. 0. 1. 0. 0. 0. 0. 0.\\n 0. 0. 0. 0.]'\n",
            " b'[1. 0. 0. 0. 0. 0. 0. 0. 0. 0. 0. 0. 0. 0. 0. 0. 0. 0. 0. 0. 0. 0. 0. 0.\\n 0. 0. 0. 0.]'\n",
            " b'[0. 0. 0. 0. 0. 0. 0. 0. 0. 0. 0. 0. 0. 0. 0. 0. 0. 0. 0. 0. 0. 0. 0. 0.\\n 0. 1. 0. 0.]'\n",
            " b'[0. 0. 0. 0. 0. 0. 0. 0. 0. 0. 0. 0. 0. 0. 0. 0. 0. 0. 1. 0. 0. 0. 0. 0.\\n 0. 0. 0. 0.]'\n",
            " b'[0. 0. 0. 0. 0. 0. 0. 0. 0. 0. 0. 0. 0. 0. 0. 0. 0. 0. 0. 0. 0. 0. 0. 0.\\n 0. 0. 0. 1.]'\n",
            " b'[0. 0. 0. 0. 0. 0. 0. 0. 0. 0. 0. 0. 0. 0. 0. 0. 1. 0. 0. 0. 0. 0. 0. 0.\\n 0. 0. 0. 0.]'\n",
            " b'[1. 0. 0. 0. 0. 0. 0. 0. 0. 0. 0. 0. 0. 0. 0. 0. 0. 0. 0. 0. 0. 0. 0. 0.\\n 0. 0. 0. 0.]'\n",
            " b'[0. 0. 0. 0. 0. 0. 0. 0. 0. 0. 0. 0. 0. 1. 0. 0. 0. 0. 0. 0. 0. 0. 0. 0.\\n 0. 0. 0. 0.]'\n",
            " b'[0. 0. 0. 0. 0. 0. 0. 0. 0. 0. 0. 0. 0. 0. 0. 0. 0. 0. 0. 0. 0. 0. 0. 0.\\n 0. 0. 0. 1.]'\n",
            " b'[0. 0. 0. 0. 0. 0. 0. 0. 0. 0. 0. 1. 0. 0. 0. 0. 0. 0. 0. 0. 0. 0. 0. 0.\\n 0. 0. 0. 0.]'\n",
            " b'[0. 0. 0. 0. 0. 0. 0. 0. 0. 0. 0. 0. 1. 0. 0. 0. 0. 0. 0. 0. 0. 0. 0. 0.\\n 0. 0. 0. 0.]'\n",
            " b'[0. 0. 0. 0. 0. 0. 0. 0. 0. 0. 0. 0. 0. 0. 0. 0. 0. 0. 0. 0. 1. 0. 0. 0.\\n 0. 0. 0. 0.]'\n",
            " b'[0. 0. 0. 0. 0. 0. 0. 0. 0. 0. 0. 0. 0. 0. 0. 0. 0. 0. 0. 0. 0. 0. 0. 0.\\n 0. 1. 0. 0.]'\n",
            " b'[1. 0. 0. 0. 0. 0. 0. 0. 0. 0. 0. 0. 0. 0. 0. 0. 0. 0. 0. 0. 0. 0. 0. 0.\\n 0. 0. 0. 0.]'\n",
            " b'[0. 0. 0. 0. 0. 0. 0. 0. 0. 0. 0. 0. 0. 0. 0. 0. 0. 0. 0. 0. 1. 0. 0. 0.\\n 0. 0. 0. 0.]'\n",
            " b'[0. 1. 0. 0. 0. 0. 0. 0. 0. 0. 0. 0. 0. 0. 0. 0. 0. 0. 0. 0. 0. 0. 0. 0.\\n 0. 0. 0. 0.]'\n",
            " b'[0. 0. 0. 0. 0. 0. 0. 0. 0. 0. 0. 0. 0. 0. 0. 0. 0. 0. 0. 0. 1. 0. 0. 0.\\n 0. 0. 0. 0.]'\n",
            " b'[0. 0. 0. 0. 0. 0. 0. 0. 0. 0. 0. 0. 0. 0. 0. 0. 0. 0. 0. 0. 0. 0. 0. 0.\\n 0. 0. 1. 0.]'\n",
            " b'[1. 0. 0. 0. 0. 0. 0. 0. 0. 0. 0. 0. 0. 0. 0. 0. 0. 0. 0. 0. 0. 0. 0. 0.\\n 0. 0. 0. 0.]'\n",
            " b'[0. 1. 0. 0. 0. 0. 0. 0. 0. 0. 0. 0. 0. 0. 0. 0. 0. 0. 0. 0. 0. 0. 0. 0.\\n 0. 0. 0. 0.]'\n",
            " b'[0. 0. 0. 0. 0. 0. 0. 0. 0. 0. 0. 0. 0. 0. 0. 0. 0. 0. 0. 0. 1. 0. 0. 0.\\n 0. 0. 0. 0.]'\n",
            " b'[0. 0. 0. 0. 0. 0. 0. 0. 0. 0. 0. 0. 0. 0. 0. 0. 1. 0. 0. 0. 0. 0. 0. 0.\\n 0. 0. 0. 0.]'\n",
            " b'[0. 0. 0. 0. 0. 0. 0. 0. 0. 0. 0. 0. 0. 0. 0. 0. 0. 0. 0. 0. 0. 0. 0. 0.\\n 0. 0. 0. 1.]'\n",
            " b'[0. 0. 0. 0. 0. 0. 0. 0. 0. 0. 0. 0. 0. 1. 0. 0. 0. 0. 0. 0. 0. 0. 0. 0.\\n 0. 0. 0. 0.]'\n",
            " b'[0. 0. 0. 0. 0. 0. 0. 0. 0. 0. 0. 0. 0. 0. 0. 0. 1. 0. 0. 0. 0. 0. 0. 0.\\n 0. 0. 0. 0.]'\n",
            " b'[0. 0. 0. 0. 0. 0. 0. 0. 0. 0. 0. 0. 0. 0. 0. 0. 0. 0. 0. 0. 1. 0. 0. 0.\\n 0. 0. 0. 0.]'\n",
            " b'[0. 0. 0. 0. 0. 0. 0. 0. 0. 0. 0. 0. 0. 0. 0. 0. 0. 0. 0. 0. 0. 0. 0. 1.\\n 0. 0. 0. 0.]'\n",
            " b'[1. 0. 0. 0. 0. 0. 0. 0. 0. 0. 0. 0. 0. 0. 0. 0. 0. 0. 0. 0. 0. 0. 0. 0.\\n 0. 0. 0. 0.]'\n",
            " b'[0. 0. 0. 0. 0. 0. 0. 0. 0. 0. 0. 0. 0. 0. 0. 0. 0. 0. 0. 0. 0. 0. 0. 1.\\n 0. 0. 0. 0.]'\n",
            " b'[0. 0. 0. 0. 0. 0. 0. 0. 0. 0. 0. 0. 0. 0. 0. 0. 0. 0. 0. 0. 1. 0. 0. 0.\\n 0. 0. 0. 0.]'\n",
            " b'[0. 0. 0. 0. 0. 0. 0. 0. 0. 0. 0. 0. 0. 1. 0. 0. 0. 0. 0. 0. 0. 0. 0. 0.\\n 0. 0. 0. 0.]'\n",
            " b'[1. 0. 0. 0. 0. 0. 0. 0. 0. 0. 0. 0. 0. 0. 0. 0. 0. 0. 0. 0. 0. 0. 0. 0.\\n 0. 0. 0. 0.]'\n",
            " b'[0. 0. 0. 0. 0. 0. 0. 0. 0. 0. 0. 0. 0. 0. 0. 0. 0. 0. 0. 0. 0. 1. 0. 0.\\n 0. 0. 0. 0.]'\n",
            " b'[0. 0. 0. 0. 0. 0. 0. 0. 0. 0. 0. 1. 0. 0. 0. 0. 0. 0. 0. 0. 0. 0. 0. 0.\\n 0. 0. 0. 0.]'\n",
            " b'[0. 0. 0. 0. 0. 0. 0. 0. 0. 0. 0. 0. 0. 0. 0. 0. 0. 0. 0. 0. 1. 0. 0. 0.\\n 0. 0. 0. 0.]'\n",
            " b'[0. 0. 0. 0. 0. 0. 0. 0. 0. 0. 0. 0. 0. 0. 0. 1. 0. 0. 0. 0. 0. 0. 0. 0.\\n 0. 0. 0. 0.]'\n",
            " b'[0. 1. 0. 0. 0. 0. 0. 0. 0. 0. 0. 0. 0. 0. 0. 0. 0. 0. 0. 0. 0. 0. 0. 0.\\n 0. 0. 0. 0.]'\n",
            " b'[0. 0. 0. 0. 0. 0. 0. 0. 0. 0. 0. 0. 0. 0. 0. 0. 0. 0. 0. 0. 0. 0. 0. 0.\\n 0. 0. 0. 1.]'\n",
            " b'[0. 0. 0. 0. 0. 0. 0. 0. 0. 0. 0. 0. 0. 0. 0. 0. 0. 0. 0. 0. 1. 0. 0. 0.\\n 0. 0. 0. 0.]'\n",
            " b'[0. 0. 0. 0. 0. 0. 0. 0. 0. 0. 0. 0. 0. 0. 0. 0. 0. 0. 0. 0. 0. 0. 0. 0.\\n 1. 0. 0. 0.]'\n",
            " b'[0. 0. 0. 0. 0. 0. 0. 0. 0. 0. 0. 0. 0. 0. 0. 0. 0. 0. 0. 0. 1. 0. 0. 0.\\n 0. 0. 0. 0.]'\n",
            " b'[0. 1. 0. 0. 0. 0. 0. 0. 0. 0. 0. 0. 0. 0. 0. 0. 0. 0. 0. 0. 0. 0. 0. 0.\\n 0. 0. 0. 0.]'\n",
            " b'[0. 0. 0. 0. 0. 0. 0. 0. 0. 0. 0. 0. 0. 0. 0. 0. 0. 0. 0. 0. 1. 0. 0. 0.\\n 0. 0. 0. 0.]'\n",
            " b'[0. 0. 0. 0. 0. 0. 0. 0. 0. 0. 0. 0. 0. 1. 0. 0. 0. 0. 0. 0. 0. 0. 0. 0.\\n 0. 0. 0. 0.]'\n",
            " b'[0. 0. 0. 0. 0. 0. 0. 0. 0. 0. 0. 0. 0. 0. 0. 0. 0. 0. 0. 0. 1. 0. 0. 0.\\n 0. 0. 0. 0.]'\n",
            " b'[0. 0. 0. 0. 0. 0. 0. 0. 0. 0. 0. 0. 0. 0. 0. 0. 0. 0. 0. 0. 1. 0. 0. 0.\\n 0. 0. 0. 0.]'\n",
            " b'[0. 0. 0. 0. 0. 0. 0. 0. 0. 0. 0. 0. 0. 1. 0. 0. 0. 0. 0. 0. 0. 0. 0. 0.\\n 0. 0. 0. 0.]'\n",
            " b'[0. 0. 0. 0. 0. 0. 0. 0. 0. 0. 0. 0. 0. 0. 0. 0. 0. 0. 0. 0. 0. 0. 0. 0.\\n 0. 0. 0. 1.]'\n",
            " b'[0. 0. 0. 0. 0. 0. 0. 0. 0. 0. 0. 1. 0. 0. 0. 0. 0. 0. 0. 0. 0. 0. 0. 0.\\n 0. 0. 0. 0.]'\n",
            " b'[0. 0. 0. 1. 0. 0. 0. 0. 0. 0. 0. 0. 0. 0. 0. 0. 0. 0. 0. 0. 0. 0. 0. 0.\\n 0. 0. 0. 0.]'\n",
            " b'[0. 0. 0. 0. 0. 0. 0. 0. 0. 0. 0. 0. 0. 0. 0. 0. 0. 0. 1. 0. 0. 0. 0. 0.\\n 0. 0. 0. 0.]'\n",
            " b'[0. 1. 0. 0. 0. 0. 0. 0. 0. 0. 0. 0. 0. 0. 0. 0. 0. 0. 0. 0. 0. 0. 0. 0.\\n 0. 0. 0. 0.]'\n",
            " b'[0. 0. 0. 0. 0. 0. 0. 0. 0. 0. 0. 0. 0. 0. 0. 0. 0. 0. 0. 0. 1. 0. 0. 0.\\n 0. 0. 0. 0.]'\n",
            " b'[0. 0. 0. 0. 0. 0. 0. 0. 0. 0. 0. 0. 0. 0. 0. 0. 0. 0. 0. 0. 0. 0. 0. 0.\\n 1. 0. 0. 0.]'\n",
            " b'[0. 0. 0. 0. 0. 0. 0. 0. 0. 0. 0. 0. 0. 0. 0. 0. 0. 0. 0. 0. 0. 0. 0. 0.\\n 0. 0. 0. 1.]'\n",
            " b'[0. 0. 0. 0. 0. 0. 0. 0. 0. 0. 0. 0. 0. 0. 0. 0. 0. 0. 0. 0. 0. 0. 0. 0.\\n 0. 1. 0. 0.]'\n",
            " b'[0. 0. 0. 1. 0. 0. 0. 0. 0. 0. 0. 0. 0. 0. 0. 0. 0. 0. 0. 0. 0. 0. 0. 0.\\n 0. 0. 0. 0.]'\n",
            " b'[0. 0. 0. 0. 0. 0. 0. 0. 0. 0. 0. 0. 0. 0. 0. 0. 0. 0. 0. 0. 1. 0. 0. 0.\\n 0. 0. 0. 0.]'\n",
            " b'[0. 0. 0. 0. 0. 0. 0. 0. 0. 0. 0. 0. 0. 0. 0. 0. 0. 1. 0. 0. 0. 0. 0. 0.\\n 0. 0. 0. 0.]'\n",
            " b'[0. 0. 0. 0. 0. 0. 0. 0. 0. 0. 0. 0. 0. 0. 0. 0. 0. 0. 0. 0. 0. 0. 0. 0.\\n 0. 1. 0. 0.]'], shape=(64,), dtype=string)\n"
          ]
        }
      ]
    },
    {
      "cell_type": "code",
      "source": [
        "from tensorflow.keras.applications import EfficientNetB0\n",
        "from transformers import BertTokenizer, TFBertForSequenceClassification,TFBertModel"
      ],
      "metadata": {
        "id": "uXwpbra2oa5J"
      },
      "execution_count": null,
      "outputs": []
    },
    {
      "cell_type": "code",
      "source": [
        ""
      ],
      "metadata": {
        "id": "VduaahYhaeNm"
      },
      "execution_count": null,
      "outputs": []
    },
    {
      "cell_type": "code",
      "source": [
        "input1 = keras.layers.Input(shape = (320,480,3,))\n",
        "input2 = tf.keras.layers.Input((256,), dtype=tf.int32)\n",
        "attention = tf.keras.layers.Input((256,), dtype=tf.int32)\n",
        "\n",
        "effnet = EfficientNetB0(weights='imagenet')\n",
        "x = effnet(input1)\n",
        "\n",
        "bert_model = TFBertModel.from_pretrained(\"bert-base-cased\")\n",
        "q_embedding = bert_model(input2, attention_mask=attention)[0]\n",
        "q = tf.keras.layers.GlobalAveragePooling1D()(q_embedding)\n",
        "y = tf.keras.layers.Dropout(0.2)(q)\n",
        "y = tf.keras.layers.Dense(256, activation='relu')(y)\n",
        "\n",
        "z = tf.keras.layers.Concatenate(axis=1)([x, y])\n",
        "\n",
        "output = layers.Dense(28,activation = \"softmax\")(z)\n",
        "\n",
        "model = keras.models.Model(inputs = [input1,input2,attention],outputs = output)\n"
      ],
      "metadata": {
        "colab": {
          "base_uri": "https://localhost:8080/"
        },
        "id": "RbahPoRfeTwu",
        "outputId": "88eac65d-0f57-4b83-d425-be2e7f6c633f"
      },
      "execution_count": null,
      "outputs": [
        {
          "output_type": "stream",
          "name": "stdout",
          "text": [
            "WARNING:tensorflow:Model was constructed with shape (None, 224, 224, 3) for input KerasTensor(type_spec=TensorSpec(shape=(None, 224, 224, 3), dtype=tf.float32, name='input_139'), name='input_139', description=\"created by layer 'input_139'\"), but it was called on an input with incompatible shape (None, 320, 480, 3).\n"
          ]
        },
        {
          "output_type": "stream",
          "name": "stderr",
          "text": [
            "WARNING:tensorflow:Model was constructed with shape (None, 224, 224, 3) for input KerasTensor(type_spec=TensorSpec(shape=(None, 224, 224, 3), dtype=tf.float32, name='input_139'), name='input_139', description=\"created by layer 'input_139'\"), but it was called on an input with incompatible shape (None, 320, 480, 3).\n",
            "Some layers from the model checkpoint at bert-base-cased were not used when initializing TFBertModel: ['nsp___cls', 'mlm___cls']\n",
            "- This IS expected if you are initializing TFBertModel from the checkpoint of a model trained on another task or with another architecture (e.g. initializing a BertForSequenceClassification model from a BertForPreTraining model).\n",
            "- This IS NOT expected if you are initializing TFBertModel from the checkpoint of a model that you expect to be exactly identical (initializing a BertForSequenceClassification model from a BertForSequenceClassification model).\n",
            "All the layers of TFBertModel were initialized from the model checkpoint at bert-base-cased.\n",
            "If your task is similar to the task the model of the checkpoint was trained on, you can already use TFBertModel for predictions without further training.\n"
          ]
        }
      ]
    },
    {
      "cell_type": "code",
      "source": [
        "model.summary()"
      ],
      "metadata": {
        "colab": {
          "base_uri": "https://localhost:8080/"
        },
        "id": "lDsh-E1Nevoc",
        "outputId": "7d461960-2d6e-46e8-e4b8-4a83ae66c5dd"
      },
      "execution_count": null,
      "outputs": [
        {
          "output_type": "stream",
          "name": "stdout",
          "text": [
            "Model: \"model_22\"\n",
            "__________________________________________________________________________________________________\n",
            " Layer (type)                   Output Shape         Param #     Connected to                     \n",
            "==================================================================================================\n",
            " input_137 (InputLayer)         [(None, 256)]        0           []                               \n",
            "                                                                                                  \n",
            " input_138 (InputLayer)         [(None, 256)]        0           []                               \n",
            "                                                                                                  \n",
            " tf_bert_model_7 (TFBertModel)  TFBaseModelOutputWi  108310272   ['input_137[0][0]',              \n",
            "                                thPoolingAndCrossAt               'input_138[0][0]']              \n",
            "                                tentions(last_hidde                                               \n",
            "                                n_state=(None, 256,                                               \n",
            "                                 768),                                                            \n",
            "                                 pooler_output=(Non                                               \n",
            "                                e, 768),                                                          \n",
            "                                 past_key_values=No                                               \n",
            "                                ne, hidden_states=N                                               \n",
            "                                one, attentions=Non                                               \n",
            "                                e, cross_attentions                                               \n",
            "                                =None)                                                            \n",
            "                                                                                                  \n",
            " global_average_pooling1d_7 (Gl  (None, 768)         0           ['tf_bert_model_7[0][0]']        \n",
            " obalAveragePooling1D)                                                                            \n",
            "                                                                                                  \n",
            " input_136 (InputLayer)         [(None, 320, 480, 3  0           []                               \n",
            "                                )]                                                                \n",
            "                                                                                                  \n",
            " dropout_1708 (Dropout)         (None, 768)          0           ['global_average_pooling1d_7[0][0\n",
            "                                                                 ]']                              \n",
            "                                                                                                  \n",
            " efficientnetb0 (Functional)    (None, 1000)         5330571     ['input_136[0][0]']              \n",
            "                                                                                                  \n",
            " dense_39 (Dense)               (None, 256)          196864      ['dropout_1708[0][0]']           \n",
            "                                                                                                  \n",
            " concatenate_18 (Concatenate)   (None, 1256)         0           ['efficientnetb0[0][0]',         \n",
            "                                                                  'dense_39[0][0]']               \n",
            "                                                                                                  \n",
            " dense_40 (Dense)               (None, 28)           35196       ['concatenate_18[0][0]']         \n",
            "                                                                                                  \n",
            "==================================================================================================\n",
            "Total params: 113,872,903\n",
            "Trainable params: 113,830,880\n",
            "Non-trainable params: 42,023\n",
            "__________________________________________________________________________________________________\n"
          ]
        }
      ]
    },
    {
      "cell_type": "code",
      "source": [
        "\n",
        "model.compile(\n",
        "    loss=keras.losses.CategoricalCrossentropy(),\n",
        "    optimizer=keras.optimizers.Adam(),\n",
        "    metrics=[\"accuracy\"],\n",
        ")"
      ],
      "metadata": {
        "id": "rPAEeV_tDLp4"
      },
      "execution_count": null,
      "outputs": []
    },
    {
      "cell_type": "code",
      "source": [
        "history = model.fit(tf_dataset, epochs=2)\n"
      ],
      "metadata": {
        "colab": {
          "base_uri": "https://localhost:8080/",
          "height": 1000
        },
        "id": "ktUMcTnp8Ssp",
        "outputId": "ea373845-4519-439b-b47b-6a7747ef6bde"
      },
      "execution_count": null,
      "outputs": [
        {
          "output_type": "stream",
          "name": "stdout",
          "text": [
            "Epoch 1/2\n",
            "WARNING:tensorflow:Model was constructed with shape (None, 256) for input KerasTensor(type_spec=TensorSpec(shape=(None, 256), dtype=tf.int32, name='input_133'), name='input_133', description=\"created by layer 'input_133'\"), but it was called on an input with incompatible shape (None,).\n"
          ]
        },
        {
          "output_type": "stream",
          "name": "stderr",
          "text": [
            "WARNING:tensorflow:Model was constructed with shape (None, 256) for input KerasTensor(type_spec=TensorSpec(shape=(None, 256), dtype=tf.int32, name='input_133'), name='input_133', description=\"created by layer 'input_133'\"), but it was called on an input with incompatible shape (None,).\n"
          ]
        },
        {
          "output_type": "stream",
          "name": "stdout",
          "text": [
            "WARNING:tensorflow:Model was constructed with shape (None, 256) for input KerasTensor(type_spec=TensorSpec(shape=(None, 256), dtype=tf.int32, name='input_134'), name='input_134', description=\"created by layer 'input_134'\"), but it was called on an input with incompatible shape (None,).\n"
          ]
        },
        {
          "output_type": "stream",
          "name": "stderr",
          "text": [
            "WARNING:tensorflow:Model was constructed with shape (None, 256) for input KerasTensor(type_spec=TensorSpec(shape=(None, 256), dtype=tf.int32, name='input_134'), name='input_134', description=\"created by layer 'input_134'\"), but it was called on an input with incompatible shape (None,).\n"
          ]
        },
        {
          "output_type": "error",
          "ename": "ValueError",
          "evalue": "ignored",
          "traceback": [
            "\u001b[0;31m---------------------------------------------------------------------------\u001b[0m",
            "\u001b[0;31mValueError\u001b[0m                                Traceback (most recent call last)",
            "\u001b[0;32m<ipython-input-367-2715ad0cec4a>\u001b[0m in \u001b[0;36m<module>\u001b[0;34m()\u001b[0m\n\u001b[0;32m----> 1\u001b[0;31m \u001b[0mhistory\u001b[0m \u001b[0;34m=\u001b[0m \u001b[0mmodel\u001b[0m\u001b[0;34m.\u001b[0m\u001b[0mfit\u001b[0m\u001b[0;34m(\u001b[0m\u001b[0mtf_dataset\u001b[0m\u001b[0;34m,\u001b[0m \u001b[0mepochs\u001b[0m\u001b[0;34m=\u001b[0m\u001b[0;36m2\u001b[0m\u001b[0;34m)\u001b[0m\u001b[0;34m\u001b[0m\u001b[0;34m\u001b[0m\u001b[0m\n\u001b[0m",
            "\u001b[0;32m/usr/local/lib/python3.7/dist-packages/keras/utils/traceback_utils.py\u001b[0m in \u001b[0;36merror_handler\u001b[0;34m(*args, **kwargs)\u001b[0m\n\u001b[1;32m     65\u001b[0m     \u001b[0;32mexcept\u001b[0m \u001b[0mException\u001b[0m \u001b[0;32mas\u001b[0m \u001b[0me\u001b[0m\u001b[0;34m:\u001b[0m  \u001b[0;31m# pylint: disable=broad-except\u001b[0m\u001b[0;34m\u001b[0m\u001b[0;34m\u001b[0m\u001b[0m\n\u001b[1;32m     66\u001b[0m       \u001b[0mfiltered_tb\u001b[0m \u001b[0;34m=\u001b[0m \u001b[0m_process_traceback_frames\u001b[0m\u001b[0;34m(\u001b[0m\u001b[0me\u001b[0m\u001b[0;34m.\u001b[0m\u001b[0m__traceback__\u001b[0m\u001b[0;34m)\u001b[0m\u001b[0;34m\u001b[0m\u001b[0;34m\u001b[0m\u001b[0m\n\u001b[0;32m---> 67\u001b[0;31m       \u001b[0;32mraise\u001b[0m \u001b[0me\u001b[0m\u001b[0;34m.\u001b[0m\u001b[0mwith_traceback\u001b[0m\u001b[0;34m(\u001b[0m\u001b[0mfiltered_tb\u001b[0m\u001b[0;34m)\u001b[0m \u001b[0;32mfrom\u001b[0m \u001b[0;32mNone\u001b[0m\u001b[0;34m\u001b[0m\u001b[0;34m\u001b[0m\u001b[0m\n\u001b[0m\u001b[1;32m     68\u001b[0m     \u001b[0;32mfinally\u001b[0m\u001b[0;34m:\u001b[0m\u001b[0;34m\u001b[0m\u001b[0;34m\u001b[0m\u001b[0m\n\u001b[1;32m     69\u001b[0m       \u001b[0;32mdel\u001b[0m \u001b[0mfiltered_tb\u001b[0m\u001b[0;34m\u001b[0m\u001b[0;34m\u001b[0m\u001b[0m\n",
            "\u001b[0;32m/usr/local/lib/python3.7/dist-packages/tensorflow/python/framework/func_graph.py\u001b[0m in \u001b[0;36mautograph_handler\u001b[0;34m(*args, **kwargs)\u001b[0m\n\u001b[1;32m   1145\u001b[0m           \u001b[0;32mexcept\u001b[0m \u001b[0mException\u001b[0m \u001b[0;32mas\u001b[0m \u001b[0me\u001b[0m\u001b[0;34m:\u001b[0m  \u001b[0;31m# pylint:disable=broad-except\u001b[0m\u001b[0;34m\u001b[0m\u001b[0;34m\u001b[0m\u001b[0m\n\u001b[1;32m   1146\u001b[0m             \u001b[0;32mif\u001b[0m \u001b[0mhasattr\u001b[0m\u001b[0;34m(\u001b[0m\u001b[0me\u001b[0m\u001b[0;34m,\u001b[0m \u001b[0;34m\"ag_error_metadata\"\u001b[0m\u001b[0;34m)\u001b[0m\u001b[0;34m:\u001b[0m\u001b[0;34m\u001b[0m\u001b[0;34m\u001b[0m\u001b[0m\n\u001b[0;32m-> 1147\u001b[0;31m               \u001b[0;32mraise\u001b[0m \u001b[0me\u001b[0m\u001b[0;34m.\u001b[0m\u001b[0mag_error_metadata\u001b[0m\u001b[0;34m.\u001b[0m\u001b[0mto_exception\u001b[0m\u001b[0;34m(\u001b[0m\u001b[0me\u001b[0m\u001b[0;34m)\u001b[0m\u001b[0;34m\u001b[0m\u001b[0;34m\u001b[0m\u001b[0m\n\u001b[0m\u001b[1;32m   1148\u001b[0m             \u001b[0;32melse\u001b[0m\u001b[0;34m:\u001b[0m\u001b[0;34m\u001b[0m\u001b[0;34m\u001b[0m\u001b[0m\n\u001b[1;32m   1149\u001b[0m               \u001b[0;32mraise\u001b[0m\u001b[0;34m\u001b[0m\u001b[0;34m\u001b[0m\u001b[0m\n",
            "\u001b[0;31mValueError\u001b[0m: in user code:\n\n    File \"/usr/local/lib/python3.7/dist-packages/keras/engine/training.py\", line 1021, in train_function  *\n        return step_function(self, iterator)\n    File \"/usr/local/lib/python3.7/dist-packages/keras/engine/training.py\", line 1010, in step_function  **\n        outputs = model.distribute_strategy.run(run_step, args=(data,))\n    File \"/usr/local/lib/python3.7/dist-packages/keras/engine/training.py\", line 1000, in run_step  **\n        outputs = model.train_step(data)\n    File \"/usr/local/lib/python3.7/dist-packages/keras/engine/training.py\", line 859, in train_step\n        y_pred = self(x, training=True)\n    File \"/usr/local/lib/python3.7/dist-packages/keras/utils/traceback_utils.py\", line 67, in error_handler\n        raise e.with_traceback(filtered_tb) from None\n\n    ValueError: Exception encountered when calling layer \"tf_bert_model_6\" (type TFBertModel).\n    \n    in user code:\n    \n        File \"/usr/local/lib/python3.7/dist-packages/transformers/modeling_tf_utils.py\", line 1619, in run_call_with_unpacked_inputs  *\n            return func(self, **unpacked_inputs)\n        File \"/usr/local/lib/python3.7/dist-packages/transformers/models/bert/modeling_tf_bert.py\", line 1090, in call  *\n            outputs = self.bert(\n        File \"/usr/local/lib/python3.7/dist-packages/keras/utils/traceback_utils.py\", line 67, in error_handler  **\n            raise e.with_traceback(filtered_tb) from None\n    \n        ValueError: Exception encountered when calling layer \"bert\" (type TFBertMainLayer).\n        \n        in user code:\n        \n            File \"/usr/local/lib/python3.7/dist-packages/transformers/modeling_tf_utils.py\", line 1619, in run_call_with_unpacked_inputs  *\n                return func(self, **unpacked_inputs)\n            File \"/usr/local/lib/python3.7/dist-packages/transformers/models/bert/modeling_tf_bert.py\", line 754, in call  *\n                batch_size, seq_length = input_shape\n        \n            ValueError: not enough values to unpack (expected 2, got 1)\n        \n        \n        Call arguments received:\n          • self=tf.Tensor(shape=(None,), dtype=int32)\n          • input_ids=None\n          • attention_mask=tf.Tensor(shape=(None,), dtype=int32)\n          • token_type_ids=None\n          • position_ids=None\n          • head_mask=None\n          • inputs_embeds=None\n          • encoder_hidden_states=None\n          • encoder_attention_mask=None\n          • past_key_values=None\n          • use_cache=True\n          • output_attentions=False\n          • output_hidden_states=False\n          • return_dict=True\n          • training=True\n    \n    \n    Call arguments received:\n      • self=tf.Tensor(shape=(None,), dtype=int32)\n      • input_ids=None\n      • attention_mask=tf.Tensor(shape=(None,), dtype=int32)\n      • token_type_ids=None\n      • position_ids=None\n      • head_mask=None\n      • inputs_embeds=None\n      • encoder_hidden_states=None\n      • encoder_attention_mask=None\n      • past_key_values=None\n      • use_cache=None\n      • output_attentions=None\n      • output_hidden_states=None\n      • return_dict=None\n      • training=True\n"
          ]
        }
      ]
    },
    {
      "cell_type": "code",
      "source": [
        "# def create_model():\n",
        "#     q_id = tf.keras.layers.Input((256,), dtype=tf.int32)\n",
        "#     q_mask = tf.keras.layers.Input((256,), dtype=tf.int32)\n",
        "    \n",
        "#     bert_model = TFBertModel.from_pretrained(\"bert-base-cased\")\n",
        "    \n",
        "#     # if config.output_hidden_states = True, obtain hidden states via bert_model(...)[-1]\n",
        "#     q_embedding = bert_model(q_id, attention_mask=q_mask)[0]\n",
        "    \n",
        "#     q = tf.keras.layers.GlobalAveragePooling1D()(q_embedding)\n",
        "    \n",
        "#     x = tf.keras.layers.Dropout(0.2)(q)\n",
        "    \n",
        "#     x = tf.keras.layers.Dense(256, activation='relu')(x)\n",
        "\n",
        "#     model = tf.keras.models.Model(inputs=[q_id, q_mask], outputs=x)\n",
        "    \n",
        "#     return model"
      ],
      "metadata": {
        "id": "BKAmyIpaA1SK"
      },
      "execution_count": null,
      "outputs": []
    },
    {
      "cell_type": "code",
      "source": [
        ""
      ],
      "metadata": {
        "id": "GDDZeg8lDaKK"
      },
      "execution_count": null,
      "outputs": []
    },
    {
      "cell_type": "code",
      "source": [
        "model.summary()"
      ],
      "metadata": {
        "colab": {
          "base_uri": "https://localhost:8080/"
        },
        "id": "31xC1G47DqfT",
        "outputId": "9da6274b-f643-421f-fe13-566020171acb"
      },
      "execution_count": null,
      "outputs": [
        {
          "output_type": "stream",
          "name": "stdout",
          "text": [
            "Model: \"model_18\"\n",
            "__________________________________________________________________________________________________\n",
            " Layer (type)                   Output Shape         Param #     Connected to                     \n",
            "==================================================================================================\n",
            " input_122 (InputLayer)         [(None, 256)]        0           []                               \n",
            "                                                                                                  \n",
            " input_123 (InputLayer)         [(None, 256)]        0           []                               \n",
            "                                                                                                  \n",
            " tf_bert_model_3 (TFBertModel)  TFBaseModelOutputWi  108310272   ['input_122[0][0]',              \n",
            "                                thPoolingAndCrossAt               'input_123[0][0]']              \n",
            "                                tentions(last_hidde                                               \n",
            "                                n_state=(None, 256,                                               \n",
            "                                 768),                                                            \n",
            "                                 pooler_output=(Non                                               \n",
            "                                e, 768),                                                          \n",
            "                                 past_key_values=No                                               \n",
            "                                ne, hidden_states=N                                               \n",
            "                                one, attentions=Non                                               \n",
            "                                e, cross_attentions                                               \n",
            "                                =None)                                                            \n",
            "                                                                                                  \n",
            " global_average_pooling1d_3 (Gl  (None, 768)         0           ['tf_bert_model_3[0][0]']        \n",
            " obalAveragePooling1D)                                                                            \n",
            "                                                                                                  \n",
            " dropout_1556 (Dropout)         (None, 768)          0           ['global_average_pooling1d_3[0][0\n",
            "                                                                 ]']                              \n",
            "                                                                                                  \n",
            " dense_32 (Dense)               (None, 30)           23070       ['dropout_1556[0][0]']           \n",
            "                                                                                                  \n",
            "==================================================================================================\n",
            "Total params: 108,333,342\n",
            "Trainable params: 108,333,342\n",
            "Non-trainable params: 0\n",
            "__________________________________________________________________________________________________\n"
          ]
        }
      ]
    },
    {
      "cell_type": "code",
      "source": [
        ""
      ],
      "metadata": {
        "id": "cbY8Ocd5Dv9K"
      },
      "execution_count": null,
      "outputs": []
    }
  ]
}